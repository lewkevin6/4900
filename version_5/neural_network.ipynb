{
 "cells": [
  {
   "cell_type": "code",
   "execution_count": 91,
   "metadata": {},
   "outputs": [],
   "source": [
    "import pandas as pd\n",
    "from sklearn.model_selection import train_test_split\n",
    "from sklearn.compose import ColumnTransformer\n",
    "from sklearn.preprocessing import OneHotEncoder, StandardScaler\n",
    "import matplotlib.pyplot as plt\n",
    "\n",
    "\n",
    "data = pd.read_csv(\"healthcare-dataset-stroke-data.csv\")\n",
    "\n",
    "balanced_data = data.dropna()\n",
    "balanced_data = balanced_data.drop(columns= \"id\")\n",
    "balanced_data = balanced_data[balanced_data.age > 20]\n",
    "balanced_data = balanced_data.drop(balanced_data.index[balanced_data[\"gender\"] == \"Other\"])\n",
    "balanced_data = balanced_data.drop(balanced_data.index[balanced_data[\"work_type\"] == \"Never_worked\"])\n",
    "\n",
    "features = ['gender', 'age', 'hypertension', 'heart_disease', 'ever_married', 'work_type', 'Residence_type', 'avg_glucose_level', \"bmi\", \"smoking_status\"]\n",
    "cat_columns = ['gender', 'ever_married', 'work_type', 'Residence_type', 'smoking_status', 'hypertension', 'heart_disease']\n",
    "num_columns = ['age', 'avg_glucose_level', 'bmi']\n",
    "\n",
    "bal_data_train, bal_data_test = train_test_split(balanced_data, train_size = 0.8, random_state=1, stratify= balanced_data[\"stroke\"])\n",
    "bal_data_train, bal_data_val = train_test_split(bal_data_train, train_size = 0.8, random_state=1)\n",
    "\n",
    "X_train = bal_data_train.drop('stroke', axis = 1)\n",
    "y_train = bal_data_train['stroke']\n",
    "\n",
    "X_val = bal_data_val.drop('stroke', axis = 1)\n",
    "y_val = bal_data_val['stroke']\n",
    "\n",
    "X_test = bal_data_test.drop('stroke', axis = 1)\n",
    "y_test = bal_data_test['stroke']"
   ]
  },
  {
   "cell_type": "code",
   "execution_count": 92,
   "metadata": {},
   "outputs": [],
   "source": [
    "preprocessing = ColumnTransformer([\n",
    "    ('one-hot-encoder', OneHotEncoder(sparse_output=False), cat_columns),\n",
    "    ('scaler', StandardScaler(), num_columns)\n",
    "])"
   ]
  },
  {
   "cell_type": "code",
   "execution_count": 93,
   "metadata": {},
   "outputs": [],
   "source": [
    "X_train2 = preprocessing.fit_transform(X_train)\n",
    "X_val2 = preprocessing.transform(X_val)\n",
    "X_test2 = preprocessing.transform(X_test)"
   ]
  },
  {
   "cell_type": "markdown",
   "metadata": {},
   "source": [
    "Initial model starts at 0.07 recall"
   ]
  },
  {
   "cell_type": "code",
   "execution_count": 94,
   "metadata": {},
   "outputs": [],
   "source": [
    "import tensorflow as tf\n",
    "\n",
    "tf.random.set_seed(1)\n",
    "model = tf.keras.Sequential()\n",
    "model.add(tf.keras.layers.Input(shape=20))\n",
    "\n",
    "\n",
    "model.add(tf.keras.layers.Dense(512, 'relu', kernel_regularizer= tf.keras.regularizers.l2(l=0.0001)))\n",
    "\n",
    "model.add(tf.keras.layers.Dense(256, 'relu', kernel_regularizer= tf.keras.regularizers.l2(l=0.0001)))\n",
    "\n",
    "model.add(tf.keras.layers.Dense(128, 'relu', kernel_regularizer= tf.keras.regularizers.l2(l=0.0001)))\n",
    "\n",
    "\n",
    "model.add(tf.keras.layers.Dense(1, \"sigmoid\"))\n",
    "model.compile(loss=\"binary_crossentropy\", optimizer=\"adam\", metrics=['Recall'])\n",
    "\n",
    "#, kernel_regularizer= tf.keras.regularizers.l2(l=0.0001)) Best results so far\n",
    "# model.add(tf.keras.layers.BatchNormalization()) Limits recall score\n",
    "# Dropout reduced overall recall but dosent improve val score"
   ]
  },
  {
   "cell_type": "code",
   "execution_count": 95,
   "metadata": {},
   "outputs": [
    {
     "name": "stdout",
     "output_type": "stream",
     "text": [
      "Model: \"sequential_10\"\n",
      "_________________________________________________________________\n",
      " Layer (type)                Output Shape              Param #   \n",
      "=================================================================\n",
      " dense_43 (Dense)            (None, 512)               10752     \n",
      "                                                                 \n",
      " dense_44 (Dense)            (None, 256)               131328    \n",
      "                                                                 \n",
      " dense_45 (Dense)            (None, 128)               32896     \n",
      "                                                                 \n",
      " dense_46 (Dense)            (None, 1)                 129       \n",
      "                                                                 \n",
      "=================================================================\n",
      "Total params: 175,105\n",
      "Trainable params: 175,105\n",
      "Non-trainable params: 0\n",
      "_________________________________________________________________\n"
     ]
    }
   ],
   "source": [
    "model.summary()\n",
    "\n",
    "callback = tf.keras.callbacks.EarlyStopping(monitor='loss', patience=5)"
   ]
  },
  {
   "cell_type": "code",
   "execution_count": 96,
   "metadata": {},
   "outputs": [
    {
     "name": "stdout",
     "output_type": "stream",
     "text": [
      "Epoch 1/100\n",
      "79/79 [==============================] - 1s 7ms/step - loss: 0.2541 - recall: 0.0078 - val_loss: 0.2517 - val_recall: 0.0000e+00\n",
      "Epoch 2/100\n",
      "79/79 [==============================] - 0s 5ms/step - loss: 0.2099 - recall: 0.0000e+00 - val_loss: 0.2325 - val_recall: 0.0000e+00\n",
      "Epoch 3/100\n",
      "79/79 [==============================] - 0s 5ms/step - loss: 0.2016 - recall: 0.0000e+00 - val_loss: 0.2298 - val_recall: 0.0000e+00\n",
      "Epoch 4/100\n",
      "79/79 [==============================] - 0s 5ms/step - loss: 0.1910 - recall: 0.0000e+00 - val_loss: 0.2224 - val_recall: 0.0000e+00\n",
      "Epoch 5/100\n",
      "79/79 [==============================] - 0s 5ms/step - loss: 0.1869 - recall: 0.0000e+00 - val_loss: 0.2239 - val_recall: 0.0000e+00\n",
      "Epoch 6/100\n",
      "79/79 [==============================] - 0s 5ms/step - loss: 0.1791 - recall: 0.0000e+00 - val_loss: 0.2271 - val_recall: 0.0000e+00\n",
      "Epoch 7/100\n",
      "79/79 [==============================] - 0s 5ms/step - loss: 0.1746 - recall: 0.0000e+00 - val_loss: 0.2375 - val_recall: 0.0000e+00\n",
      "Epoch 8/100\n",
      "79/79 [==============================] - 0s 5ms/step - loss: 0.1723 - recall: 0.0156 - val_loss: 0.2319 - val_recall: 0.0000e+00\n",
      "Epoch 9/100\n",
      "79/79 [==============================] - 0s 5ms/step - loss: 0.1676 - recall: 0.0078 - val_loss: 0.2336 - val_recall: 0.0000e+00\n",
      "Epoch 10/100\n",
      "79/79 [==============================] - 0s 5ms/step - loss: 0.1614 - recall: 0.0000e+00 - val_loss: 0.2315 - val_recall: 0.0000e+00\n",
      "Epoch 11/100\n",
      "79/79 [==============================] - 0s 5ms/step - loss: 0.1626 - recall: 0.0391 - val_loss: 0.2437 - val_recall: 0.0000e+00\n",
      "Epoch 12/100\n",
      "79/79 [==============================] - 0s 5ms/step - loss: 0.1539 - recall: 0.0547 - val_loss: 0.2443 - val_recall: 0.0000e+00\n",
      "Epoch 13/100\n",
      "79/79 [==============================] - 0s 5ms/step - loss: 0.1537 - recall: 0.0469 - val_loss: 0.2752 - val_recall: 0.0526\n",
      "Epoch 14/100\n",
      "79/79 [==============================] - 0s 5ms/step - loss: 0.1491 - recall: 0.1016 - val_loss: 0.2628 - val_recall: 0.0526\n",
      "Epoch 15/100\n",
      "79/79 [==============================] - 0s 5ms/step - loss: 0.1501 - recall: 0.1094 - val_loss: 0.2655 - val_recall: 0.0789\n",
      "Epoch 16/100\n",
      "79/79 [==============================] - 0s 5ms/step - loss: 0.1405 - recall: 0.1641 - val_loss: 0.2708 - val_recall: 0.0526\n",
      "Epoch 17/100\n",
      "79/79 [==============================] - 0s 5ms/step - loss: 0.1355 - recall: 0.2500 - val_loss: 0.3453 - val_recall: 0.0000e+00\n",
      "Epoch 18/100\n",
      "79/79 [==============================] - 0s 5ms/step - loss: 0.1386 - recall: 0.1875 - val_loss: 0.2955 - val_recall: 0.0789\n",
      "Epoch 19/100\n",
      "79/79 [==============================] - 0s 5ms/step - loss: 0.1306 - recall: 0.2969 - val_loss: 0.3187 - val_recall: 0.1053\n",
      "Epoch 20/100\n",
      "79/79 [==============================] - 0s 5ms/step - loss: 0.1312 - recall: 0.2891 - val_loss: 0.3069 - val_recall: 0.0526\n",
      "Epoch 21/100\n",
      "79/79 [==============================] - 0s 6ms/step - loss: 0.1234 - recall: 0.3203 - val_loss: 0.3586 - val_recall: 0.0526\n",
      "Epoch 22/100\n",
      "79/79 [==============================] - 0s 5ms/step - loss: 0.1285 - recall: 0.3281 - val_loss: 0.3315 - val_recall: 0.0789\n",
      "Epoch 23/100\n",
      "79/79 [==============================] - 0s 5ms/step - loss: 0.1239 - recall: 0.3047 - val_loss: 0.3417 - val_recall: 0.1053\n",
      "Epoch 24/100\n",
      "79/79 [==============================] - 0s 5ms/step - loss: 0.1168 - recall: 0.3828 - val_loss: 0.3590 - val_recall: 0.0000e+00\n",
      "Epoch 25/100\n",
      "79/79 [==============================] - 0s 5ms/step - loss: 0.1110 - recall: 0.4141 - val_loss: 0.3537 - val_recall: 0.0789\n",
      "Epoch 26/100\n",
      "79/79 [==============================] - 0s 5ms/step - loss: 0.1085 - recall: 0.4297 - val_loss: 0.3819 - val_recall: 0.0789\n",
      "Epoch 27/100\n",
      "79/79 [==============================] - 0s 5ms/step - loss: 0.1026 - recall: 0.4688 - val_loss: 0.3792 - val_recall: 0.0526\n",
      "Epoch 28/100\n",
      "79/79 [==============================] - 0s 5ms/step - loss: 0.1061 - recall: 0.4219 - val_loss: 0.4170 - val_recall: 0.0526\n",
      "Epoch 29/100\n",
      "79/79 [==============================] - 0s 5ms/step - loss: 0.1011 - recall: 0.4766 - val_loss: 0.4047 - val_recall: 0.0789\n",
      "Epoch 30/100\n",
      "79/79 [==============================] - 0s 5ms/step - loss: 0.0943 - recall: 0.5703 - val_loss: 0.4430 - val_recall: 0.0263\n",
      "Epoch 31/100\n",
      "79/79 [==============================] - 0s 5ms/step - loss: 0.0982 - recall: 0.5703 - val_loss: 0.4754 - val_recall: 0.0263\n",
      "Epoch 32/100\n",
      "79/79 [==============================] - 0s 5ms/step - loss: 0.0934 - recall: 0.5469 - val_loss: 0.4722 - val_recall: 0.0789\n",
      "Epoch 33/100\n",
      "79/79 [==============================] - 0s 5ms/step - loss: 0.0871 - recall: 0.6094 - val_loss: 0.4653 - val_recall: 0.1053\n",
      "Epoch 34/100\n",
      "79/79 [==============================] - 0s 5ms/step - loss: 0.0956 - recall: 0.5625 - val_loss: 0.4182 - val_recall: 0.1316\n",
      "Epoch 35/100\n",
      "79/79 [==============================] - 0s 5ms/step - loss: 0.0926 - recall: 0.5703 - val_loss: 0.4729 - val_recall: 0.0789\n",
      "Epoch 36/100\n",
      "79/79 [==============================] - 0s 6ms/step - loss: 0.0902 - recall: 0.5469 - val_loss: 0.4740 - val_recall: 0.0789\n",
      "Epoch 37/100\n",
      "79/79 [==============================] - 0s 5ms/step - loss: 0.0800 - recall: 0.6641 - val_loss: 0.5279 - val_recall: 0.0789\n",
      "Epoch 38/100\n",
      "79/79 [==============================] - 0s 5ms/step - loss: 0.0821 - recall: 0.6328 - val_loss: 0.5242 - val_recall: 0.0789\n",
      "Epoch 39/100\n",
      "79/79 [==============================] - 0s 5ms/step - loss: 0.0834 - recall: 0.6016 - val_loss: 0.5882 - val_recall: 0.0000e+00\n",
      "Epoch 40/100\n",
      "79/79 [==============================] - 0s 5ms/step - loss: 0.0825 - recall: 0.6562 - val_loss: 0.5765 - val_recall: 0.0263\n",
      "Epoch 41/100\n",
      "79/79 [==============================] - 0s 6ms/step - loss: 0.0894 - recall: 0.5625 - val_loss: 0.5129 - val_recall: 0.0526\n",
      "Epoch 42/100\n",
      "79/79 [==============================] - 0s 5ms/step - loss: 0.0742 - recall: 0.6797 - val_loss: 0.5326 - val_recall: 0.0526\n",
      "Epoch 43/100\n",
      "79/79 [==============================] - 0s 5ms/step - loss: 0.0715 - recall: 0.6797 - val_loss: 0.5078 - val_recall: 0.0789\n",
      "Epoch 44/100\n",
      "79/79 [==============================] - 0s 5ms/step - loss: 0.0743 - recall: 0.6797 - val_loss: 0.5771 - val_recall: 0.0000e+00\n",
      "Epoch 45/100\n",
      "79/79 [==============================] - 0s 5ms/step - loss: 0.0750 - recall: 0.6641 - val_loss: 0.5909 - val_recall: 0.0526\n",
      "Epoch 46/100\n",
      "79/79 [==============================] - 0s 6ms/step - loss: 0.0702 - recall: 0.6953 - val_loss: 0.5660 - val_recall: 0.0526\n",
      "Epoch 47/100\n",
      "79/79 [==============================] - 0s 5ms/step - loss: 0.0677 - recall: 0.7109 - val_loss: 0.5501 - val_recall: 0.1053\n",
      "Epoch 48/100\n",
      "79/79 [==============================] - 0s 5ms/step - loss: 0.0675 - recall: 0.7344 - val_loss: 0.5811 - val_recall: 0.0526\n",
      "Epoch 49/100\n",
      "79/79 [==============================] - 0s 5ms/step - loss: 0.0775 - recall: 0.6797 - val_loss: 0.5390 - val_recall: 0.1053\n",
      "Epoch 50/100\n",
      "79/79 [==============================] - 0s 5ms/step - loss: 0.0759 - recall: 0.7188 - val_loss: 0.5635 - val_recall: 0.0789\n",
      "Epoch 51/100\n",
      "79/79 [==============================] - 0s 6ms/step - loss: 0.0817 - recall: 0.6484 - val_loss: 0.5128 - val_recall: 0.0526\n",
      "Epoch 52/100\n",
      "79/79 [==============================] - 0s 5ms/step - loss: 0.0665 - recall: 0.7500 - val_loss: 0.5603 - val_recall: 0.1053\n",
      "Epoch 53/100\n",
      "79/79 [==============================] - 0s 5ms/step - loss: 0.0633 - recall: 0.7656 - val_loss: 0.5860 - val_recall: 0.0526\n",
      "Epoch 54/100\n",
      "79/79 [==============================] - 0s 5ms/step - loss: 0.0742 - recall: 0.7344 - val_loss: 0.6462 - val_recall: 0.0000e+00\n",
      "Epoch 55/100\n",
      "79/79 [==============================] - 0s 5ms/step - loss: 0.0699 - recall: 0.7109 - val_loss: 0.6322 - val_recall: 0.0263\n",
      "Epoch 56/100\n",
      "79/79 [==============================] - 0s 6ms/step - loss: 0.0649 - recall: 0.7344 - val_loss: 0.5928 - val_recall: 0.0789\n",
      "Epoch 57/100\n",
      "79/79 [==============================] - 0s 5ms/step - loss: 0.0622 - recall: 0.7812 - val_loss: 0.5853 - val_recall: 0.0789\n",
      "Epoch 58/100\n",
      "79/79 [==============================] - 0s 5ms/step - loss: 0.0659 - recall: 0.7188 - val_loss: 0.6318 - val_recall: 0.0789\n",
      "Epoch 59/100\n",
      "79/79 [==============================] - 0s 5ms/step - loss: 0.0612 - recall: 0.7812 - val_loss: 0.6619 - val_recall: 0.0526\n",
      "Epoch 60/100\n",
      "79/79 [==============================] - 0s 6ms/step - loss: 0.0604 - recall: 0.7422 - val_loss: 0.6344 - val_recall: 0.0789\n",
      "Epoch 61/100\n",
      "79/79 [==============================] - 0s 6ms/step - loss: 0.0572 - recall: 0.7734 - val_loss: 0.6482 - val_recall: 0.0789\n",
      "Epoch 62/100\n",
      "79/79 [==============================] - 0s 6ms/step - loss: 0.0542 - recall: 0.8047 - val_loss: 0.6414 - val_recall: 0.0789\n",
      "Epoch 63/100\n",
      "79/79 [==============================] - 1s 7ms/step - loss: 0.0557 - recall: 0.8281 - val_loss: 0.6520 - val_recall: 0.0789\n",
      "Epoch 64/100\n",
      "79/79 [==============================] - 0s 5ms/step - loss: 0.0627 - recall: 0.7734 - val_loss: 0.6096 - val_recall: 0.0789\n",
      "Epoch 65/100\n",
      "79/79 [==============================] - 0s 6ms/step - loss: 0.0617 - recall: 0.7891 - val_loss: 0.6986 - val_recall: 0.0526\n",
      "Epoch 66/100\n",
      "79/79 [==============================] - 0s 6ms/step - loss: 0.0540 - recall: 0.8359 - val_loss: 0.7335 - val_recall: 0.0526\n",
      "Epoch 67/100\n",
      "79/79 [==============================] - 0s 5ms/step - loss: 0.0660 - recall: 0.7422 - val_loss: 0.5884 - val_recall: 0.0526\n",
      "Epoch 68/100\n",
      "79/79 [==============================] - 0s 6ms/step - loss: 0.0576 - recall: 0.7656 - val_loss: 0.6722 - val_recall: 0.0789\n",
      "Epoch 69/100\n",
      "79/79 [==============================] - 0s 5ms/step - loss: 0.0512 - recall: 0.7969 - val_loss: 0.6735 - val_recall: 0.0789\n",
      "Epoch 70/100\n",
      "79/79 [==============================] - 0s 5ms/step - loss: 0.0498 - recall: 0.8438 - val_loss: 0.7017 - val_recall: 0.0789\n",
      "Epoch 71/100\n",
      "79/79 [==============================] - 0s 5ms/step - loss: 0.0827 - recall: 0.6719 - val_loss: 0.6191 - val_recall: 0.0526\n",
      "Epoch 72/100\n",
      "79/79 [==============================] - 0s 5ms/step - loss: 0.0580 - recall: 0.8047 - val_loss: 0.6455 - val_recall: 0.0789\n",
      "Epoch 73/100\n",
      "79/79 [==============================] - 0s 6ms/step - loss: 0.0560 - recall: 0.8359 - val_loss: 0.6251 - val_recall: 0.1053\n",
      "Epoch 74/100\n",
      "79/79 [==============================] - 0s 5ms/step - loss: 0.0555 - recall: 0.8047 - val_loss: 0.6461 - val_recall: 0.0789\n",
      "Epoch 75/100\n",
      "79/79 [==============================] - 0s 5ms/step - loss: 0.0542 - recall: 0.7969 - val_loss: 0.6490 - val_recall: 0.0526\n"
     ]
    }
   ],
   "source": [
    "model_history = model.fit(X_train2, y_train, validation_data=(X_val2, y_val), epochs=100, callbacks= [callback])"
   ]
  },
  {
   "cell_type": "code",
   "execution_count": 97,
   "metadata": {},
   "outputs": [
    {
     "data": {
      "text/plain": [
       "[<matplotlib.lines.Line2D at 0x1dd730a17f0>]"
      ]
     },
     "execution_count": 97,
     "metadata": {},
     "output_type": "execute_result"
    },
    {
     "data": {
      "image/png": "[encoded data removed]",
      "text/plain": [
       "<Figure size 640x480 with 1 Axes>"
      ]
     },
     "metadata": {},
     "output_type": "display_data"
    }
   ],
   "source": [
    "plt.plot(model_history.history['recall'])"
   ]
  },
  {
   "cell_type": "code",
   "execution_count": 98,
   "metadata": {},
   "outputs": [
    {
     "name": "stdout",
     "output_type": "stream",
     "text": [
      "25/25 [==============================] - 0s 3ms/step - loss: 0.5685 - recall: 0.0476\n"
     ]
    },
    {
     "data": {
      "text/plain": [
       "[0.5684589743614197, 0.0476190485060215]"
      ]
     },
     "execution_count": 98,
     "metadata": {},
     "output_type": "execute_result"
    }
   ],
   "source": [
    "model.evaluate(X_test2, y_test)"
   ]
  },
  {
   "cell_type": "markdown",
   "metadata": {},
   "source": [
    "https://imbalanced-learn.org/stable/miscellaneous.html\n",
    "\n",
    "https://www.freecodecamp.org/news/binary-classification-made-simple-with-tensorflow/\n"
   ]
  },
  {
   "cell_type": "code",
   "execution_count": 99,
   "metadata": {},
   "outputs": [
    {
     "data": {
      "text/plain": [
       "[PhysicalDevice(name='/physical_device:GPU:0', device_type='GPU')]"
      ]
     },
     "execution_count": 99,
     "metadata": {},
     "output_type": "execute_result"
    }
   ],
   "source": [
    "tf.config.list_physical_devices('GPU')"
   ]
  }
 ],
 "metadata": {
  "kernelspec": {
   "display_name": "Python 3",
   "language": "python",
   "name": "python3"
  },
  "language_info": {
   "codemirror_mode": {
    "name": "ipython",
    "version": 3
   },
   "file_extension": ".py",
   "mimetype": "text/x-python",
   "name": "python",
   "nbconvert_exporter": "python",
   "pygments_lexer": "ipython3",
   "version": "3.9.18"
  }
 },
 "nbformat": 4,
 "nbformat_minor": 2
}
