{
 "cells": [
  {
   "cell_type": "code",
   "execution_count": 163,
   "metadata": {},
   "outputs": [],
   "source": [
    "import pandas as pd\n",
    "from sklearn.model_selection import train_test_split\n",
    "from sklearn.compose import ColumnTransformer\n",
    "from sklearn.preprocessing import OneHotEncoder, StandardScaler\n",
    "import matplotlib.pyplot as plt\n",
    "from imblearn.over_sampling import SMOTENC\n",
    "\n",
    "data = pd.read_csv(\"healthcare-dataset-stroke-data.csv\")\n",
    "\n",
    "balanced_data = data.dropna()\n",
    "balanced_data = balanced_data.drop(columns= \"id\")\n",
    "balanced_data = balanced_data[balanced_data.age > 20]\n",
    "balanced_data = balanced_data.drop(balanced_data.index[balanced_data[\"gender\"] == \"Other\"])\n",
    "balanced_data = balanced_data.drop(balanced_data.index[balanced_data[\"work_type\"] == \"Never_worked\"])\n",
    "\n",
    "features = ['gender', 'age', 'hypertension', 'heart_disease', 'ever_married', 'work_type', 'Residence_type', 'avg_glucose_level', \"bmi\", \"smoking_status\"]\n",
    "cat_columns = ['gender', 'ever_married', 'work_type', 'Residence_type', 'smoking_status', 'hypertension', 'heart_disease']\n",
    "num_columns = ['age', 'avg_glucose_level', 'bmi']\n",
    "\n",
    "bal_data_train, bal_data_test = train_test_split(balanced_data, train_size = 0.8, random_state=1, stratify= balanced_data[\"stroke\"])\n",
    "bal_data_train, bal_data_val = train_test_split(bal_data_train, train_size = 0.8, random_state=1)\n",
    "\n",
    "X_train = bal_data_train.drop('stroke', axis = 1)\n",
    "y_train = bal_data_train['stroke']\n",
    "\n",
    "X_val = bal_data_val.drop('stroke', axis = 1)\n",
    "y_val = bal_data_val['stroke']\n",
    "\n",
    "X_test = bal_data_test.drop('stroke', axis = 1)\n",
    "y_test = bal_data_test['stroke']"
   ]
  },
  {
   "cell_type": "code",
   "execution_count": 164,
   "metadata": {},
   "outputs": [],
   "source": [
    "smotenc = SMOTENC(cat_columns, random_state= 1)\n",
    "\n",
    "X_train, y_train = smotenc.fit_resample(X_train, y_train)"
   ]
  },
  {
   "cell_type": "code",
   "execution_count": 165,
   "metadata": {},
   "outputs": [],
   "source": [
    "preprocessing = ColumnTransformer([\n",
    "    ('one-hot-encoder', OneHotEncoder(sparse_output=False), cat_columns),\n",
    "    ('scaler', StandardScaler(), num_columns)\n",
    "])"
   ]
  },
  {
   "cell_type": "code",
   "execution_count": 166,
   "metadata": {},
   "outputs": [],
   "source": [
    "X_train2 = preprocessing.fit_transform(X_train)\n",
    "X_val2 = preprocessing.transform(X_val)\n",
    "X_test2 = preprocessing.transform(X_test)"
   ]
  },
  {
   "cell_type": "markdown",
   "metadata": {},
   "source": [
    "Initial model starts at 0.07 recall"
   ]
  },
  {
   "cell_type": "code",
   "execution_count": 167,
   "metadata": {},
   "outputs": [],
   "source": [
    "import tensorflow as tf\n",
    "\n",
    "tf.random.set_seed(1)\n",
    "model = tf.keras.Sequential()\n",
    "model.add(tf.keras.layers.Input(shape=20))\n",
    "\n",
    "model.add(tf.keras.layers.BatchNormalization())\n",
    "model.add(tf.keras.layers.Dense(512, 'relu', kernel_regularizer= tf.keras.regularizers.l2(l=0.0001)))\n",
    "model.add(tf.keras.layers.Dropout(0.8))\n",
    "\n",
    "model.add(tf.keras.layers.BatchNormalization())\n",
    "model.add(tf.keras.layers.Dense(256, 'relu', kernel_regularizer= tf.keras.regularizers.l2(l=0.0001)))\n",
    "model.add(tf.keras.layers.Dropout(0.8))\n",
    "\n",
    "model.add(tf.keras.layers.BatchNormalization())\n",
    "model.add(tf.keras.layers.Dense(128, 'relu', kernel_regularizer= tf.keras.regularizers.l2(l=0.0001)))\n",
    "model.add(tf.keras.layers.Dropout(0.8))\n",
    "\n",
    "\n",
    "model.add(tf.keras.layers.Dense(1, \"sigmoid\"))\n",
    "model.compile(loss=\"binary_crossentropy\", optimizer=\"adam\", metrics=['Recall'])"
   ]
  },
  {
   "cell_type": "code",
   "execution_count": 168,
   "metadata": {},
   "outputs": [
    {
     "name": "stdout",
     "output_type": "stream",
     "text": [
      "Model: \"sequential_16\"\n",
      "_________________________________________________________________\n",
      " Layer (type)                Output Shape              Param #   \n",
      "=================================================================\n",
      " batch_normalization_41 (Bat  (None, 20)               80        \n",
      " chNormalization)                                                \n",
      "                                                                 \n",
      " dense_58 (Dense)            (None, 512)               10752     \n",
      "                                                                 \n",
      " dropout_33 (Dropout)        (None, 512)               0         \n",
      "                                                                 \n",
      " batch_normalization_42 (Bat  (None, 512)              2048      \n",
      " chNormalization)                                                \n",
      "                                                                 \n",
      " dense_59 (Dense)            (None, 256)               131328    \n",
      "                                                                 \n",
      " dropout_34 (Dropout)        (None, 256)               0         \n",
      "                                                                 \n",
      " batch_normalization_43 (Bat  (None, 256)              1024      \n",
      " chNormalization)                                                \n",
      "                                                                 \n",
      " dense_60 (Dense)            (None, 128)               32896     \n",
      "                                                                 \n",
      " dropout_35 (Dropout)        (None, 128)               0         \n",
      "                                                                 \n",
      " dense_61 (Dense)            (None, 1)                 129       \n",
      "                                                                 \n",
      "=================================================================\n",
      "Total params: 178,257\n",
      "Trainable params: 176,681\n",
      "Non-trainable params: 1,576\n",
      "_________________________________________________________________\n"
     ]
    }
   ],
   "source": [
    "model.summary()\n",
    "\n",
    "callback = tf.keras.callbacks.EarlyStopping(monitor='val_loss', patience=5)"
   ]
  },
  {
   "cell_type": "code",
   "execution_count": 169,
   "metadata": {},
   "outputs": [
    {
     "name": "stdout",
     "output_type": "stream",
     "text": [
      "Epoch 1/100\n",
      "149/149 [==============================] - 3s 12ms/step - loss: 1.0594 - recall: 0.4937 - val_loss: 0.7738 - val_recall: 0.9474\n",
      "Epoch 2/100\n",
      "149/149 [==============================] - 1s 9ms/step - loss: 0.8348 - recall: 0.5843 - val_loss: 0.6981 - val_recall: 0.9474\n",
      "Epoch 3/100\n",
      "149/149 [==============================] - 1s 9ms/step - loss: 0.7247 - recall: 0.6248 - val_loss: 0.6455 - val_recall: 0.8947\n",
      "Epoch 4/100\n",
      "149/149 [==============================] - 1s 9ms/step - loss: 0.6659 - recall: 0.7040 - val_loss: 0.6366 - val_recall: 0.8684\n",
      "Epoch 5/100\n",
      "149/149 [==============================] - 1s 9ms/step - loss: 0.6175 - recall: 0.7614 - val_loss: 0.6277 - val_recall: 0.8684\n",
      "Epoch 6/100\n",
      "149/149 [==============================] - 1s 10ms/step - loss: 0.6008 - recall: 0.8044 - val_loss: 0.6256 - val_recall: 0.8684\n",
      "Epoch 7/100\n",
      "149/149 [==============================] - 1s 9ms/step - loss: 0.5920 - recall: 0.8124 - val_loss: 0.6348 - val_recall: 0.8684\n",
      "Epoch 8/100\n",
      "149/149 [==============================] - 1s 10ms/step - loss: 0.5720 - recall: 0.8368 - val_loss: 0.6376 - val_recall: 0.8684\n",
      "Epoch 9/100\n",
      "149/149 [==============================] - 2s 11ms/step - loss: 0.5745 - recall: 0.8322 - val_loss: 0.6309 - val_recall: 0.8684\n",
      "Epoch 10/100\n",
      "149/149 [==============================] - 2s 11ms/step - loss: 0.5671 - recall: 0.8503 - val_loss: 0.6227 - val_recall: 0.8684\n",
      "Epoch 11/100\n",
      "149/149 [==============================] - 2s 10ms/step - loss: 0.5616 - recall: 0.8617 - val_loss: 0.6137 - val_recall: 0.8684\n",
      "Epoch 12/100\n",
      "149/149 [==============================] - 1s 9ms/step - loss: 0.5635 - recall: 0.8562 - val_loss: 0.6362 - val_recall: 0.8684\n",
      "Epoch 13/100\n",
      "149/149 [==============================] - 1s 10ms/step - loss: 0.5440 - recall: 0.8659 - val_loss: 0.5946 - val_recall: 0.8158\n",
      "Epoch 14/100\n",
      "149/149 [==============================] - 2s 10ms/step - loss: 0.5415 - recall: 0.8613 - val_loss: 0.6012 - val_recall: 0.8421\n",
      "Epoch 15/100\n",
      "149/149 [==============================] - 2s 11ms/step - loss: 0.5454 - recall: 0.8642 - val_loss: 0.5916 - val_recall: 0.8684\n",
      "Epoch 16/100\n",
      "149/149 [==============================] - 2s 11ms/step - loss: 0.5443 - recall: 0.8617 - val_loss: 0.6313 - val_recall: 0.8684\n",
      "Epoch 17/100\n",
      "149/149 [==============================] - 2s 11ms/step - loss: 0.5489 - recall: 0.8769 - val_loss: 0.5672 - val_recall: 0.8158\n",
      "Epoch 18/100\n",
      "149/149 [==============================] - 1s 9ms/step - loss: 0.5407 - recall: 0.8495 - val_loss: 0.5849 - val_recall: 0.8421\n",
      "Epoch 19/100\n",
      "149/149 [==============================] - 1s 8ms/step - loss: 0.5328 - recall: 0.8655 - val_loss: 0.5716 - val_recall: 0.8421\n",
      "Epoch 20/100\n",
      "149/149 [==============================] - 1s 8ms/step - loss: 0.5403 - recall: 0.8659 - val_loss: 0.6029 - val_recall: 0.8158\n",
      "Epoch 21/100\n",
      "149/149 [==============================] - 1s 8ms/step - loss: 0.5365 - recall: 0.8664 - val_loss: 0.6021 - val_recall: 0.8158\n",
      "Epoch 22/100\n",
      "149/149 [==============================] - 1s 9ms/step - loss: 0.5264 - recall: 0.8702 - val_loss: 0.6008 - val_recall: 0.8158\n"
     ]
    }
   ],
   "source": [
    "model_history = model.fit(X_train2, y_train, validation_data=(X_val2, y_val), epochs=100, callbacks= [callback])"
   ]
  },
  {
   "cell_type": "code",
   "execution_count": 170,
   "metadata": {},
   "outputs": [
    {
     "data": {
      "text/plain": [
       "[<matplotlib.lines.Line2D at 0x24396c49d30>]"
      ]
     },
     "execution_count": 170,
     "metadata": {},
     "output_type": "execute_result"
    },
    {
     "data": {
      "image/png": "[encoded data removed]",
      "text/plain": [
       "<Figure size 640x480 with 1 Axes>"
      ]
     },
     "metadata": {},
     "output_type": "display_data"
    }
   ],
   "source": [
    "plt.plot(model_history.history['recall'])"
   ]
  },
  {
   "cell_type": "code",
   "execution_count": 171,
   "metadata": {},
   "outputs": [
    {
     "name": "stdout",
     "output_type": "stream",
     "text": [
      "25/25 [==============================] - 0s 5ms/step - loss: 0.6621 - recall: 0.4286\n"
     ]
    },
    {
     "data": {
      "text/plain": [
       "[0.6621344089508057, 0.4285714328289032]"
      ]
     },
     "execution_count": 171,
     "metadata": {},
     "output_type": "execute_result"
    }
   ],
   "source": [
    "model.evaluate(X_test2, y_test)"
   ]
  },
  {
   "cell_type": "markdown",
   "metadata": {},
   "source": [
    "https://imbalanced-learn.org/stable/miscellaneous.html\n",
    "\n",
    "https://www.freecodecamp.org/news/binary-classification-made-simple-with-tensorflow/\n"
   ]
  },
  {
   "cell_type": "code",
   "execution_count": 172,
   "metadata": {},
   "outputs": [
    {
     "data": {
      "text/plain": [
       "[PhysicalDevice(name='/physical_device:GPU:0', device_type='GPU')]"
      ]
     },
     "execution_count": 172,
     "metadata": {},
     "output_type": "execute_result"
    }
   ],
   "source": [
    "tf.config.list_physical_devices('GPU')"
   ]
  }
 ],
 "metadata": {
  "kernelspec": {
   "display_name": "Python 3",
   "language": "python",
   "name": "python3"
  },
  "language_info": {
   "codemirror_mode": {
    "name": "ipython",
    "version": 3
   },
   "file_extension": ".py",
   "mimetype": "text/x-python",
   "name": "python",
   "nbconvert_exporter": "python",
   "pygments_lexer": "ipython3",
   "version": "3.9.18"
  }
 },
 "nbformat": 4,
 "nbformat_minor": 2
}
