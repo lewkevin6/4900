{
 "cells": [
  {
   "cell_type": "code",
   "execution_count": 134,
   "metadata": {},
   "outputs": [],
   "source": [
    "import pandas as pd\n",
    "from sklearn.model_selection import train_test_split\n",
    "from sklearn.compose import ColumnTransformer\n",
    "from sklearn.preprocessing import OneHotEncoder, StandardScaler\n",
    "import matplotlib.pyplot as plt\n",
    "\n",
    "\n",
    "data = pd.read_csv(\"healthcare-dataset-stroke-data.csv\")\n",
    "\n",
    "balanced_data = data.dropna()\n",
    "balanced_data = balanced_data.drop(columns= \"id\")\n",
    "balanced_data = balanced_data[balanced_data.age > 20]\n",
    "balanced_data = balanced_data.drop(balanced_data.index[balanced_data[\"gender\"] == \"Other\"])\n",
    "balanced_data = balanced_data.drop(balanced_data.index[balanced_data[\"work_type\"] == \"Never_worked\"])\n",
    "\n",
    "features = ['gender', 'age', 'hypertension', 'heart_disease', 'ever_married', 'work_type', 'Residence_type', 'avg_glucose_level', \"bmi\", \"smoking_status\"]\n",
    "cat_columns = ['gender', 'ever_married', 'work_type', 'Residence_type', 'smoking_status', 'hypertension', 'heart_disease']\n",
    "num_columns = ['age', 'avg_glucose_level', 'bmi']\n",
    "\n",
    "bal_data_train, bal_data_test = train_test_split(balanced_data, train_size = 0.8, random_state=1, stratify= balanced_data[\"stroke\"])\n",
    "bal_data_train, bal_data_val = train_test_split(bal_data_train, train_size = 0.8, random_state=1)\n",
    "\n",
    "X_train = bal_data_train.drop('stroke', axis = 1)\n",
    "y_train = bal_data_train['stroke']\n",
    "\n",
    "X_val = bal_data_val.drop('stroke', axis = 1)\n",
    "y_val = bal_data_val['stroke']\n",
    "\n",
    "X_test = bal_data_test.drop('stroke', axis = 1)\n",
    "y_test = bal_data_test['stroke']"
   ]
  },
  {
   "cell_type": "code",
   "execution_count": 135,
   "metadata": {},
   "outputs": [],
   "source": [
    "preprocessing = ColumnTransformer([\n",
    "    ('one-hot-encoder', OneHotEncoder(sparse_output=False), cat_columns),\n",
    "    ('scaler', StandardScaler(), num_columns)\n",
    "])"
   ]
  },
  {
   "cell_type": "code",
   "execution_count": 136,
   "metadata": {},
   "outputs": [],
   "source": [
    "X_train2 = preprocessing.fit_transform(X_train)\n",
    "X_val2 = preprocessing.transform(X_val)\n",
    "X_test2 = preprocessing.transform(X_test)"
   ]
  },
  {
   "cell_type": "markdown",
   "metadata": {},
   "source": [
    "Initial model starts at 0.07 recall"
   ]
  },
  {
   "cell_type": "code",
   "execution_count": 137,
   "metadata": {},
   "outputs": [],
   "source": [
    "import tensorflow as tf\n",
    "\n",
    "tf.random.set_seed(1)\n",
    "model = tf.keras.Sequential()\n",
    "model.add(tf.keras.layers.Input(shape=20))\n",
    "\n",
    "model.add(tf.keras.layers.Dense(512, 'relu', kernel_regularizer= tf.keras.regularizers.l2(l=0.0001)))\n",
    "\n",
    "model.add(tf.keras.layers.Dense(256, 'relu', kernel_regularizer= tf.keras.regularizers.l2(l=0.0001)))\n",
    "\n",
    "model.add(tf.keras.layers.Dense(128, 'relu', kernel_regularizer= tf.keras.regularizers.l2(l=0.0001)))\n",
    "\n",
    "model.add(tf.keras.layers.Dense(1, \"sigmoid\"))\n",
    "model.compile(loss=\"binary_crossentropy\", optimizer=\"adam\", metrics=['Recall'])\n",
    "\n",
    "#, kernel_regularizer= tf.keras.regularizers.l2(l=0.0001)) Best results so far\n",
    "# model.add(tf.keras.layers.BatchNormalization()) Limits it"
   ]
  },
  {
   "cell_type": "code",
   "execution_count": 138,
   "metadata": {},
   "outputs": [
    {
     "name": "stdout",
     "output_type": "stream",
     "text": [
      "Model: \"sequential_17\"\n",
      "_________________________________________________________________\n",
      " Layer (type)                Output Shape              Param #   \n",
      "=================================================================\n",
      " dense_68 (Dense)            (None, 512)               10752     \n",
      "                                                                 \n",
      " dense_69 (Dense)            (None, 256)               131328    \n",
      "                                                                 \n",
      " dense_70 (Dense)            (None, 128)               32896     \n",
      "                                                                 \n",
      " dense_71 (Dense)            (None, 1)                 129       \n",
      "                                                                 \n",
      "=================================================================\n",
      "Total params: 175,105\n",
      "Trainable params: 175,105\n",
      "Non-trainable params: 0\n",
      "_________________________________________________________________\n"
     ]
    }
   ],
   "source": [
    "model.summary()\n",
    "\n",
    "callback = tf.keras.callbacks.EarlyStopping(monitor='loss', patience=5)"
   ]
  },
  {
   "cell_type": "code",
   "execution_count": 139,
   "metadata": {},
   "outputs": [
    {
     "name": "stdout",
     "output_type": "stream",
     "text": [
      "Epoch 1/100\n",
      "79/79 [==============================] - 1s 9ms/step - loss: 0.2638 - recall: 0.0078 - val_loss: 0.2426 - val_recall: 0.0000e+00\n",
      "Epoch 2/100\n",
      "79/79 [==============================] - 0s 5ms/step - loss: 0.2081 - recall: 0.0000e+00 - val_loss: 0.2300 - val_recall: 0.0000e+00\n",
      "Epoch 3/100\n",
      "79/79 [==============================] - 0s 5ms/step - loss: 0.1988 - recall: 0.0000e+00 - val_loss: 0.2255 - val_recall: 0.0000e+00\n",
      "Epoch 4/100\n",
      "79/79 [==============================] - 0s 5ms/step - loss: 0.1896 - recall: 0.0000e+00 - val_loss: 0.2188 - val_recall: 0.0000e+00\n",
      "Epoch 5/100\n",
      "79/79 [==============================] - 0s 6ms/step - loss: 0.1856 - recall: 0.0000e+00 - val_loss: 0.2190 - val_recall: 0.0000e+00\n",
      "Epoch 6/100\n",
      "79/79 [==============================] - 0s 5ms/step - loss: 0.1782 - recall: 0.0000e+00 - val_loss: 0.2210 - val_recall: 0.0000e+00\n",
      "Epoch 7/100\n",
      "79/79 [==============================] - 0s 5ms/step - loss: 0.1735 - recall: 0.0078 - val_loss: 0.2301 - val_recall: 0.0000e+00\n",
      "Epoch 8/100\n",
      "79/79 [==============================] - 0s 5ms/step - loss: 0.1717 - recall: 0.0156 - val_loss: 0.2251 - val_recall: 0.0263\n",
      "Epoch 9/100\n",
      "79/79 [==============================] - 0s 5ms/step - loss: 0.1673 - recall: 0.0156 - val_loss: 0.2264 - val_recall: 0.0000e+00\n",
      "Epoch 10/100\n",
      "79/79 [==============================] - 0s 6ms/step - loss: 0.1620 - recall: 0.0000e+00 - val_loss: 0.2245 - val_recall: 0.0000e+00\n",
      "Epoch 11/100\n",
      "79/79 [==============================] - 0s 5ms/step - loss: 0.1629 - recall: 0.0391 - val_loss: 0.2369 - val_recall: 0.0000e+00\n",
      "Epoch 12/100\n",
      "79/79 [==============================] - 0s 5ms/step - loss: 0.1551 - recall: 0.0234 - val_loss: 0.2336 - val_recall: 0.0000e+00\n",
      "Epoch 13/100\n",
      "79/79 [==============================] - 0s 5ms/step - loss: 0.1560 - recall: 0.0234 - val_loss: 0.2610 - val_recall: 0.0263\n",
      "Epoch 14/100\n",
      "79/79 [==============================] - 0s 6ms/step - loss: 0.1512 - recall: 0.0703 - val_loss: 0.2465 - val_recall: 0.0263\n",
      "Epoch 15/100\n",
      "79/79 [==============================] - 0s 6ms/step - loss: 0.1532 - recall: 0.0938 - val_loss: 0.2455 - val_recall: 0.0789\n",
      "Epoch 16/100\n",
      "79/79 [==============================] - 0s 5ms/step - loss: 0.1449 - recall: 0.1328 - val_loss: 0.2527 - val_recall: 0.0526\n",
      "Epoch 17/100\n",
      "79/79 [==============================] - 0s 5ms/step - loss: 0.1415 - recall: 0.1719 - val_loss: 0.3172 - val_recall: 0.0000e+00\n",
      "Epoch 18/100\n",
      "79/79 [==============================] - 0s 6ms/step - loss: 0.1431 - recall: 0.1484 - val_loss: 0.2685 - val_recall: 0.0526\n",
      "Epoch 19/100\n",
      "79/79 [==============================] - 0s 6ms/step - loss: 0.1380 - recall: 0.2031 - val_loss: 0.3007 - val_recall: 0.0526\n",
      "Epoch 20/100\n",
      "79/79 [==============================] - 0s 5ms/step - loss: 0.1394 - recall: 0.2031 - val_loss: 0.2773 - val_recall: 0.0526\n",
      "Epoch 21/100\n",
      "79/79 [==============================] - 0s 4ms/step - loss: 0.1298 - recall: 0.2891 - val_loss: 0.3162 - val_recall: 0.0526\n",
      "Epoch 22/100\n",
      "79/79 [==============================] - 0s 4ms/step - loss: 0.1374 - recall: 0.2734 - val_loss: 0.2981 - val_recall: 0.0263\n",
      "Epoch 23/100\n",
      "79/79 [==============================] - 0s 4ms/step - loss: 0.1296 - recall: 0.2891 - val_loss: 0.3127 - val_recall: 0.1053\n",
      "Epoch 24/100\n",
      "79/79 [==============================] - 0s 5ms/step - loss: 0.1231 - recall: 0.3750 - val_loss: 0.3180 - val_recall: 0.0000e+00\n",
      "Epoch 25/100\n",
      "79/79 [==============================] - 0s 5ms/step - loss: 0.1217 - recall: 0.3672 - val_loss: 0.3176 - val_recall: 0.1316\n",
      "Epoch 26/100\n",
      "79/79 [==============================] - 0s 6ms/step - loss: 0.1169 - recall: 0.3672 - val_loss: 0.3339 - val_recall: 0.1053\n",
      "Epoch 27/100\n",
      "79/79 [==============================] - 0s 6ms/step - loss: 0.1126 - recall: 0.4219 - val_loss: 0.3318 - val_recall: 0.0000e+00\n",
      "Epoch 28/100\n",
      "79/79 [==============================] - 0s 5ms/step - loss: 0.1149 - recall: 0.3906 - val_loss: 0.3514 - val_recall: 0.0526\n",
      "Epoch 29/100\n",
      "79/79 [==============================] - 0s 5ms/step - loss: 0.1091 - recall: 0.4141 - val_loss: 0.3610 - val_recall: 0.0789\n",
      "Epoch 30/100\n",
      "79/79 [==============================] - 1s 7ms/step - loss: 0.1031 - recall: 0.4531 - val_loss: 0.3935 - val_recall: 0.0526\n",
      "Epoch 31/100\n",
      "79/79 [==============================] - 0s 6ms/step - loss: 0.1068 - recall: 0.5000 - val_loss: 0.4073 - val_recall: 0.0263\n",
      "Epoch 32/100\n",
      "79/79 [==============================] - 1s 6ms/step - loss: 0.1041 - recall: 0.4531 - val_loss: 0.4205 - val_recall: 0.1316\n",
      "Epoch 33/100\n",
      "79/79 [==============================] - 0s 6ms/step - loss: 0.1025 - recall: 0.5000 - val_loss: 0.3944 - val_recall: 0.0789\n",
      "Epoch 34/100\n",
      "79/79 [==============================] - 0s 6ms/step - loss: 0.1065 - recall: 0.4453 - val_loss: 0.3862 - val_recall: 0.1842\n",
      "Epoch 35/100\n",
      "79/79 [==============================] - 0s 6ms/step - loss: 0.1007 - recall: 0.4922 - val_loss: 0.4285 - val_recall: 0.0789\n",
      "Epoch 36/100\n",
      "79/79 [==============================] - 0s 6ms/step - loss: 0.0928 - recall: 0.5469 - val_loss: 0.4432 - val_recall: 0.0263\n",
      "Epoch 37/100\n",
      "79/79 [==============================] - 0s 6ms/step - loss: 0.0894 - recall: 0.5625 - val_loss: 0.4829 - val_recall: 0.0789\n",
      "Epoch 38/100\n",
      "79/79 [==============================] - 0s 6ms/step - loss: 0.0948 - recall: 0.5469 - val_loss: 0.4476 - val_recall: 0.0789\n",
      "Epoch 39/100\n",
      "79/79 [==============================] - 0s 6ms/step - loss: 0.0921 - recall: 0.5781 - val_loss: 0.4585 - val_recall: 0.0526\n",
      "Epoch 40/100\n",
      "79/79 [==============================] - 0s 6ms/step - loss: 0.0862 - recall: 0.5938 - val_loss: 0.5040 - val_recall: 0.0789\n",
      "Epoch 41/100\n",
      "79/79 [==============================] - 0s 6ms/step - loss: 0.0888 - recall: 0.5547 - val_loss: 0.4605 - val_recall: 0.1316\n",
      "Epoch 42/100\n",
      "79/79 [==============================] - 0s 6ms/step - loss: 0.0858 - recall: 0.6172 - val_loss: 0.4788 - val_recall: 0.0263\n",
      "Epoch 43/100\n",
      "79/79 [==============================] - 0s 5ms/step - loss: 0.0833 - recall: 0.5781 - val_loss: 0.4682 - val_recall: 0.1053\n",
      "Epoch 44/100\n",
      "79/79 [==============================] - 0s 5ms/step - loss: 0.0856 - recall: 0.6094 - val_loss: 0.5053 - val_recall: 0.0263\n",
      "Epoch 45/100\n",
      "79/79 [==============================] - 0s 6ms/step - loss: 0.0824 - recall: 0.6328 - val_loss: 0.5034 - val_recall: 0.0526\n",
      "Epoch 46/100\n",
      "79/79 [==============================] - 0s 5ms/step - loss: 0.0782 - recall: 0.6172 - val_loss: 0.4852 - val_recall: 0.0526\n",
      "Epoch 47/100\n",
      "79/79 [==============================] - 0s 6ms/step - loss: 0.0763 - recall: 0.6719 - val_loss: 0.4757 - val_recall: 0.0789\n",
      "Epoch 48/100\n",
      "79/79 [==============================] - 0s 6ms/step - loss: 0.0745 - recall: 0.6797 - val_loss: 0.5129 - val_recall: 0.0789\n",
      "Epoch 49/100\n",
      "79/79 [==============================] - 0s 6ms/step - loss: 0.0812 - recall: 0.6406 - val_loss: 0.4987 - val_recall: 0.0789\n",
      "Epoch 50/100\n",
      "79/79 [==============================] - 0s 6ms/step - loss: 0.0858 - recall: 0.6406 - val_loss: 0.5114 - val_recall: 0.0789\n",
      "Epoch 51/100\n",
      "79/79 [==============================] - 0s 6ms/step - loss: 0.0895 - recall: 0.6250 - val_loss: 0.4767 - val_recall: 0.1053\n",
      "Epoch 52/100\n",
      "79/79 [==============================] - 0s 6ms/step - loss: 0.0757 - recall: 0.6562 - val_loss: 0.4947 - val_recall: 0.0789\n",
      "Epoch 53/100\n",
      "79/79 [==============================] - 0s 6ms/step - loss: 0.0715 - recall: 0.7109 - val_loss: 0.5378 - val_recall: 0.0526\n",
      "Epoch 54/100\n",
      "79/79 [==============================] - 0s 6ms/step - loss: 0.0717 - recall: 0.7188 - val_loss: 0.5853 - val_recall: 0.0526\n",
      "Epoch 55/100\n",
      "79/79 [==============================] - 0s 6ms/step - loss: 0.0750 - recall: 0.7188 - val_loss: 0.5539 - val_recall: 0.0000e+00\n",
      "Epoch 56/100\n",
      "79/79 [==============================] - 0s 6ms/step - loss: 0.0739 - recall: 0.6797 - val_loss: 0.5297 - val_recall: 0.0789\n",
      "Epoch 57/100\n",
      "79/79 [==============================] - 0s 6ms/step - loss: 0.0679 - recall: 0.7578 - val_loss: 0.5233 - val_recall: 0.0789\n",
      "Epoch 58/100\n",
      "79/79 [==============================] - 0s 6ms/step - loss: 0.0670 - recall: 0.7031 - val_loss: 0.5616 - val_recall: 0.0789\n",
      "Epoch 59/100\n",
      "79/79 [==============================] - 0s 6ms/step - loss: 0.0623 - recall: 0.7812 - val_loss: 0.5862 - val_recall: 0.1053\n",
      "Epoch 60/100\n",
      "79/79 [==============================] - 0s 6ms/step - loss: 0.0591 - recall: 0.7422 - val_loss: 0.5984 - val_recall: 0.0789\n",
      "Epoch 61/100\n",
      "79/79 [==============================] - 0s 6ms/step - loss: 0.0656 - recall: 0.7344 - val_loss: 0.5711 - val_recall: 0.0526\n",
      "Epoch 62/100\n",
      "79/79 [==============================] - 1s 7ms/step - loss: 0.0617 - recall: 0.7578 - val_loss: 0.5842 - val_recall: 0.1053\n",
      "Epoch 63/100\n",
      "79/79 [==============================] - 0s 6ms/step - loss: 0.0682 - recall: 0.7266 - val_loss: 0.5617 - val_recall: 0.1053\n",
      "Epoch 64/100\n",
      "79/79 [==============================] - 0s 6ms/step - loss: 0.0883 - recall: 0.6797 - val_loss: 0.5077 - val_recall: 0.0789\n",
      "Epoch 65/100\n",
      "79/79 [==============================] - 0s 6ms/step - loss: 0.0676 - recall: 0.7500 - val_loss: 0.5764 - val_recall: 0.0789\n"
     ]
    }
   ],
   "source": [
    "model_history = model.fit(X_train2, y_train, validation_data=(X_val2, y_val), epochs=100, callbacks= [callback])"
   ]
  },
  {
   "cell_type": "code",
   "execution_count": 140,
   "metadata": {},
   "outputs": [
    {
     "data": {
      "text/plain": [
       "[<matplotlib.lines.Line2D at 0x24b97cf46a0>]"
      ]
     },
     "execution_count": 140,
     "metadata": {},
     "output_type": "execute_result"
    },
    {
     "data": {
      "image/png": "[encoded data removed]",
      "text/plain": [
       "<Figure size 640x480 with 1 Axes>"
      ]
     },
     "metadata": {},
     "output_type": "display_data"
    }
   ],
   "source": [
    "plt.plot(model_history.history['recall'])"
   ]
  },
  {
   "cell_type": "code",
   "execution_count": 141,
   "metadata": {},
   "outputs": [
    {
     "name": "stdout",
     "output_type": "stream",
     "text": [
      "25/25 [==============================] - 0s 4ms/step - loss: 0.5838 - recall: 0.0476\n"
     ]
    },
    {
     "data": {
      "text/plain": [
       "[0.5837938785552979, 0.0476190485060215]"
      ]
     },
     "execution_count": 141,
     "metadata": {},
     "output_type": "execute_result"
    }
   ],
   "source": [
    "model.evaluate(X_test2, y_test)"
   ]
  },
  {
   "cell_type": "markdown",
   "metadata": {},
   "source": [
    "https://imbalanced-learn.org/stable/miscellaneous.html\n",
    "\n",
    "https://www.freecodecamp.org/news/binary-classification-made-simple-with-tensorflow/\n"
   ]
  },
  {
   "cell_type": "code",
   "execution_count": 142,
   "metadata": {},
   "outputs": [
    {
     "data": {
      "text/plain": [
       "[PhysicalDevice(name='/physical_device:GPU:0', device_type='GPU')]"
      ]
     },
     "execution_count": 142,
     "metadata": {},
     "output_type": "execute_result"
    }
   ],
   "source": [
    "tf.config.list_physical_devices('GPU')"
   ]
  }
 ],
 "metadata": {
  "kernelspec": {
   "display_name": "Python 3",
   "language": "python",
   "name": "python3"
  },
  "language_info": {
   "codemirror_mode": {
    "name": "ipython",
    "version": 3
   },
   "file_extension": ".py",
   "mimetype": "text/x-python",
   "name": "python",
   "nbconvert_exporter": "python",
   "pygments_lexer": "ipython3",
   "version": "3.9.18"
  }
 },
 "nbformat": 4,
 "nbformat_minor": 2
}
