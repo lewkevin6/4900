{
 "cells": [
  {
   "cell_type": "code",
   "execution_count": 1,
   "metadata": {},
   "outputs": [],
   "source": [
    "import pandas as pd\n",
    "from sklearn.model_selection import train_test_split\n",
    "from sklearn.compose import ColumnTransformer\n",
    "from sklearn.preprocessing import OneHotEncoder, StandardScaler\n",
    "import matplotlib.pyplot as plt\n",
    "from imblearn.over_sampling import SMOTENC\n",
    "\n",
    "data = pd.read_csv(\"healthcare-dataset-stroke-data.csv\")\n",
    "\n",
    "balanced_data = data.dropna()\n",
    "balanced_data = balanced_data.drop(columns= \"id\")\n",
    "balanced_data = balanced_data[balanced_data.age > 20]\n",
    "balanced_data = balanced_data.drop(balanced_data.index[balanced_data[\"gender\"] == \"Other\"])\n",
    "balanced_data = balanced_data.drop(balanced_data.index[balanced_data[\"work_type\"] == \"Never_worked\"])\n",
    "\n",
    "features = ['gender', 'age', 'hypertension', 'heart_disease', 'ever_married', 'work_type', 'Residence_type', 'avg_glucose_level', \"bmi\", \"smoking_status\"]\n",
    "cat_columns = ['gender', 'ever_married', 'work_type', 'Residence_type', 'smoking_status', 'hypertension', 'heart_disease']\n",
    "num_columns = ['age', 'avg_glucose_level', 'bmi']\n",
    "\n",
    "bal_data_train, bal_data_test = train_test_split(balanced_data, train_size = 0.8, random_state=1, stratify= balanced_data[\"stroke\"])\n",
    "bal_data_train, bal_data_val = train_test_split(bal_data_train, train_size = 0.8, random_state=1)\n",
    "\n",
    "X_train = bal_data_train.drop('stroke', axis = 1)\n",
    "y_train = bal_data_train['stroke']\n",
    "\n",
    "X_val = bal_data_val.drop('stroke', axis = 1)\n",
    "y_val = bal_data_val['stroke']\n",
    "\n",
    "X_test = bal_data_test.drop('stroke', axis = 1)\n",
    "y_test = bal_data_test['stroke']"
   ]
  },
  {
   "cell_type": "code",
   "execution_count": 2,
   "metadata": {},
   "outputs": [],
   "source": [
    "smotenc = SMOTENC(cat_columns, random_state= 1)\n",
    "\n",
    "X_train, y_train = smotenc.fit_resample(X_train, y_train)"
   ]
  },
  {
   "cell_type": "code",
   "execution_count": 3,
   "metadata": {},
   "outputs": [],
   "source": [
    "preprocessing = ColumnTransformer([\n",
    "    ('one-hot-encoder', OneHotEncoder(sparse_output=False), cat_columns),\n",
    "    ('scaler', StandardScaler(), num_columns)\n",
    "])"
   ]
  },
  {
   "cell_type": "code",
   "execution_count": 4,
   "metadata": {},
   "outputs": [],
   "source": [
    "X_train2 = preprocessing.fit_transform(X_train)\n",
    "X_val2 = preprocessing.transform(X_val)\n",
    "X_test2 = preprocessing.transform(X_test)"
   ]
  },
  {
   "cell_type": "markdown",
   "metadata": {},
   "source": [
    "Initial model starts at 0.07 recall"
   ]
  },
  {
   "cell_type": "code",
   "execution_count": 5,
   "metadata": {},
   "outputs": [],
   "source": [
    "import tensorflow as tf\n",
    "\n",
    "tf.random.set_seed(1)\n",
    "model = tf.keras.Sequential()\n",
    "model.add(tf.keras.layers.Input(shape=20))\n",
    "\n",
    "model.add(tf.keras.layers.BatchNormalization())\n",
    "model.add(tf.keras.layers.Dense(512, 'relu', kernel_regularizer= tf.keras.regularizers.l2(l=0.0001)))\n",
    "model.add(tf.keras.layers.Dropout(0.8))\n",
    "\n",
    "model.add(tf.keras.layers.BatchNormalization())\n",
    "model.add(tf.keras.layers.Dense(256, 'relu', kernel_regularizer= tf.keras.regularizers.l2(l=0.0001)))\n",
    "model.add(tf.keras.layers.Dropout(0.8))\n",
    "\n",
    "model.add(tf.keras.layers.BatchNormalization())\n",
    "model.add(tf.keras.layers.Dense(128, 'relu', kernel_regularizer= tf.keras.regularizers.l2(l=0.0001)))\n",
    "model.add(tf.keras.layers.Dropout(0.8))\n",
    "\n",
    "\n",
    "model.add(tf.keras.layers.Dense(1, \"sigmoid\"))\n",
    "model.compile(loss=\"binary_crossentropy\", optimizer=\"adam\", metrics=['Recall'])"
   ]
  },
  {
   "cell_type": "code",
   "execution_count": 6,
   "metadata": {},
   "outputs": [
    {
     "name": "stdout",
     "output_type": "stream",
     "text": [
      "Model: \"sequential\"\n",
      "_________________________________________________________________\n",
      " Layer (type)                Output Shape              Param #   \n",
      "=================================================================\n",
      " batch_normalization (BatchN  (None, 20)               80        \n",
      " ormalization)                                                   \n",
      "                                                                 \n",
      " dense (Dense)               (None, 512)               10752     \n",
      "                                                                 \n",
      " dropout (Dropout)           (None, 512)               0         \n",
      "                                                                 \n",
      " batch_normalization_1 (Batc  (None, 512)              2048      \n",
      " hNormalization)                                                 \n",
      "                                                                 \n",
      " dense_1 (Dense)             (None, 256)               131328    \n",
      "                                                                 \n",
      " dropout_1 (Dropout)         (None, 256)               0         \n",
      "                                                                 \n",
      " batch_normalization_2 (Batc  (None, 256)              1024      \n",
      " hNormalization)                                                 \n",
      "                                                                 \n",
      " dense_2 (Dense)             (None, 128)               32896     \n",
      "                                                                 \n",
      " dropout_2 (Dropout)         (None, 128)               0         \n",
      "                                                                 \n",
      " dense_3 (Dense)             (None, 1)                 129       \n",
      "                                                                 \n",
      "=================================================================\n",
      "Total params: 178,257\n",
      "Trainable params: 176,681\n",
      "Non-trainable params: 1,576\n",
      "_________________________________________________________________\n"
     ]
    }
   ],
   "source": [
    "model.summary()\n",
    "\n",
    "callback = tf.keras.callbacks.EarlyStopping(monitor='val_loss', patience=5)"
   ]
  },
  {
   "cell_type": "code",
   "execution_count": 7,
   "metadata": {},
   "outputs": [
    {
     "name": "stdout",
     "output_type": "stream",
     "text": [
      "Epoch 1/100\n",
      "149/149 [==============================] - 3s 9ms/step - loss: 1.0410 - recall: 0.5215 - val_loss: 0.8265 - val_recall: 0.9737\n",
      "Epoch 2/100\n",
      "149/149 [==============================] - 1s 8ms/step - loss: 0.8368 - recall: 0.5839 - val_loss: 0.7207 - val_recall: 0.8947\n",
      "Epoch 3/100\n",
      "149/149 [==============================] - 1s 9ms/step - loss: 0.7420 - recall: 0.6231 - val_loss: 0.6613 - val_recall: 0.8947\n",
      "Epoch 4/100\n",
      "149/149 [==============================] - 1s 8ms/step - loss: 0.6602 - recall: 0.7129 - val_loss: 0.6234 - val_recall: 0.8421\n",
      "Epoch 5/100\n",
      "149/149 [==============================] - 1s 9ms/step - loss: 0.6328 - recall: 0.7395 - val_loss: 0.6374 - val_recall: 0.8421\n",
      "Epoch 6/100\n",
      "149/149 [==============================] - 1s 10ms/step - loss: 0.6180 - recall: 0.7858 - val_loss: 0.6171 - val_recall: 0.8684\n",
      "Epoch 7/100\n",
      "149/149 [==============================] - 1s 10ms/step - loss: 0.5956 - recall: 0.7947 - val_loss: 0.6182 - val_recall: 0.8421\n",
      "Epoch 8/100\n",
      "149/149 [==============================] - 1s 10ms/step - loss: 0.5730 - recall: 0.8255 - val_loss: 0.6337 - val_recall: 0.8684\n",
      "Epoch 9/100\n",
      "149/149 [==============================] - 1s 10ms/step - loss: 0.5778 - recall: 0.8318 - val_loss: 0.6276 - val_recall: 0.8684\n",
      "Epoch 10/100\n",
      "149/149 [==============================] - 2s 10ms/step - loss: 0.5647 - recall: 0.8512 - val_loss: 0.6204 - val_recall: 0.8684\n",
      "Epoch 11/100\n",
      "149/149 [==============================] - 2s 10ms/step - loss: 0.5540 - recall: 0.8659 - val_loss: 0.6112 - val_recall: 0.8421\n",
      "Epoch 12/100\n",
      "149/149 [==============================] - 2s 12ms/step - loss: 0.5647 - recall: 0.8487 - val_loss: 0.6383 - val_recall: 0.8684\n",
      "Epoch 13/100\n",
      "149/149 [==============================] - 2s 11ms/step - loss: 0.5558 - recall: 0.8562 - val_loss: 0.5911 - val_recall: 0.8421\n",
      "Epoch 14/100\n",
      "149/149 [==============================] - 2s 12ms/step - loss: 0.5463 - recall: 0.8432 - val_loss: 0.5920 - val_recall: 0.8421\n",
      "Epoch 15/100\n",
      "149/149 [==============================] - 2s 12ms/step - loss: 0.5468 - recall: 0.8583 - val_loss: 0.5821 - val_recall: 0.8421\n",
      "Epoch 16/100\n",
      "149/149 [==============================] - 2s 10ms/step - loss: 0.5522 - recall: 0.8524 - val_loss: 0.6313 - val_recall: 0.8421\n",
      "Epoch 17/100\n",
      "149/149 [==============================] - 2s 10ms/step - loss: 0.5426 - recall: 0.8651 - val_loss: 0.5919 - val_recall: 0.8421\n",
      "Epoch 18/100\n",
      "149/149 [==============================] - 2s 12ms/step - loss: 0.5428 - recall: 0.8537 - val_loss: 0.6157 - val_recall: 0.8421\n",
      "Epoch 19/100\n",
      "149/149 [==============================] - 2s 12ms/step - loss: 0.5492 - recall: 0.8562 - val_loss: 0.5849 - val_recall: 0.8421\n",
      "Epoch 20/100\n",
      "149/149 [==============================] - 2s 12ms/step - loss: 0.5401 - recall: 0.8567 - val_loss: 0.6074 - val_recall: 0.8158\n"
     ]
    }
   ],
   "source": [
    "model_history = model.fit(X_train2, y_train, validation_data=(X_val2, y_val), epochs=100, callbacks= [callback])"
   ]
  },
  {
   "cell_type": "code",
   "execution_count": 8,
   "metadata": {},
   "outputs": [
    {
     "data": {
      "text/plain": [
       "[<matplotlib.lines.Line2D at 0x252cd75d730>]"
      ]
     },
     "execution_count": 8,
     "metadata": {},
     "output_type": "execute_result"
    },
    {
     "data": {
      "image/png": "[encoded data removed]",
      "text/plain": [
       "<Figure size 640x480 with 1 Axes>"
      ]
     },
     "metadata": {},
     "output_type": "display_data"
    }
   ],
   "source": [
    "plt.plot(model_history.history['recall'])"
   ]
  },
  {
   "cell_type": "code",
   "execution_count": 9,
   "metadata": {},
   "outputs": [
    {
     "name": "stdout",
     "output_type": "stream",
     "text": [
      "25/25 [==============================] - 0s 4ms/step - loss: 0.6617 - recall: 0.4524\n"
     ]
    },
    {
     "data": {
      "text/plain": [
       "[0.6617429256439209, 0.4523809552192688]"
      ]
     },
     "execution_count": 9,
     "metadata": {},
     "output_type": "execute_result"
    }
   ],
   "source": [
    "model.evaluate(X_test2, y_test)"
   ]
  },
  {
   "cell_type": "markdown",
   "metadata": {},
   "source": [
    "https://imbalanced-learn.org/stable/miscellaneous.html\n",
    "\n",
    "https://www.freecodecamp.org/news/binary-classification-made-simple-with-tensorflow/\n"
   ]
  },
  {
   "cell_type": "code",
   "execution_count": 10,
   "metadata": {},
   "outputs": [
    {
     "data": {
      "text/plain": [
       "[PhysicalDevice(name='/physical_device:GPU:0', device_type='GPU')]"
      ]
     },
     "execution_count": 10,
     "metadata": {},
     "output_type": "execute_result"
    }
   ],
   "source": [
    "tf.config.list_physical_devices('GPU')"
   ]
  },
  {
   "cell_type": "code",
   "execution_count": 11,
   "metadata": {},
   "outputs": [],
   "source": [
    "model.save('NN.h5')"
   ]
  }
 ],
 "metadata": {
  "kernelspec": {
   "display_name": "Python 3",
   "language": "python",
   "name": "python3"
  },
  "language_info": {
   "codemirror_mode": {
    "name": "ipython",
    "version": 3
   },
   "file_extension": ".py",
   "mimetype": "text/x-python",
   "name": "python",
   "nbconvert_exporter": "python",
   "pygments_lexer": "ipython3",
   "version": "3.9.18"
  }
 },
 "nbformat": 4,
 "nbformat_minor": 2
}
