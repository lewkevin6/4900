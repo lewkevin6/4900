{
 "cells": [
  {
   "cell_type": "code",
   "execution_count": 15,
   "metadata": {},
   "outputs": [],
   "source": [
    "import pandas as pd\n",
    "from sklearn.model_selection import train_test_split\n",
    "from sklearn.compose import ColumnTransformer\n",
    "from sklearn.preprocessing import OneHotEncoder, StandardScaler\n",
    "import matplotlib.pyplot as plt\n",
    "from imblearn.over_sampling import SMOTENC\n",
    "\n",
    "data = pd.read_csv(\"healthcare-dataset-stroke-data.csv\")\n",
    "\n",
    "balanced_data = data.dropna()\n",
    "balanced_data = balanced_data.drop(columns= \"id\")\n",
    "balanced_data = balanced_data[balanced_data.age > 20]\n",
    "balanced_data = balanced_data.drop(balanced_data.index[balanced_data[\"gender\"] == \"Other\"])\n",
    "balanced_data = balanced_data.drop(balanced_data.index[balanced_data[\"work_type\"] == \"Never_worked\"])\n",
    "\n",
    "features = ['gender', 'age', 'hypertension', 'heart_disease', 'ever_married', 'work_type', 'Residence_type', 'avg_glucose_level', \"bmi\", \"smoking_status\"]\n",
    "cat_columns = ['gender', 'ever_married', 'work_type', 'Residence_type', 'smoking_status', 'hypertension', 'heart_disease']\n",
    "num_columns = ['age', 'avg_glucose_level', 'bmi']\n",
    "\n",
    "bal_data_train, bal_data_test = train_test_split(balanced_data, train_size = 0.8, random_state=1, stratify= balanced_data[\"stroke\"])\n",
    "bal_data_train, bal_data_val = train_test_split(bal_data_train, train_size = 0.8, random_state=1)\n",
    "\n",
    "X_train = bal_data_train.drop('stroke', axis = 1)\n",
    "y_train = bal_data_train['stroke']\n",
    "\n",
    "X_val = bal_data_val.drop('stroke', axis = 1)\n",
    "y_val = bal_data_val['stroke']\n",
    "\n",
    "X_test = bal_data_test.drop('stroke', axis = 1)\n",
    "y_test = bal_data_test['stroke']"
   ]
  },
  {
   "cell_type": "code",
   "execution_count": 16,
   "metadata": {},
   "outputs": [
    {
     "data": {
      "text/html": [
       "<div>\n",
       "<style scoped>\n",
       "    .dataframe tbody tr th:only-of-type {\n",
       "        vertical-align: middle;\n",
       "    }\n",
       "\n",
       "    .dataframe tbody tr th {\n",
       "        vertical-align: top;\n",
       "    }\n",
       "\n",
       "    .dataframe thead th {\n",
       "        text-align: right;\n",
       "    }\n",
       "</style>\n",
       "<table border=\"1\" class=\"dataframe\">\n",
       "  <thead>\n",
       "    <tr style=\"text-align: right;\">\n",
       "      <th></th>\n",
       "      <th>gender</th>\n",
       "      <th>age</th>\n",
       "      <th>hypertension</th>\n",
       "      <th>heart_disease</th>\n",
       "      <th>ever_married</th>\n",
       "      <th>work_type</th>\n",
       "      <th>Residence_type</th>\n",
       "      <th>avg_glucose_level</th>\n",
       "      <th>bmi</th>\n",
       "      <th>smoking_status</th>\n",
       "    </tr>\n",
       "  </thead>\n",
       "  <tbody>\n",
       "    <tr>\n",
       "      <th>333</th>\n",
       "      <td>Female</td>\n",
       "      <td>52.0</td>\n",
       "      <td>0</td>\n",
       "      <td>0</td>\n",
       "      <td>Yes</td>\n",
       "      <td>Private</td>\n",
       "      <td>Urban</td>\n",
       "      <td>82.24</td>\n",
       "      <td>54.7</td>\n",
       "      <td>formerly smoked</td>\n",
       "    </tr>\n",
       "    <tr>\n",
       "      <th>2362</th>\n",
       "      <td>Female</td>\n",
       "      <td>80.0</td>\n",
       "      <td>0</td>\n",
       "      <td>1</td>\n",
       "      <td>Yes</td>\n",
       "      <td>Self-employed</td>\n",
       "      <td>Rural</td>\n",
       "      <td>98.39</td>\n",
       "      <td>22.2</td>\n",
       "      <td>smokes</td>\n",
       "    </tr>\n",
       "    <tr>\n",
       "      <th>450</th>\n",
       "      <td>Male</td>\n",
       "      <td>72.0</td>\n",
       "      <td>0</td>\n",
       "      <td>1</td>\n",
       "      <td>Yes</td>\n",
       "      <td>Self-employed</td>\n",
       "      <td>Rural</td>\n",
       "      <td>97.53</td>\n",
       "      <td>29.4</td>\n",
       "      <td>smokes</td>\n",
       "    </tr>\n",
       "    <tr>\n",
       "      <th>5014</th>\n",
       "      <td>Male</td>\n",
       "      <td>29.0</td>\n",
       "      <td>0</td>\n",
       "      <td>0</td>\n",
       "      <td>No</td>\n",
       "      <td>Private</td>\n",
       "      <td>Urban</td>\n",
       "      <td>82.93</td>\n",
       "      <td>29.4</td>\n",
       "      <td>formerly smoked</td>\n",
       "    </tr>\n",
       "    <tr>\n",
       "      <th>3691</th>\n",
       "      <td>Female</td>\n",
       "      <td>75.0</td>\n",
       "      <td>0</td>\n",
       "      <td>0</td>\n",
       "      <td>Yes</td>\n",
       "      <td>Self-employed</td>\n",
       "      <td>Urban</td>\n",
       "      <td>60.60</td>\n",
       "      <td>40.4</td>\n",
       "      <td>smokes</td>\n",
       "    </tr>\n",
       "    <tr>\n",
       "      <th>...</th>\n",
       "      <td>...</td>\n",
       "      <td>...</td>\n",
       "      <td>...</td>\n",
       "      <td>...</td>\n",
       "      <td>...</td>\n",
       "      <td>...</td>\n",
       "      <td>...</td>\n",
       "      <td>...</td>\n",
       "      <td>...</td>\n",
       "      <td>...</td>\n",
       "    </tr>\n",
       "    <tr>\n",
       "      <th>4529</th>\n",
       "      <td>Male</td>\n",
       "      <td>82.0</td>\n",
       "      <td>0</td>\n",
       "      <td>1</td>\n",
       "      <td>Yes</td>\n",
       "      <td>Private</td>\n",
       "      <td>Urban</td>\n",
       "      <td>57.56</td>\n",
       "      <td>27.5</td>\n",
       "      <td>never smoked</td>\n",
       "    </tr>\n",
       "    <tr>\n",
       "      <th>1236</th>\n",
       "      <td>Male</td>\n",
       "      <td>67.0</td>\n",
       "      <td>0</td>\n",
       "      <td>0</td>\n",
       "      <td>Yes</td>\n",
       "      <td>Govt_job</td>\n",
       "      <td>Rural</td>\n",
       "      <td>93.71</td>\n",
       "      <td>31.2</td>\n",
       "      <td>formerly smoked</td>\n",
       "    </tr>\n",
       "    <tr>\n",
       "      <th>3512</th>\n",
       "      <td>Female</td>\n",
       "      <td>38.0</td>\n",
       "      <td>0</td>\n",
       "      <td>0</td>\n",
       "      <td>Yes</td>\n",
       "      <td>Private</td>\n",
       "      <td>Rural</td>\n",
       "      <td>66.16</td>\n",
       "      <td>42.7</td>\n",
       "      <td>Unknown</td>\n",
       "    </tr>\n",
       "    <tr>\n",
       "      <th>2309</th>\n",
       "      <td>Female</td>\n",
       "      <td>50.0</td>\n",
       "      <td>0</td>\n",
       "      <td>0</td>\n",
       "      <td>Yes</td>\n",
       "      <td>Govt_job</td>\n",
       "      <td>Urban</td>\n",
       "      <td>89.95</td>\n",
       "      <td>48.9</td>\n",
       "      <td>formerly smoked</td>\n",
       "    </tr>\n",
       "    <tr>\n",
       "      <th>795</th>\n",
       "      <td>Female</td>\n",
       "      <td>31.0</td>\n",
       "      <td>0</td>\n",
       "      <td>0</td>\n",
       "      <td>Yes</td>\n",
       "      <td>Govt_job</td>\n",
       "      <td>Rural</td>\n",
       "      <td>103.55</td>\n",
       "      <td>20.5</td>\n",
       "      <td>formerly smoked</td>\n",
       "    </tr>\n",
       "  </tbody>\n",
       "</table>\n",
       "<p>782 rows × 10 columns</p>\n",
       "</div>"
      ],
      "text/plain": [
       "      gender   age  hypertension  heart_disease ever_married      work_type  \\\n",
       "333   Female  52.0             0              0          Yes        Private   \n",
       "2362  Female  80.0             0              1          Yes  Self-employed   \n",
       "450     Male  72.0             0              1          Yes  Self-employed   \n",
       "5014    Male  29.0             0              0           No        Private   \n",
       "3691  Female  75.0             0              0          Yes  Self-employed   \n",
       "...      ...   ...           ...            ...          ...            ...   \n",
       "4529    Male  82.0             0              1          Yes        Private   \n",
       "1236    Male  67.0             0              0          Yes       Govt_job   \n",
       "3512  Female  38.0             0              0          Yes        Private   \n",
       "2309  Female  50.0             0              0          Yes       Govt_job   \n",
       "795   Female  31.0             0              0          Yes       Govt_job   \n",
       "\n",
       "     Residence_type  avg_glucose_level   bmi   smoking_status  \n",
       "333           Urban              82.24  54.7  formerly smoked  \n",
       "2362          Rural              98.39  22.2           smokes  \n",
       "450           Rural              97.53  29.4           smokes  \n",
       "5014          Urban              82.93  29.4  formerly smoked  \n",
       "3691          Urban              60.60  40.4           smokes  \n",
       "...             ...                ...   ...              ...  \n",
       "4529          Urban              57.56  27.5     never smoked  \n",
       "1236          Rural              93.71  31.2  formerly smoked  \n",
       "3512          Rural              66.16  42.7          Unknown  \n",
       "2309          Urban              89.95  48.9  formerly smoked  \n",
       "795           Rural             103.55  20.5  formerly smoked  \n",
       "\n",
       "[782 rows x 10 columns]"
      ]
     },
     "execution_count": 16,
     "metadata": {},
     "output_type": "execute_result"
    }
   ],
   "source": [
    "X_test"
   ]
  },
  {
   "cell_type": "code",
   "execution_count": 17,
   "metadata": {},
   "outputs": [],
   "source": [
    "smotenc = SMOTENC(cat_columns, random_state= 1)\n",
    "\n",
    "X_train, y_train = smotenc.fit_resample(X_train, y_train)"
   ]
  },
  {
   "cell_type": "code",
   "execution_count": 18,
   "metadata": {},
   "outputs": [],
   "source": [
    "preprocessing = ColumnTransformer([\n",
    "    ('one-hot-encoder', OneHotEncoder(sparse_output=False), cat_columns),\n",
    "    ('scaler', StandardScaler(), num_columns)\n",
    "])"
   ]
  },
  {
   "cell_type": "code",
   "execution_count": 19,
   "metadata": {},
   "outputs": [],
   "source": [
    "X_train2 = preprocessing.fit_transform(X_train)\n",
    "X_val2 = preprocessing.transform(X_val)\n",
    "X_test2 = preprocessing.transform(X_test)"
   ]
  },
  {
   "cell_type": "markdown",
   "metadata": {},
   "source": [
    "Initial model starts at 0.07 recall"
   ]
  },
  {
   "cell_type": "code",
   "execution_count": 20,
   "metadata": {},
   "outputs": [],
   "source": [
    "import tensorflow as tf\n",
    "\n",
    "tf.random.set_seed(1)\n",
    "model = tf.keras.Sequential()\n",
    "model.add(tf.keras.layers.Input(shape=20))\n",
    "\n",
    "model.add(tf.keras.layers.BatchNormalization())\n",
    "model.add(tf.keras.layers.Dense(512, 'relu', kernel_regularizer= tf.keras.regularizers.l2(l=0.00001)))\n",
    "model.add(tf.keras.layers.Dropout(0.8))\n",
    "\n",
    "model.add(tf.keras.layers.BatchNormalization())\n",
    "model.add(tf.keras.layers.Dense(256, 'relu', kernel_regularizer= tf.keras.regularizers.l2(l=0.00001)))\n",
    "model.add(tf.keras.layers.Dropout(0.8))\n",
    "\n",
    "model.add(tf.keras.layers.BatchNormalization())\n",
    "model.add(tf.keras.layers.Dense(128, 'relu', kernel_regularizer= tf.keras.regularizers.l2(l=0.00001)))\n",
    "model.add(tf.keras.layers.Dropout(0.8))\n",
    "\n",
    "\n",
    "model.add(tf.keras.layers.Dense(1, \"sigmoid\"))\n",
    "model.compile(loss=\"binary_crossentropy\", optimizer=\"adam\", metrics=['Recall'])"
   ]
  },
  {
   "cell_type": "code",
   "execution_count": 21,
   "metadata": {},
   "outputs": [
    {
     "name": "stdout",
     "output_type": "stream",
     "text": [
      "Model: \"sequential_1\"\n",
      "_________________________________________________________________\n",
      " Layer (type)                Output Shape              Param #   \n",
      "=================================================================\n",
      " batch_normalization_3 (Batc  (None, 20)               80        \n",
      " hNormalization)                                                 \n",
      "                                                                 \n",
      " dense_4 (Dense)             (None, 512)               10752     \n",
      "                                                                 \n",
      " dropout_3 (Dropout)         (None, 512)               0         \n",
      "                                                                 \n",
      " batch_normalization_4 (Batc  (None, 512)              2048      \n",
      " hNormalization)                                                 \n",
      "                                                                 \n",
      " dense_5 (Dense)             (None, 256)               131328    \n",
      "                                                                 \n",
      " dropout_4 (Dropout)         (None, 256)               0         \n",
      "                                                                 \n",
      " batch_normalization_5 (Batc  (None, 256)              1024      \n",
      " hNormalization)                                                 \n",
      "                                                                 \n",
      " dense_6 (Dense)             (None, 128)               32896     \n",
      "                                                                 \n",
      " dropout_5 (Dropout)         (None, 128)               0         \n",
      "                                                                 \n",
      " dense_7 (Dense)             (None, 1)                 129       \n",
      "                                                                 \n",
      "=================================================================\n",
      "Total params: 178,257\n",
      "Trainable params: 176,681\n",
      "Non-trainable params: 1,576\n",
      "_________________________________________________________________\n"
     ]
    }
   ],
   "source": [
    "model.summary()\n",
    "\n",
    "callback = tf.keras.callbacks.EarlyStopping(monitor='val_loss', patience=5)"
   ]
  },
  {
   "cell_type": "code",
   "execution_count": 22,
   "metadata": {},
   "outputs": [
    {
     "name": "stdout",
     "output_type": "stream",
     "text": [
      "Epoch 1/100\n",
      "149/149 [==============================] - 3s 11ms/step - loss: 1.0233 - recall: 0.5308 - val_loss: 0.6804 - val_recall: 0.9211\n",
      "Epoch 2/100\n",
      "149/149 [==============================] - 1s 9ms/step - loss: 0.7832 - recall: 0.5991 - val_loss: 0.6030 - val_recall: 0.8684\n",
      "Epoch 3/100\n",
      "149/149 [==============================] - 1s 9ms/step - loss: 0.6698 - recall: 0.6535 - val_loss: 0.5470 - val_recall: 0.8421\n",
      "Epoch 4/100\n",
      "149/149 [==============================] - 2s 13ms/step - loss: 0.6053 - recall: 0.7137 - val_loss: 0.5466 - val_recall: 0.8684\n",
      "Epoch 5/100\n",
      "149/149 [==============================] - 2s 12ms/step - loss: 0.5702 - recall: 0.7719 - val_loss: 0.5595 - val_recall: 0.8684\n",
      "Epoch 6/100\n",
      "149/149 [==============================] - 1s 9ms/step - loss: 0.5558 - recall: 0.7997 - val_loss: 0.5312 - val_recall: 0.8421\n",
      "Epoch 7/100\n",
      "149/149 [==============================] - 1s 9ms/step - loss: 0.5401 - recall: 0.8103 - val_loss: 0.5469 - val_recall: 0.8421\n",
      "Epoch 8/100\n",
      "149/149 [==============================] - 1s 9ms/step - loss: 0.5183 - recall: 0.8364 - val_loss: 0.5426 - val_recall: 0.8421\n",
      "Epoch 9/100\n",
      "149/149 [==============================] - 2s 10ms/step - loss: 0.5125 - recall: 0.8411 - val_loss: 0.5436 - val_recall: 0.8421\n",
      "Epoch 10/100\n",
      "149/149 [==============================] - 2s 13ms/step - loss: 0.5107 - recall: 0.8352 - val_loss: 0.5293 - val_recall: 0.8421\n",
      "Epoch 11/100\n",
      "149/149 [==============================] - 2s 11ms/step - loss: 0.5031 - recall: 0.8465 - val_loss: 0.5334 - val_recall: 0.8421\n",
      "Epoch 12/100\n",
      "149/149 [==============================] - 1s 8ms/step - loss: 0.5040 - recall: 0.8537 - val_loss: 0.5479 - val_recall: 0.8421\n",
      "Epoch 13/100\n",
      "149/149 [==============================] - 1s 8ms/step - loss: 0.4987 - recall: 0.8487 - val_loss: 0.5248 - val_recall: 0.8158\n",
      "Epoch 14/100\n",
      "149/149 [==============================] - 2s 10ms/step - loss: 0.4839 - recall: 0.8621 - val_loss: 0.5306 - val_recall: 0.8158\n",
      "Epoch 15/100\n",
      "149/149 [==============================] - 2s 10ms/step - loss: 0.4985 - recall: 0.8651 - val_loss: 0.4985 - val_recall: 0.8158\n",
      "Epoch 16/100\n",
      "149/149 [==============================] - 2s 13ms/step - loss: 0.4910 - recall: 0.8575 - val_loss: 0.5448 - val_recall: 0.8421\n",
      "Epoch 17/100\n",
      "149/149 [==============================] - 2s 10ms/step - loss: 0.4853 - recall: 0.8714 - val_loss: 0.5066 - val_recall: 0.8158\n",
      "Epoch 18/100\n",
      "149/149 [==============================] - 2s 13ms/step - loss: 0.4857 - recall: 0.8524 - val_loss: 0.5245 - val_recall: 0.8158\n",
      "Epoch 19/100\n",
      "149/149 [==============================] - 2s 11ms/step - loss: 0.4830 - recall: 0.8634 - val_loss: 0.5121 - val_recall: 0.8158\n",
      "Epoch 20/100\n",
      "149/149 [==============================] - 2s 12ms/step - loss: 0.4730 - recall: 0.8638 - val_loss: 0.5402 - val_recall: 0.8158\n"
     ]
    }
   ],
   "source": [
    "model_history = model.fit(X_train2, y_train, validation_data=(X_val2, y_val), epochs=100, callbacks= [callback])"
   ]
  },
  {
   "cell_type": "code",
   "execution_count": 23,
   "metadata": {},
   "outputs": [
    {
     "data": {
      "text/plain": [
       "[<matplotlib.lines.Line2D at 0x22f5ce50e80>]"
      ]
     },
     "execution_count": 23,
     "metadata": {},
     "output_type": "execute_result"
    },
    {
     "data": {
      "image/png": "[encoded data removed]",
      "text/plain": [
       "<Figure size 640x480 with 1 Axes>"
      ]
     },
     "metadata": {},
     "output_type": "display_data"
    }
   ],
   "source": [
    "plt.plot(model_history.history['recall'])"
   ]
  },
  {
   "cell_type": "code",
   "execution_count": 24,
   "metadata": {},
   "outputs": [
    {
     "name": "stdout",
     "output_type": "stream",
     "text": [
      "25/25 [==============================] - 0s 4ms/step - loss: 0.5976 - recall: 0.4048\n"
     ]
    },
    {
     "data": {
      "text/plain": [
       "[0.597622275352478, 0.4047619104385376]"
      ]
     },
     "execution_count": 24,
     "metadata": {},
     "output_type": "execute_result"
    }
   ],
   "source": [
    "model.evaluate(X_test2, y_test)"
   ]
  },
  {
   "cell_type": "code",
   "execution_count": 25,
   "metadata": {},
   "outputs": [],
   "source": [
    "model.save('NN.h5')"
   ]
  }
 ],
 "metadata": {
  "kernelspec": {
   "display_name": "Python 3",
   "language": "python",
   "name": "python3"
  },
  "language_info": {
   "codemirror_mode": {
    "name": "ipython",
    "version": 3
   },
   "file_extension": ".py",
   "mimetype": "text/x-python",
   "name": "python",
   "nbconvert_exporter": "python",
   "pygments_lexer": "ipython3",
   "version": "3.9.18"
  }
 },
 "nbformat": 4,
 "nbformat_minor": 2
}
