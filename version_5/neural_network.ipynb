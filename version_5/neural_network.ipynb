{
 "cells": [
  {
   "cell_type": "code",
   "execution_count": 36,
   "metadata": {},
   "outputs": [],
   "source": [
    "import pandas as pd\n",
    "from sklearn.model_selection import train_test_split\n",
    "from sklearn.compose import ColumnTransformer\n",
    "from sklearn.preprocessing import OneHotEncoder, StandardScaler\n",
    "import matplotlib.pyplot as plt\n",
    "\n",
    "\n",
    "data = pd.read_csv(\"healthcare-dataset-stroke-data.csv\")\n",
    "\n",
    "balanced_data = data.dropna()\n",
    "balanced_data = balanced_data.drop(columns= \"id\")\n",
    "balanced_data = balanced_data[balanced_data.age > 20]\n",
    "balanced_data = balanced_data.drop(balanced_data.index[balanced_data[\"gender\"] == \"Other\"])\n",
    "balanced_data = balanced_data.drop(balanced_data.index[balanced_data[\"work_type\"] == \"Never_worked\"])\n",
    "\n",
    "features = ['gender', 'age', 'hypertension', 'heart_disease', 'ever_married', 'work_type', 'Residence_type', 'avg_glucose_level', \"bmi\", \"smoking_status\"]\n",
    "cat_columns = ['gender', 'ever_married', 'work_type', 'Residence_type', 'smoking_status', 'hypertension', 'heart_disease']\n",
    "num_columns = ['age', 'avg_glucose_level', 'bmi']\n",
    "\n",
    "bal_data_train, bal_data_test = train_test_split(balanced_data, train_size = 0.8, random_state=1, stratify= balanced_data[\"stroke\"])\n",
    "bal_data_train, bal_data_val = train_test_split(bal_data_train, train_size = 0.8, random_state=1)\n",
    "\n",
    "X_train = bal_data_train.drop('stroke', axis = 1)\n",
    "y_train = bal_data_train['stroke']\n",
    "\n",
    "X_val = bal_data_val.drop('stroke', axis = 1)\n",
    "y_val = bal_data_val['stroke']\n",
    "\n",
    "X_test = bal_data_test.drop('stroke', axis = 1)\n",
    "y_test = bal_data_test['stroke']"
   ]
  },
  {
   "cell_type": "code",
   "execution_count": 37,
   "metadata": {},
   "outputs": [],
   "source": [
    "preprocessing = ColumnTransformer([\n",
    "    ('one-hot-encoder', OneHotEncoder(sparse_output=False), cat_columns),\n",
    "    ('scaler', StandardScaler(), num_columns)\n",
    "])"
   ]
  },
  {
   "cell_type": "code",
   "execution_count": 38,
   "metadata": {},
   "outputs": [],
   "source": [
    "X_train2 = preprocessing.fit_transform(X_train)\n",
    "X_val2 = preprocessing.transform(X_val)\n",
    "X_test2 = preprocessing.transform(X_test)"
   ]
  },
  {
   "cell_type": "markdown",
   "metadata": {},
   "source": [
    "Initial model starts at 0.07 recall"
   ]
  },
  {
   "cell_type": "code",
   "execution_count": 44,
   "metadata": {},
   "outputs": [
    {
     "name": "stdout",
     "output_type": "stream",
     "text": [
      "Model: \"sequential_12\"\n",
      "_________________________________________________________________\n",
      " Layer (type)                Output Shape              Param #   \n",
      "=================================================================\n",
      " batch_normalization_21 (Bat  (None, 20)               80        \n",
      " chNormalization)                                                \n",
      "                                                                 \n",
      " dense_44 (Dense)            (None, 512)               10752     \n",
      "                                                                 \n",
      " batch_normalization_22 (Bat  (None, 512)              2048      \n",
      " chNormalization)                                                \n",
      "                                                                 \n",
      " dense_45 (Dense)            (None, 256)               131328    \n",
      "                                                                 \n",
      " batch_normalization_23 (Bat  (None, 256)              1024      \n",
      " chNormalization)                                                \n",
      "                                                                 \n",
      " dense_46 (Dense)            (None, 128)               32896     \n",
      "                                                                 \n",
      " dense_47 (Dense)            (None, 1)                 129       \n",
      "                                                                 \n",
      "=================================================================\n",
      "Total params: 178,257\n",
      "Trainable params: 176,681\n",
      "Non-trainable params: 1,576\n",
      "_________________________________________________________________\n"
     ]
    }
   ],
   "source": [
    "import tensorflow as tf\n",
    "\n",
    "tf.random.set_seed(1)\n",
    "model = tf.keras.Sequential()\n",
    "model.add(tf.keras.layers.Input(shape=20))\n",
    "model.add(tf.keras.layers.BatchNormalization())\n",
    "model.add(tf.keras.layers.Dense(512, 'relu', kernel_regularizer= tf.keras.regularizers.l2(l=0.1)))\n",
    "model.add(tf.keras.layers.BatchNormalization())\n",
    "model.add(tf.keras.layers.Dense(256, 'relu', kernel_regularizer= tf.keras.regularizers.l2(l=0.1)))\n",
    "model.add(tf.keras.layers.BatchNormalization())\n",
    "model.add(tf.keras.layers.Dense(128, 'relu', kernel_regularizer= tf.keras.regularizers.l2(l=0.1)))\n",
    "model.add(tf.keras.layers.Dense(1, \"sigmoid\"))\n",
    "model.compile(loss=\"binary_crossentropy\", optimizer=\"adam\", metrics=['Recall'])\n",
    "\n",
    "model.summary()\n",
    "#model.add(tf.keras.layers.Dense(128, 'relu', kernel_regularizer= tf.keras.regularizers.l2(l=0.1)))"
   ]
  },
  {
   "cell_type": "code",
   "execution_count": 45,
   "metadata": {},
   "outputs": [
    {
     "name": "stdout",
     "output_type": "stream",
     "text": [
      "Epoch 1/50\n",
      "79/79 [==============================] - 2s 10ms/step - loss: 21.8673 - recall: 0.0625 - val_loss: 4.6320 - val_recall: 0.0000e+00\n",
      "Epoch 2/50\n",
      "79/79 [==============================] - 1s 8ms/step - loss: 1.6389 - recall: 0.0000e+00 - val_loss: 0.6611 - val_recall: 0.0000e+00\n",
      "Epoch 3/50\n",
      "79/79 [==============================] - 1s 9ms/step - loss: 0.3318 - recall: 0.0000e+00 - val_loss: 0.3913 - val_recall: 0.0000e+00\n",
      "Epoch 4/50\n",
      "79/79 [==============================] - 1s 9ms/step - loss: 0.2445 - recall: 0.0000e+00 - val_loss: 0.3403 - val_recall: 0.0000e+00\n",
      "Epoch 5/50\n",
      "79/79 [==============================] - 1s 9ms/step - loss: 0.2474 - recall: 0.0000e+00 - val_loss: 0.2672 - val_recall: 0.0000e+00\n",
      "Epoch 6/50\n",
      "79/79 [==============================] - 1s 10ms/step - loss: 0.2385 - recall: 0.0000e+00 - val_loss: 0.2694 - val_recall: 0.0000e+00\n",
      "Epoch 7/50\n",
      "79/79 [==============================] - 1s 10ms/step - loss: 0.2340 - recall: 0.0000e+00 - val_loss: 0.2671 - val_recall: 0.0000e+00\n",
      "Epoch 8/50\n",
      "79/79 [==============================] - 1s 11ms/step - loss: 0.2238 - recall: 0.0000e+00 - val_loss: 0.2618 - val_recall: 0.0000e+00\n",
      "Epoch 9/50\n",
      "79/79 [==============================] - 1s 12ms/step - loss: 0.2208 - recall: 0.0000e+00 - val_loss: 0.2784 - val_recall: 0.0000e+00\n",
      "Epoch 10/50\n",
      "79/79 [==============================] - 1s 13ms/step - loss: 0.2168 - recall: 0.0000e+00 - val_loss: 0.2990 - val_recall: 0.0000e+00\n",
      "Epoch 11/50\n",
      "79/79 [==============================] - 1s 10ms/step - loss: 0.2338 - recall: 0.0000e+00 - val_loss: 0.2492 - val_recall: 0.0000e+00\n",
      "Epoch 12/50\n",
      "79/79 [==============================] - 1s 9ms/step - loss: 0.2292 - recall: 0.0000e+00 - val_loss: 0.2456 - val_recall: 0.0000e+00\n",
      "Epoch 13/50\n",
      "79/79 [==============================] - 1s 10ms/step - loss: 0.2138 - recall: 0.0000e+00 - val_loss: 0.2477 - val_recall: 0.0000e+00\n",
      "Epoch 14/50\n",
      "79/79 [==============================] - 1s 10ms/step - loss: 0.2232 - recall: 0.0000e+00 - val_loss: 0.2349 - val_recall: 0.0000e+00\n",
      "Epoch 15/50\n",
      "79/79 [==============================] - 1s 10ms/step - loss: 0.2409 - recall: 0.0000e+00 - val_loss: 0.2476 - val_recall: 0.0000e+00\n",
      "Epoch 16/50\n",
      "79/79 [==============================] - 1s 10ms/step - loss: 0.2179 - recall: 0.0000e+00 - val_loss: 0.2198 - val_recall: 0.0000e+00\n",
      "Epoch 17/50\n",
      "79/79 [==============================] - 1s 10ms/step - loss: 0.2220 - recall: 0.0000e+00 - val_loss: 0.2393 - val_recall: 0.0000e+00\n",
      "Epoch 18/50\n",
      "79/79 [==============================] - 1s 10ms/step - loss: 0.2291 - recall: 0.0000e+00 - val_loss: 0.2376 - val_recall: 0.0000e+00\n",
      "Epoch 19/50\n",
      "79/79 [==============================] - 1s 10ms/step - loss: 0.2051 - recall: 0.0000e+00 - val_loss: 0.2120 - val_recall: 0.0000e+00\n",
      "Epoch 20/50\n",
      "79/79 [==============================] - 1s 10ms/step - loss: 0.1977 - recall: 0.0000e+00 - val_loss: 0.2376 - val_recall: 0.0000e+00\n",
      "Epoch 21/50\n",
      "79/79 [==============================] - 1s 10ms/step - loss: 0.2076 - recall: 0.0000e+00 - val_loss: 0.2426 - val_recall: 0.0000e+00\n",
      "Epoch 22/50\n",
      "79/79 [==============================] - 1s 10ms/step - loss: 0.2028 - recall: 0.0000e+00 - val_loss: 0.2323 - val_recall: 0.0000e+00\n",
      "Epoch 23/50\n",
      "79/79 [==============================] - 1s 10ms/step - loss: 0.1994 - recall: 0.0000e+00 - val_loss: 0.2202 - val_recall: 0.0000e+00\n",
      "Epoch 24/50\n",
      "79/79 [==============================] - 1s 10ms/step - loss: 0.1956 - recall: 0.0000e+00 - val_loss: 0.2267 - val_recall: 0.0000e+00\n",
      "Epoch 25/50\n",
      "79/79 [==============================] - 1s 10ms/step - loss: 0.2016 - recall: 0.0000e+00 - val_loss: 0.2258 - val_recall: 0.0000e+00\n",
      "Epoch 26/50\n",
      "79/79 [==============================] - 1s 9ms/step - loss: 0.1914 - recall: 0.0000e+00 - val_loss: 0.2160 - val_recall: 0.0000e+00\n",
      "Epoch 27/50\n",
      "79/79 [==============================] - 1s 11ms/step - loss: 0.1909 - recall: 0.0000e+00 - val_loss: 0.2174 - val_recall: 0.0000e+00\n",
      "Epoch 28/50\n",
      "79/79 [==============================] - 1s 11ms/step - loss: 0.1977 - recall: 0.0000e+00 - val_loss: 0.2192 - val_recall: 0.0000e+00\n",
      "Epoch 29/50\n",
      "79/79 [==============================] - 1s 9ms/step - loss: 0.1959 - recall: 0.0000e+00 - val_loss: 0.2090 - val_recall: 0.0000e+00\n",
      "Epoch 30/50\n",
      "79/79 [==============================] - 1s 9ms/step - loss: 0.1964 - recall: 0.0000e+00 - val_loss: 0.2207 - val_recall: 0.0000e+00\n",
      "Epoch 31/50\n",
      "79/79 [==============================] - 1s 8ms/step - loss: 0.1907 - recall: 0.0000e+00 - val_loss: 0.2150 - val_recall: 0.0000e+00\n",
      "Epoch 32/50\n",
      "79/79 [==============================] - 1s 10ms/step - loss: 0.1990 - recall: 0.0000e+00 - val_loss: 0.2105 - val_recall: 0.0000e+00\n",
      "Epoch 33/50\n",
      "79/79 [==============================] - 1s 10ms/step - loss: 0.1918 - recall: 0.0000e+00 - val_loss: 0.2188 - val_recall: 0.0000e+00\n",
      "Epoch 34/50\n",
      "79/79 [==============================] - 1s 11ms/step - loss: 0.2075 - recall: 0.0000e+00 - val_loss: 0.2101 - val_recall: 0.0000e+00\n",
      "Epoch 35/50\n",
      "79/79 [==============================] - 1s 11ms/step - loss: 0.1888 - recall: 0.0000e+00 - val_loss: 0.2081 - val_recall: 0.0000e+00\n",
      "Epoch 36/50\n",
      "79/79 [==============================] - 1s 10ms/step - loss: 0.1899 - recall: 0.0000e+00 - val_loss: 0.2115 - val_recall: 0.0000e+00\n",
      "Epoch 37/50\n",
      "79/79 [==============================] - 1s 9ms/step - loss: 0.1904 - recall: 0.0000e+00 - val_loss: 0.2108 - val_recall: 0.0000e+00\n",
      "Epoch 38/50\n",
      "79/79 [==============================] - 1s 7ms/step - loss: 0.1886 - recall: 0.0000e+00 - val_loss: 0.2186 - val_recall: 0.0000e+00\n",
      "Epoch 39/50\n",
      "79/79 [==============================] - 1s 8ms/step - loss: 0.1900 - recall: 0.0000e+00 - val_loss: 0.2109 - val_recall: 0.0000e+00\n",
      "Epoch 40/50\n",
      "79/79 [==============================] - 1s 8ms/step - loss: 0.1905 - recall: 0.0000e+00 - val_loss: 0.2110 - val_recall: 0.0000e+00\n",
      "Epoch 41/50\n",
      "79/79 [==============================] - 1s 9ms/step - loss: 0.1902 - recall: 0.0000e+00 - val_loss: 0.2054 - val_recall: 0.0000e+00\n",
      "Epoch 42/50\n",
      "79/79 [==============================] - 1s 9ms/step - loss: 0.1927 - recall: 0.0000e+00 - val_loss: 0.2029 - val_recall: 0.0000e+00\n",
      "Epoch 43/50\n",
      "79/79 [==============================] - 1s 10ms/step - loss: 0.1856 - recall: 0.0000e+00 - val_loss: 0.2030 - val_recall: 0.0000e+00\n",
      "Epoch 44/50\n",
      "79/79 [==============================] - 1s 9ms/step - loss: 0.1956 - recall: 0.0000e+00 - val_loss: 0.2122 - val_recall: 0.0000e+00\n",
      "Epoch 45/50\n",
      "79/79 [==============================] - 1s 10ms/step - loss: 0.1897 - recall: 0.0000e+00 - val_loss: 0.2187 - val_recall: 0.0000e+00\n",
      "Epoch 46/50\n",
      "79/79 [==============================] - 1s 10ms/step - loss: 0.1909 - recall: 0.0000e+00 - val_loss: 0.2251 - val_recall: 0.0000e+00\n",
      "Epoch 47/50\n",
      "79/79 [==============================] - 1s 11ms/step - loss: 0.1907 - recall: 0.0000e+00 - val_loss: 0.2391 - val_recall: 0.0000e+00\n",
      "Epoch 48/50\n",
      "79/79 [==============================] - 1s 10ms/step - loss: 0.1969 - recall: 0.0000e+00 - val_loss: 0.2119 - val_recall: 0.0000e+00\n",
      "Epoch 49/50\n",
      "79/79 [==============================] - 1s 10ms/step - loss: 0.1892 - recall: 0.0000e+00 - val_loss: 0.2031 - val_recall: 0.0000e+00\n",
      "Epoch 50/50\n",
      "79/79 [==============================] - 1s 11ms/step - loss: 0.1836 - recall: 0.0000e+00 - val_loss: 0.2018 - val_recall: 0.0000e+00\n"
     ]
    }
   ],
   "source": [
    "model_history = model.fit(X_train2, y_train, validation_data=(X_val2, y_val), epochs=50)"
   ]
  },
  {
   "cell_type": "code",
   "execution_count": 46,
   "metadata": {},
   "outputs": [
    {
     "data": {
      "text/plain": [
       "[<matplotlib.lines.Line2D at 0x1a0965e6bb0>]"
      ]
     },
     "execution_count": 46,
     "metadata": {},
     "output_type": "execute_result"
    },
    {
     "data": {
      "image/png": "[encoded data removed]",
      "text/plain": [
       "<Figure size 640x480 with 1 Axes>"
      ]
     },
     "metadata": {},
     "output_type": "display_data"
    }
   ],
   "source": [
    "plt.plot(model_history.history['recall'])"
   ]
  },
  {
   "cell_type": "code",
   "execution_count": null,
   "metadata": {},
   "outputs": [
    {
     "name": "stdout",
     "output_type": "stream",
     "text": [
      "25/25 [==============================] - 0s 5ms/step - loss: 0.1900 - recall: 0.0000e+00\n"
     ]
    },
    {
     "data": {
      "text/plain": [
       "[0.19000446796417236, 0.0]"
      ]
     },
     "execution_count": 25,
     "metadata": {},
     "output_type": "execute_result"
    }
   ],
   "source": [
    "model.evaluate(X_test2, y_test)"
   ]
  },
  {
   "cell_type": "markdown",
   "metadata": {},
   "source": [
    "https://imbalanced-learn.org/stable/miscellaneous.html\n",
    "\n",
    "https://www.freecodecamp.org/news/binary-classification-made-simple-with-tensorflow/\n"
   ]
  },
  {
   "cell_type": "code",
   "execution_count": null,
   "metadata": {},
   "outputs": [
    {
     "data": {
      "text/plain": [
       "[PhysicalDevice(name='/physical_device:GPU:0', device_type='GPU')]"
      ]
     },
     "execution_count": 10,
     "metadata": {},
     "output_type": "execute_result"
    }
   ],
   "source": [
    "tf.config.list_physical_devices('GPU')"
   ]
  }
 ],
 "metadata": {
  "kernelspec": {
   "display_name": "Python 3",
   "language": "python",
   "name": "python3"
  },
  "language_info": {
   "codemirror_mode": {
    "name": "ipython",
    "version": 3
   },
   "file_extension": ".py",
   "mimetype": "text/x-python",
   "name": "python",
   "nbconvert_exporter": "python",
   "pygments_lexer": "ipython3",
   "version": "3.9.18"
  }
 },
 "nbformat": 4,
 "nbformat_minor": 2
}
