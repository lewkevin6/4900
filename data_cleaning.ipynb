{
 "cells": [
  {
   "cell_type": "markdown",
   "metadata": {},
   "source": [
    "Importing dataset into a dataframe and making a copy of it for us to manipulate"
   ]
  },
  {
   "cell_type": "code",
   "execution_count": 1,
   "metadata": {},
   "outputs": [
    {
     "name": "stdout",
     "output_type": "stream",
     "text": [
      "<class 'pandas.core.frame.DataFrame'>\n",
      "Int64Index: 4909 entries, 0 to 5109\n",
      "Data columns (total 11 columns):\n",
      " #   Column             Non-Null Count  Dtype  \n",
      "---  ------             --------------  -----  \n",
      " 0   gender             4909 non-null   object \n",
      " 1   age                4909 non-null   float64\n",
      " 2   hypertension       4909 non-null   int64  \n",
      " 3   heart_disease      4909 non-null   int64  \n",
      " 4   ever_married       4909 non-null   object \n",
      " 5   work_type          4909 non-null   object \n",
      " 6   Residence_type     4909 non-null   object \n",
      " 7   avg_glucose_level  4909 non-null   float64\n",
      " 8   bmi                4909 non-null   float64\n",
      " 9   smoking_status     4909 non-null   object \n",
      " 10  stroke             4909 non-null   int64  \n",
      "dtypes: float64(3), int64(3), object(5)\n",
      "memory usage: 460.2+ KB\n"
     ]
    }
   ],
   "source": [
    "import pandas as pd\n",
    "import matplotlib.pyplot as plt\n",
    "original_data = pd.read_csv(\"healthcare-dataset-stroke-data.csv\")\n",
    "\n",
    "#Copy the original data into a new one and drop the N/A values\n",
    "new_data = original_data.dropna()\n",
    "#Get rid of ID column\n",
    "del new_data[new_data.columns[0]]\n",
    "new_data.info()"
   ]
  },
  {
   "cell_type": "markdown",
   "metadata": {},
   "source": [
    "Changing \"gender\" column | 0 = Male, 1 = Female"
   ]
  },
  {
   "cell_type": "code",
   "execution_count": 2,
   "metadata": {},
   "outputs": [
    {
     "data": {
      "image/png": "[encoded data removed]",
      "text/plain": [
       "<Figure size 640x480 with 1 Axes>"
      ]
     },
     "metadata": {},
     "output_type": "display_data"
    },
    {
     "name": "stdout",
     "output_type": "stream",
     "text": [
      "Female    2897\n",
      "Male      2011\n",
      "Other        1\n",
      "Name: gender, dtype: int64\n",
      "Female    2897\n",
      "Male      2011\n",
      "Name: gender, dtype: int64\n",
      "\n",
      "<class 'pandas.core.frame.DataFrame'>\n",
      "Int64Index: 4908 entries, 0 to 5109\n",
      "Data columns (total 11 columns):\n",
      " #   Column             Non-Null Count  Dtype  \n",
      "---  ------             --------------  -----  \n",
      " 0   gender             4908 non-null   int64  \n",
      " 1   age                4908 non-null   float64\n",
      " 2   hypertension       4908 non-null   int64  \n",
      " 3   heart_disease      4908 non-null   int64  \n",
      " 4   ever_married       4908 non-null   object \n",
      " 5   work_type          4908 non-null   object \n",
      " 6   Residence_type     4908 non-null   object \n",
      " 7   avg_glucose_level  4908 non-null   float64\n",
      " 8   bmi                4908 non-null   float64\n",
      " 9   smoking_status     4908 non-null   object \n",
      " 10  stroke             4908 non-null   int64  \n",
      "dtypes: float64(3), int64(4), object(4)\n",
      "memory usage: 460.1+ KB\n",
      "None\n"
     ]
    }
   ],
   "source": [
    "#Look at first feature: gender\n",
    "new_data[\"gender\"].value_counts().plot(kind = \"bar\")\n",
    "\n",
    "plt.show()\n",
    "\n",
    "print(new_data[\"gender\"].value_counts())\n",
    "\n",
    "#Gender \"other\" needs to be removed.\n",
    "#Locate the index of \"other\" and drop it\n",
    "\n",
    "new_data = new_data.drop(new_data.index[new_data[\"gender\"] == \"Other\"])\n",
    "\n",
    "print(new_data[\"gender\"].value_counts())\n",
    "\n",
    "print()\n",
    "#Change genders to binary 0's and 1's Male = 0 Female = 1\n",
    "\n",
    "new_data.replace(\"Male\", 0, inplace= True)\n",
    "new_data.replace(\"Female\", 1, inplace= True)\n",
    "\n",
    "#Verify the \"gender\" column is now binary\n",
    "print(new_data.info())"
   ]
  },
  {
   "cell_type": "markdown",
   "metadata": {},
   "source": [
    "Changing \"age\" column"
   ]
  },
  {
   "cell_type": "code",
   "execution_count": 3,
   "metadata": {},
   "outputs": [
    {
     "data": {
      "image/png": "[encoded data removed]",
      "text/plain": [
       "<Figure size 640x480 with 1 Axes>"
      ]
     },
     "metadata": {},
     "output_type": "display_data"
    },
    {
     "name": "stdout",
     "output_type": "stream",
     "text": [
      "The mean is: 42.86881010594947\n",
      "The mode is: 0    57.0\n",
      "1    78.0\n",
      "Name: age, dtype: float64\n",
      "The median is: 44.0\n",
      "The min is: 0.08\n",
      "The max is: 82.0\n"
     ]
    },
    {
     "data": {
      "text/html": [
       "<div>\n",
       "<style scoped>\n",
       "    .dataframe tbody tr th:only-of-type {\n",
       "        vertical-align: middle;\n",
       "    }\n",
       "\n",
       "    .dataframe tbody tr th {\n",
       "        vertical-align: top;\n",
       "    }\n",
       "\n",
       "    .dataframe thead th {\n",
       "        text-align: right;\n",
       "    }\n",
       "</style>\n",
       "<table border=\"1\" class=\"dataframe\">\n",
       "  <thead>\n",
       "    <tr style=\"text-align: right;\">\n",
       "      <th></th>\n",
       "      <th>gender</th>\n",
       "      <th>age</th>\n",
       "      <th>hypertension</th>\n",
       "      <th>heart_disease</th>\n",
       "      <th>ever_married</th>\n",
       "      <th>work_type</th>\n",
       "      <th>Residence_type</th>\n",
       "      <th>avg_glucose_level</th>\n",
       "      <th>bmi</th>\n",
       "      <th>smoking_status</th>\n",
       "      <th>stroke</th>\n",
       "    </tr>\n",
       "  </thead>\n",
       "  <tbody>\n",
       "    <tr>\n",
       "      <th>1614</th>\n",
       "      <td>1</td>\n",
       "      <td>0.08</td>\n",
       "      <td>0</td>\n",
       "      <td>0</td>\n",
       "      <td>No</td>\n",
       "      <td>children</td>\n",
       "      <td>Urban</td>\n",
       "      <td>139.67</td>\n",
       "      <td>14.1</td>\n",
       "      <td>Unknown</td>\n",
       "      <td>0</td>\n",
       "    </tr>\n",
       "    <tr>\n",
       "      <th>3295</th>\n",
       "      <td>0</td>\n",
       "      <td>0.08</td>\n",
       "      <td>0</td>\n",
       "      <td>0</td>\n",
       "      <td>No</td>\n",
       "      <td>children</td>\n",
       "      <td>Rural</td>\n",
       "      <td>70.33</td>\n",
       "      <td>16.9</td>\n",
       "      <td>Unknown</td>\n",
       "      <td>0</td>\n",
       "    </tr>\n",
       "    <tr>\n",
       "      <th>3618</th>\n",
       "      <td>0</td>\n",
       "      <td>0.16</td>\n",
       "      <td>0</td>\n",
       "      <td>0</td>\n",
       "      <td>No</td>\n",
       "      <td>children</td>\n",
       "      <td>Urban</td>\n",
       "      <td>114.71</td>\n",
       "      <td>17.4</td>\n",
       "      <td>Unknown</td>\n",
       "      <td>0</td>\n",
       "    </tr>\n",
       "    <tr>\n",
       "      <th>3968</th>\n",
       "      <td>0</td>\n",
       "      <td>0.16</td>\n",
       "      <td>0</td>\n",
       "      <td>0</td>\n",
       "      <td>No</td>\n",
       "      <td>children</td>\n",
       "      <td>Rural</td>\n",
       "      <td>69.79</td>\n",
       "      <td>13.0</td>\n",
       "      <td>Unknown</td>\n",
       "      <td>0</td>\n",
       "    </tr>\n",
       "    <tr>\n",
       "      <th>4021</th>\n",
       "      <td>0</td>\n",
       "      <td>0.16</td>\n",
       "      <td>0</td>\n",
       "      <td>0</td>\n",
       "      <td>No</td>\n",
       "      <td>children</td>\n",
       "      <td>Urban</td>\n",
       "      <td>109.52</td>\n",
       "      <td>13.9</td>\n",
       "      <td>Unknown</td>\n",
       "      <td>0</td>\n",
       "    </tr>\n",
       "    <tr>\n",
       "      <th>...</th>\n",
       "      <td>...</td>\n",
       "      <td>...</td>\n",
       "      <td>...</td>\n",
       "      <td>...</td>\n",
       "      <td>...</td>\n",
       "      <td>...</td>\n",
       "      <td>...</td>\n",
       "      <td>...</td>\n",
       "      <td>...</td>\n",
       "      <td>...</td>\n",
       "      <td>...</td>\n",
       "    </tr>\n",
       "    <tr>\n",
       "      <th>2776</th>\n",
       "      <td>0</td>\n",
       "      <td>2.00</td>\n",
       "      <td>0</td>\n",
       "      <td>0</td>\n",
       "      <td>No</td>\n",
       "      <td>children</td>\n",
       "      <td>Urban</td>\n",
       "      <td>107.83</td>\n",
       "      <td>21.2</td>\n",
       "      <td>Unknown</td>\n",
       "      <td>0</td>\n",
       "    </tr>\n",
       "    <tr>\n",
       "      <th>3031</th>\n",
       "      <td>0</td>\n",
       "      <td>2.00</td>\n",
       "      <td>0</td>\n",
       "      <td>1</td>\n",
       "      <td>No</td>\n",
       "      <td>children</td>\n",
       "      <td>Urban</td>\n",
       "      <td>62.89</td>\n",
       "      <td>29.4</td>\n",
       "      <td>Unknown</td>\n",
       "      <td>0</td>\n",
       "    </tr>\n",
       "    <tr>\n",
       "      <th>3226</th>\n",
       "      <td>1</td>\n",
       "      <td>2.00</td>\n",
       "      <td>0</td>\n",
       "      <td>0</td>\n",
       "      <td>No</td>\n",
       "      <td>children</td>\n",
       "      <td>Urban</td>\n",
       "      <td>125.03</td>\n",
       "      <td>19.8</td>\n",
       "      <td>Unknown</td>\n",
       "      <td>0</td>\n",
       "    </tr>\n",
       "    <tr>\n",
       "      <th>3233</th>\n",
       "      <td>0</td>\n",
       "      <td>2.00</td>\n",
       "      <td>0</td>\n",
       "      <td>0</td>\n",
       "      <td>No</td>\n",
       "      <td>children</td>\n",
       "      <td>Urban</td>\n",
       "      <td>93.55</td>\n",
       "      <td>23.3</td>\n",
       "      <td>Unknown</td>\n",
       "      <td>0</td>\n",
       "    </tr>\n",
       "    <tr>\n",
       "      <th>3268</th>\n",
       "      <td>1</td>\n",
       "      <td>2.00</td>\n",
       "      <td>0</td>\n",
       "      <td>0</td>\n",
       "      <td>No</td>\n",
       "      <td>children</td>\n",
       "      <td>Rural</td>\n",
       "      <td>99.75</td>\n",
       "      <td>16.0</td>\n",
       "      <td>Unknown</td>\n",
       "      <td>0</td>\n",
       "    </tr>\n",
       "  </tbody>\n",
       "</table>\n",
       "<p>150 rows × 11 columns</p>\n",
       "</div>"
      ],
      "text/plain": [
       "      gender   age  hypertension  heart_disease ever_married work_type  \\\n",
       "1614       1  0.08             0              0           No  children   \n",
       "3295       0  0.08             0              0           No  children   \n",
       "3618       0  0.16             0              0           No  children   \n",
       "3968       0  0.16             0              0           No  children   \n",
       "4021       0  0.16             0              0           No  children   \n",
       "...      ...   ...           ...            ...          ...       ...   \n",
       "2776       0  2.00             0              0           No  children   \n",
       "3031       0  2.00             0              1           No  children   \n",
       "3226       1  2.00             0              0           No  children   \n",
       "3233       0  2.00             0              0           No  children   \n",
       "3268       1  2.00             0              0           No  children   \n",
       "\n",
       "     Residence_type  avg_glucose_level   bmi smoking_status  stroke  \n",
       "1614          Urban             139.67  14.1        Unknown       0  \n",
       "3295          Rural              70.33  16.9        Unknown       0  \n",
       "3618          Urban             114.71  17.4        Unknown       0  \n",
       "3968          Rural              69.79  13.0        Unknown       0  \n",
       "4021          Urban             109.52  13.9        Unknown       0  \n",
       "...             ...                ...   ...            ...     ...  \n",
       "2776          Urban             107.83  21.2        Unknown       0  \n",
       "3031          Urban              62.89  29.4        Unknown       0  \n",
       "3226          Urban             125.03  19.8        Unknown       0  \n",
       "3233          Urban              93.55  23.3        Unknown       0  \n",
       "3268          Rural              99.75  16.0        Unknown       0  \n",
       "\n",
       "[150 rows x 11 columns]"
      ]
     },
     "execution_count": 3,
     "metadata": {},
     "output_type": "execute_result"
    }
   ],
   "source": [
    "#Look at second feature: gender\n",
    "plt.hist(new_data[\"age\"])\n",
    "\n",
    "plt.show()\n",
    "\n",
    "print(\"The mean is:\",new_data[\"age\"].mean())\n",
    "print(\"The mode is:\",new_data[\"age\"].mode())\n",
    "print(\"The median is:\",new_data[\"age\"].median())\n",
    "#Age being 0.08 is questionable\n",
    "print(\"The min is:\",new_data[\"age\"].min())\n",
    "print(\"The max is:\",new_data[\"age\"].max())\n",
    "\n",
    "\n",
    "new_data.nsmallest(150, 'age')"
   ]
  },
  {
   "cell_type": "markdown",
   "metadata": {},
   "source": [
    "Changing \"hypertension\" column | 1 = Yes, 0 = No"
   ]
  },
  {
   "cell_type": "code",
   "execution_count": 4,
   "metadata": {},
   "outputs": [
    {
     "data": {
      "text/plain": [
       "<Axes: >"
      ]
     },
     "execution_count": 4,
     "metadata": {},
     "output_type": "execute_result"
    },
    {
     "data": {
      "image/png": "[encoded data removed]",
      "text/plain": [
       "<Figure size 640x480 with 1 Axes>"
      ]
     },
     "metadata": {},
     "output_type": "display_data"
    }
   ],
   "source": [
    "#Hypertension is mhen your blood pressure is too high\n",
    "new_data[\"hypertension\"].value_counts().plot(kind = \"bar\")\n",
    "\n",
    "#Nothing needs to be changed"
   ]
  },
  {
   "cell_type": "markdown",
   "metadata": {},
   "source": [
    "Changing \"heart_disease\" column | 1 = Yes, 0 = No"
   ]
  },
  {
   "cell_type": "code",
   "execution_count": 5,
   "metadata": {},
   "outputs": [
    {
     "data": {
      "text/plain": [
       "<Axes: >"
      ]
     },
     "execution_count": 5,
     "metadata": {},
     "output_type": "execute_result"
    },
    {
     "data": {
      "image/png": "[encoded data removed]",
      "text/plain": [
       "<Figure size 640x480 with 1 Axes>"
      ]
     },
     "metadata": {},
     "output_type": "display_data"
    }
   ],
   "source": [
    "new_data[\"heart_disease\"].value_counts().plot(kind = \"bar\")\n",
    "\n",
    "#Nothing needs to be changed"
   ]
  },
  {
   "cell_type": "markdown",
   "metadata": {},
   "source": [
    "Changing \"ever_married\" column | Yes = 1, No = 0"
   ]
  },
  {
   "cell_type": "code",
   "execution_count": 6,
   "metadata": {},
   "outputs": [
    {
     "name": "stdout",
     "output_type": "stream",
     "text": [
      "<class 'pandas.core.frame.DataFrame'>\n",
      "Int64Index: 4908 entries, 0 to 5109\n",
      "Data columns (total 11 columns):\n",
      " #   Column             Non-Null Count  Dtype  \n",
      "---  ------             --------------  -----  \n",
      " 0   gender             4908 non-null   int64  \n",
      " 1   age                4908 non-null   float64\n",
      " 2   hypertension       4908 non-null   int64  \n",
      " 3   heart_disease      4908 non-null   int64  \n",
      " 4   ever_married       4908 non-null   int64  \n",
      " 5   work_type          4908 non-null   object \n",
      " 6   Residence_type     4908 non-null   object \n",
      " 7   avg_glucose_level  4908 non-null   float64\n",
      " 8   bmi                4908 non-null   float64\n",
      " 9   smoking_status     4908 non-null   object \n",
      " 10  stroke             4908 non-null   int64  \n",
      "dtypes: float64(3), int64(5), object(3)\n",
      "memory usage: 460.1+ KB\n"
     ]
    },
    {
     "data": {
      "image/png": "[encoded data removed]",
      "text/plain": [
       "<Figure size 640x480 with 1 Axes>"
      ]
     },
     "metadata": {},
     "output_type": "display_data"
    }
   ],
   "source": [
    "new_data[\"ever_married\"].value_counts().plot(kind = \"bar\")\n",
    "\n",
    "#Replace \"Yes\" with 1 and \"No\" with 0\n",
    "new_data.replace(\"Yes\", 1, inplace= True)\n",
    "new_data.replace(\"No\", 0, inplace= True)\n",
    "\n",
    "#Verify it is all changed\n",
    "new_data.info()"
   ]
  },
  {
   "cell_type": "markdown",
   "metadata": {},
   "source": [
    "Changing \"work_type\" column | 0 = \"Private\", 1 = \"Self-employed\", 2 = \"children\", 3 = \"Govt_job\", 4 = \"Never_worked\""
   ]
  },
  {
   "cell_type": "code",
   "execution_count": 7,
   "metadata": {},
   "outputs": [
    {
     "name": "stdout",
     "output_type": "stream",
     "text": [
      "<class 'pandas.core.frame.DataFrame'>\n",
      "Int64Index: 4908 entries, 0 to 5109\n",
      "Data columns (total 11 columns):\n",
      " #   Column             Non-Null Count  Dtype  \n",
      "---  ------             --------------  -----  \n",
      " 0   gender             4908 non-null   int64  \n",
      " 1   age                4908 non-null   float64\n",
      " 2   hypertension       4908 non-null   int64  \n",
      " 3   heart_disease      4908 non-null   int64  \n",
      " 4   ever_married       4908 non-null   int64  \n",
      " 5   work_type          4908 non-null   int64  \n",
      " 6   Residence_type     4908 non-null   object \n",
      " 7   avg_glucose_level  4908 non-null   float64\n",
      " 8   bmi                4908 non-null   float64\n",
      " 9   smoking_status     4908 non-null   object \n",
      " 10  stroke             4908 non-null   int64  \n",
      "dtypes: float64(3), int64(6), object(2)\n",
      "memory usage: 460.1+ KB\n"
     ]
    },
    {
     "data": {
      "image/png": "[encoded data removed]",
      "text/plain": [
       "<Figure size 640x480 with 1 Axes>"
      ]
     },
     "metadata": {},
     "output_type": "display_data"
    }
   ],
   "source": [
    "new_data[\"work_type\"].value_counts().plot(kind = \"bar\")\n",
    "\n",
    "new_data[\"work_type\"].value_counts()\n",
    "#Hot encode\n",
    "new_data.replace(\"Private\", 0, inplace= True)\n",
    "new_data.replace(\"Self-employed\", 1, inplace= True)\n",
    "new_data.replace(\"children\", 2, inplace= True)\n",
    "new_data.replace(\"Govt_job\", 3, inplace= True)\n",
    "new_data.replace(\"Never_worked\", 4, inplace= True)\n",
    "\n",
    "new_data.info()"
   ]
  },
  {
   "cell_type": "markdown",
   "metadata": {},
   "source": [
    "Changing \"Residence_type\" column | 0 = \"Rural\", 1 = \"Urban\""
   ]
  },
  {
   "cell_type": "code",
   "execution_count": 8,
   "metadata": {},
   "outputs": [
    {
     "name": "stdout",
     "output_type": "stream",
     "text": [
      "<class 'pandas.core.frame.DataFrame'>\n",
      "Int64Index: 4908 entries, 0 to 5109\n",
      "Data columns (total 11 columns):\n",
      " #   Column             Non-Null Count  Dtype  \n",
      "---  ------             --------------  -----  \n",
      " 0   gender             4908 non-null   int64  \n",
      " 1   age                4908 non-null   float64\n",
      " 2   hypertension       4908 non-null   int64  \n",
      " 3   heart_disease      4908 non-null   int64  \n",
      " 4   ever_married       4908 non-null   int64  \n",
      " 5   work_type          4908 non-null   int64  \n",
      " 6   Residence_type     4908 non-null   int64  \n",
      " 7   avg_glucose_level  4908 non-null   float64\n",
      " 8   bmi                4908 non-null   float64\n",
      " 9   smoking_status     4908 non-null   object \n",
      " 10  stroke             4908 non-null   int64  \n",
      "dtypes: float64(3), int64(7), object(1)\n",
      "memory usage: 460.1+ KB\n"
     ]
    },
    {
     "data": {
      "image/png": "[encoded data removed]",
      "text/plain": [
       "<Figure size 640x480 with 1 Axes>"
      ]
     },
     "metadata": {},
     "output_type": "display_data"
    }
   ],
   "source": [
    "new_data[\"Residence_type\"].value_counts().plot(kind = \"bar\")\n",
    "\n",
    "new_data[\"Residence_type\"].value_counts()\n",
    "\n",
    "#Replace \"Urban\" with 1 and \"Rural\" with 0\n",
    "new_data.replace(\"Urban\", 1, inplace= True)\n",
    "new_data.replace(\"Rural\", 0, inplace= True)\n",
    "\n",
    "#Verify it is all changed\n",
    "new_data.info()"
   ]
  },
  {
   "cell_type": "markdown",
   "metadata": {},
   "source": [
    "Changing \"avg_glucose_level\" column"
   ]
  },
  {
   "cell_type": "code",
   "execution_count": 9,
   "metadata": {},
   "outputs": [
    {
     "name": "stdout",
     "output_type": "stream",
     "text": [
      "The mean is: 105.297402200489\n",
      "The mode is: 0    93.88\n",
      "Name: avg_glucose_level, dtype: float64\n",
      "The median is: 91.68\n",
      "The min is: 55.12\n",
      "The max is: 271.74\n"
     ]
    }
   ],
   "source": [
    "new_data[\"avg_glucose_level\"].value_counts()\n",
    "\n",
    "print(\"The mean is:\",new_data[\"avg_glucose_level\"].mean())\n",
    "print(\"The mode is:\",new_data[\"avg_glucose_level\"].mode())\n",
    "print(\"The median is:\",new_data[\"avg_glucose_level\"].median())\n",
    "print(\"The min is:\",new_data[\"avg_glucose_level\"].min())\n",
    "print(\"The max is:\",new_data[\"avg_glucose_level\"].max())"
   ]
  },
  {
   "cell_type": "markdown",
   "metadata": {},
   "source": [
    "Changing \"bmi\" column"
   ]
  },
  {
   "cell_type": "code",
   "execution_count": 10,
   "metadata": {},
   "outputs": [
    {
     "name": "stdout",
     "output_type": "stream",
     "text": [
      "The mean is: 28.894559902200488\n",
      "The mode is: 0    28.7\n",
      "Name: bmi, dtype: float64\n",
      "The median is: 28.1\n",
      "The min is: 10.3\n",
      "The max is: 97.6\n"
     ]
    }
   ],
   "source": [
    "new_data[\"bmi\"].value_counts()\n",
    "\n",
    "print(\"The mean is:\",new_data[\"bmi\"].mean())\n",
    "print(\"The mode is:\",new_data[\"bmi\"].mode())\n",
    "print(\"The median is:\",new_data[\"bmi\"].median())\n",
    "print(\"The min is:\",new_data[\"bmi\"].min())\n",
    "print(\"The max is:\",new_data[\"bmi\"].max())"
   ]
  },
  {
   "cell_type": "markdown",
   "metadata": {},
   "source": [
    "Changing \"smoking_status\" column | 0 = \"never_smoked\", 1 = \"Unknown\", 2 = \"formerly_smoked\", 3 = \"smokes\""
   ]
  },
  {
   "cell_type": "code",
   "execution_count": 11,
   "metadata": {},
   "outputs": [
    {
     "name": "stdout",
     "output_type": "stream",
     "text": [
      "<class 'pandas.core.frame.DataFrame'>\n",
      "Int64Index: 4908 entries, 0 to 5109\n",
      "Data columns (total 11 columns):\n",
      " #   Column             Non-Null Count  Dtype  \n",
      "---  ------             --------------  -----  \n",
      " 0   gender             4908 non-null   int64  \n",
      " 1   age                4908 non-null   float64\n",
      " 2   hypertension       4908 non-null   int64  \n",
      " 3   heart_disease      4908 non-null   int64  \n",
      " 4   ever_married       4908 non-null   int64  \n",
      " 5   work_type          4908 non-null   int64  \n",
      " 6   Residence_type     4908 non-null   int64  \n",
      " 7   avg_glucose_level  4908 non-null   float64\n",
      " 8   bmi                4908 non-null   float64\n",
      " 9   smoking_status     4908 non-null   int64  \n",
      " 10  stroke             4908 non-null   int64  \n",
      "dtypes: float64(3), int64(8)\n",
      "memory usage: 460.1 KB\n"
     ]
    },
    {
     "data": {
      "image/png": "[encoded data removed]",
      "text/plain": [
       "<Figure size 640x480 with 1 Axes>"
      ]
     },
     "metadata": {},
     "output_type": "display_data"
    }
   ],
   "source": [
    "new_data[\"smoking_status\"].value_counts().plot(kind = \"bar\")\n",
    "\n",
    "new_data[\"smoking_status\"].value_counts()\n",
    "\n",
    "#Hot encode\n",
    "new_data.replace(\"never smoked\", 0, inplace= True)\n",
    "new_data.replace(\"Unknown\", 1, inplace= True)\n",
    "new_data.replace(\"formerly smoked\", 2, inplace= True)\n",
    "new_data.replace(\"smokes\", 3, inplace= True)\n",
    "\n",
    "#Verify it is all changed\n",
    "new_data.info()"
   ]
  },
  {
   "cell_type": "markdown",
   "metadata": {},
   "source": [
    "Stroke chart | 0 = No stroke, 1 = Stroke"
   ]
  },
  {
   "cell_type": "code",
   "execution_count": 12,
   "metadata": {},
   "outputs": [
    {
     "data": {
      "text/plain": [
       "0    4699\n",
       "1     209\n",
       "Name: stroke, dtype: int64"
      ]
     },
     "execution_count": 12,
     "metadata": {},
     "output_type": "execute_result"
    },
    {
     "data": {
      "image/png": "[encoded data removed]",
      "text/plain": [
       "<Figure size 640x480 with 1 Axes>"
      ]
     },
     "metadata": {},
     "output_type": "display_data"
    }
   ],
   "source": [
    "new_data[\"stroke\"].value_counts().plot(kind = \"bar\")\n",
    "\n",
    "new_data[\"stroke\"].value_counts()\n",
    "\n",
    "#0 is no stroke, 1 is stroke"
   ]
  },
  {
   "cell_type": "markdown",
   "metadata": {},
   "source": [
    "Transforming dataframe into a csv file"
   ]
  },
  {
   "cell_type": "code",
   "execution_count": 13,
   "metadata": {},
   "outputs": [],
   "source": [
    "new_data.to_csv(\"cleaned_data.csv\", index = False)"
   ]
  }
 ],
 "metadata": {
  "kernelspec": {
   "display_name": "Python 3",
   "language": "python",
   "name": "python3"
  },
  "language_info": {
   "codemirror_mode": {
    "name": "ipython",
    "version": 3
   },
   "file_extension": ".py",
   "mimetype": "text/x-python",
   "name": "python",
   "nbconvert_exporter": "python",
   "pygments_lexer": "ipython3",
   "version": "3.10.8"
  },
  "orig_nbformat": 4
 },
 "nbformat": 4,
 "nbformat_minor": 2
}
