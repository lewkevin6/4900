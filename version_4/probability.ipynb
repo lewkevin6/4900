{
 "cells": [
  {
   "cell_type": "code",
   "execution_count": 3,
   "metadata": {},
   "outputs": [
    {
     "data": {
      "text/plain": [
       "<bound method Pipeline.get_params of Pipeline(steps=[('smotenc',\n",
       "                 SMOTENC(categorical_features=['gender', 'ever_married',\n",
       "                                               'work_type', 'Residence_type',\n",
       "                                               'smoking_status', 'hypertension',\n",
       "                                               'heart_disease'],\n",
       "                         random_state=1, sampling_strategy=0.7)),\n",
       "                ('preprocessing',\n",
       "                 ColumnTransformer(transformers=[('one-hot-encoder',\n",
       "                                                  OneHotEncoder(sparse_output=False),\n",
       "                                                  ['gender', 'ever_married',\n",
       "                                                   'work_type',\n",
       "                                                   'Residence_type',\n",
       "                                                   'smoking_status',\n",
       "                                                   'hypertension',\n",
       "                                                   'heart_disease']),\n",
       "                                                 ('scaler', StandardScaler(),\n",
       "                                                  ['age', 'avg_glucose_level',\n",
       "                                                   'bmi'])])),\n",
       "                ('classifier', SVC(C=1, gamma=0.001, random_state=1))])>"
      ]
     },
     "execution_count": 3,
     "metadata": {},
     "output_type": "execute_result"
    }
   ],
   "source": [
    "import joblib\n",
    "\n",
    "best_pipeline = joblib.load(\"best_estimator.pkl\")\n",
    "\n",
    "best_pipeline.get_params"
   ]
  },
  {
   "cell_type": "code",
   "execution_count": null,
   "metadata": {},
   "outputs": [],
   "source": []
  }
 ],
 "metadata": {
  "kernelspec": {
   "display_name": "Python 3",
   "language": "python",
   "name": "python3"
  },
  "language_info": {
   "codemirror_mode": {
    "name": "ipython",
    "version": 3
   },
   "file_extension": ".py",
   "mimetype": "text/x-python",
   "name": "python",
   "nbconvert_exporter": "python",
   "pygments_lexer": "ipython3",
   "version": "3.11.6"
  }
 },
 "nbformat": 4,
 "nbformat_minor": 2
}
