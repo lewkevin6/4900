{
 "cells": [
  {
   "cell_type": "code",
   "execution_count": 1,
   "metadata": {},
   "outputs": [],
   "source": [
    "from sklearn.metrics import confusion_matrix\n",
    "from sklearn.metrics import recall_score\n",
    "from sklearn.metrics import precision_score\n",
    "from sklearn.metrics import f1_score\n",
    "import pandas as pd\n",
    "from sklearn.model_selection import train_test_split\n",
    "from imblearn.pipeline import Pipeline as imb_pipeline\n",
    "from imblearn.over_sampling import SMOTENC\n",
    "from sklearn.compose import ColumnTransformer\n",
    "from sklearn.preprocessing import OneHotEncoder, StandardScaler\n",
    "from sklearn.model_selection import GridSearchCV\n",
    "from sklearn.svm import SVC\n",
    "from imblearn.pipeline import Pipeline as imb_pipeline\n",
    "import numpy as np\n",
    "\n",
    "\n",
    "data = pd.read_csv('healthcare-dataset-stroke-data.csv')\n",
    "\n",
    "balanced_data = data.dropna()\n",
    "balanced_data = balanced_data.drop(columns= \"id\")\n",
    "balanced_data = balanced_data[balanced_data.age > 20]\n",
    "balanced_data = balanced_data.drop(balanced_data.index[balanced_data[\"gender\"] == \"Other\"])\n",
    "balanced_data = balanced_data.drop(balanced_data.index[balanced_data[\"work_type\"] == \"Never_worked\"])\n",
    "\n",
    "features = ['gender', 'age', 'hypertension', 'heart_disease', 'ever_married', 'work_type', 'Residence_type', 'avg_glucose_level', \"bmi\", \"smoking_status\"]\n",
    "cat_columns = ['gender', 'ever_married', 'work_type', 'Residence_type', 'smoking_status', 'hypertension', 'heart_disease']\n",
    "num_columns = ['age', 'avg_glucose_level', 'bmi']\n",
    "\n",
    "bal_data_train, bal_data_test = train_test_split(balanced_data, train_size = 0.8, random_state=1, stratify= balanced_data[\"stroke\"])\n",
    "bal_data_train, bal_data_val = train_test_split(bal_data_train, train_size = 0.8, random_state=1)\n",
    "\n",
    "X_train = bal_data_train.drop('stroke', axis = 1)\n",
    "y_train = bal_data_train['stroke']\n",
    "\n",
    "X_val = bal_data_val.drop('stroke', axis = 1)\n",
    "y_val = bal_data_val['stroke']\n",
    "\n",
    "X_test = bal_data_test.drop('stroke', axis = 1)\n",
    "y_test = bal_data_test['stroke']\n",
    "\n",
    "preprocessing = ColumnTransformer([\n",
    "    ('one-hot-encoder', OneHotEncoder(sparse_output=False), cat_columns),\n",
    "    ('scaler', StandardScaler(), num_columns)\n",
    "])"
   ]
  },
  {
   "cell_type": "code",
   "execution_count": 2,
   "metadata": {},
   "outputs": [],
   "source": [
    "prob_pipeline = imb_pipeline(steps= [\n",
    "        (\"smotenc\", SMOTENC(cat_columns, random_state = 1, sampling_strategy= 0.7)),\n",
    "        ('preprocessing', preprocessing),\n",
    "        ('classifier', SVC(C=1, gamma=0.001, random_state=1, probability= True)) #Same classifier as the one in pkl file\n",
    "       ])"
   ]
  },
  {
   "cell_type": "code",
   "execution_count": 3,
   "metadata": {},
   "outputs": [
    {
     "data": {
      "text/html": [
       "<style>#sk-container-id-1 {color: black;}#sk-container-id-1 pre{padding: 0;}#sk-container-id-1 div.sk-toggleable {background-color: white;}#sk-container-id-1 label.sk-toggleable__label {cursor: pointer;display: block;width: 100%;margin-bottom: 0;padding: 0.3em;box-sizing: border-box;text-align: center;}#sk-container-id-1 label.sk-toggleable__label-arrow:before {content: \"▸\";float: left;margin-right: 0.25em;color: #696969;}#sk-container-id-1 label.sk-toggleable__label-arrow:hover:before {color: black;}#sk-container-id-1 div.sk-estimator:hover label.sk-toggleable__label-arrow:before {color: black;}#sk-container-id-1 div.sk-toggleable__content {max-height: 0;max-width: 0;overflow: hidden;text-align: left;background-color: #f0f8ff;}#sk-container-id-1 div.sk-toggleable__content pre {margin: 0.2em;color: black;border-radius: 0.25em;background-color: #f0f8ff;}#sk-container-id-1 input.sk-toggleable__control:checked~div.sk-toggleable__content {max-height: 200px;max-width: 100%;overflow: auto;}#sk-container-id-1 input.sk-toggleable__control:checked~label.sk-toggleable__label-arrow:before {content: \"▾\";}#sk-container-id-1 div.sk-estimator input.sk-toggleable__control:checked~label.sk-toggleable__label {background-color: #d4ebff;}#sk-container-id-1 div.sk-label input.sk-toggleable__control:checked~label.sk-toggleable__label {background-color: #d4ebff;}#sk-container-id-1 input.sk-hidden--visually {border: 0;clip: rect(1px 1px 1px 1px);clip: rect(1px, 1px, 1px, 1px);height: 1px;margin: -1px;overflow: hidden;padding: 0;position: absolute;width: 1px;}#sk-container-id-1 div.sk-estimator {font-family: monospace;background-color: #f0f8ff;border: 1px dotted black;border-radius: 0.25em;box-sizing: border-box;margin-bottom: 0.5em;}#sk-container-id-1 div.sk-estimator:hover {background-color: #d4ebff;}#sk-container-id-1 div.sk-parallel-item::after {content: \"\";width: 100%;border-bottom: 1px solid gray;flex-grow: 1;}#sk-container-id-1 div.sk-label:hover label.sk-toggleable__label {background-color: #d4ebff;}#sk-container-id-1 div.sk-serial::before {content: \"\";position: absolute;border-left: 1px solid gray;box-sizing: border-box;top: 0;bottom: 0;left: 50%;z-index: 0;}#sk-container-id-1 div.sk-serial {display: flex;flex-direction: column;align-items: center;background-color: white;padding-right: 0.2em;padding-left: 0.2em;position: relative;}#sk-container-id-1 div.sk-item {position: relative;z-index: 1;}#sk-container-id-1 div.sk-parallel {display: flex;align-items: stretch;justify-content: center;background-color: white;position: relative;}#sk-container-id-1 div.sk-item::before, #sk-container-id-1 div.sk-parallel-item::before {content: \"\";position: absolute;border-left: 1px solid gray;box-sizing: border-box;top: 0;bottom: 0;left: 50%;z-index: -1;}#sk-container-id-1 div.sk-parallel-item {display: flex;flex-direction: column;z-index: 1;position: relative;background-color: white;}#sk-container-id-1 div.sk-parallel-item:first-child::after {align-self: flex-end;width: 50%;}#sk-container-id-1 div.sk-parallel-item:last-child::after {align-self: flex-start;width: 50%;}#sk-container-id-1 div.sk-parallel-item:only-child::after {width: 0;}#sk-container-id-1 div.sk-dashed-wrapped {border: 1px dashed gray;margin: 0 0.4em 0.5em 0.4em;box-sizing: border-box;padding-bottom: 0.4em;background-color: white;}#sk-container-id-1 div.sk-label label {font-family: monospace;font-weight: bold;display: inline-block;line-height: 1.2em;}#sk-container-id-1 div.sk-label-container {text-align: center;}#sk-container-id-1 div.sk-container {/* jupyter's `normalize.less` sets `[hidden] { display: none; }` but bootstrap.min.css set `[hidden] { display: none !important; }` so we also need the `!important` here to be able to override the default hidden behavior on the sphinx rendered scikit-learn.org. See: https://github.com/scikit-learn/scikit-learn/issues/21755 */display: inline-block !important;position: relative;}#sk-container-id-1 div.sk-text-repr-fallback {display: none;}</style><div id=\"sk-container-id-1\" class=\"sk-top-container\"><div class=\"sk-text-repr-fallback\"><pre>Pipeline(steps=[(&#x27;smotenc&#x27;,\n",
       "                 SMOTENC(categorical_features=[&#x27;gender&#x27;, &#x27;ever_married&#x27;,\n",
       "                                               &#x27;work_type&#x27;, &#x27;Residence_type&#x27;,\n",
       "                                               &#x27;smoking_status&#x27;, &#x27;hypertension&#x27;,\n",
       "                                               &#x27;heart_disease&#x27;],\n",
       "                         random_state=1, sampling_strategy=0.7)),\n",
       "                (&#x27;preprocessing&#x27;,\n",
       "                 ColumnTransformer(transformers=[(&#x27;one-hot-encoder&#x27;,\n",
       "                                                  OneHotEncoder(sparse_output=False),\n",
       "                                                  [&#x27;gender&#x27;, &#x27;ever_married&#x27;,\n",
       "                                                   &#x27;work_type&#x27;,\n",
       "                                                   &#x27;Residence_type&#x27;,\n",
       "                                                   &#x27;smoking_status&#x27;,\n",
       "                                                   &#x27;hypertension&#x27;,\n",
       "                                                   &#x27;heart_disease&#x27;]),\n",
       "                                                 (&#x27;scaler&#x27;, StandardScaler(),\n",
       "                                                  [&#x27;age&#x27;, &#x27;avg_glucose_level&#x27;,\n",
       "                                                   &#x27;bmi&#x27;])])),\n",
       "                (&#x27;classifier&#x27;,\n",
       "                 SVC(C=1, gamma=0.001, probability=True, random_state=1))])</pre><b>In a Jupyter environment, please rerun this cell to show the HTML representation or trust the notebook. <br />On GitHub, the HTML representation is unable to render, please try loading this page with nbviewer.org.</b></div><div class=\"sk-container\" hidden><div class=\"sk-item sk-dashed-wrapped\"><div class=\"sk-label-container\"><div class=\"sk-label sk-toggleable\"><input class=\"sk-toggleable__control sk-hidden--visually\" id=\"sk-estimator-id-1\" type=\"checkbox\" ><label for=\"sk-estimator-id-1\" class=\"sk-toggleable__label sk-toggleable__label-arrow\">Pipeline</label><div class=\"sk-toggleable__content\"><pre>Pipeline(steps=[(&#x27;smotenc&#x27;,\n",
       "                 SMOTENC(categorical_features=[&#x27;gender&#x27;, &#x27;ever_married&#x27;,\n",
       "                                               &#x27;work_type&#x27;, &#x27;Residence_type&#x27;,\n",
       "                                               &#x27;smoking_status&#x27;, &#x27;hypertension&#x27;,\n",
       "                                               &#x27;heart_disease&#x27;],\n",
       "                         random_state=1, sampling_strategy=0.7)),\n",
       "                (&#x27;preprocessing&#x27;,\n",
       "                 ColumnTransformer(transformers=[(&#x27;one-hot-encoder&#x27;,\n",
       "                                                  OneHotEncoder(sparse_output=False),\n",
       "                                                  [&#x27;gender&#x27;, &#x27;ever_married&#x27;,\n",
       "                                                   &#x27;work_type&#x27;,\n",
       "                                                   &#x27;Residence_type&#x27;,\n",
       "                                                   &#x27;smoking_status&#x27;,\n",
       "                                                   &#x27;hypertension&#x27;,\n",
       "                                                   &#x27;heart_disease&#x27;]),\n",
       "                                                 (&#x27;scaler&#x27;, StandardScaler(),\n",
       "                                                  [&#x27;age&#x27;, &#x27;avg_glucose_level&#x27;,\n",
       "                                                   &#x27;bmi&#x27;])])),\n",
       "                (&#x27;classifier&#x27;,\n",
       "                 SVC(C=1, gamma=0.001, probability=True, random_state=1))])</pre></div></div></div><div class=\"sk-serial\"><div class=\"sk-item\"><div class=\"sk-estimator sk-toggleable\"><input class=\"sk-toggleable__control sk-hidden--visually\" id=\"sk-estimator-id-2\" type=\"checkbox\" ><label for=\"sk-estimator-id-2\" class=\"sk-toggleable__label sk-toggleable__label-arrow\">SMOTENC</label><div class=\"sk-toggleable__content\"><pre>SMOTENC(categorical_features=[&#x27;gender&#x27;, &#x27;ever_married&#x27;, &#x27;work_type&#x27;,\n",
       "                              &#x27;Residence_type&#x27;, &#x27;smoking_status&#x27;,\n",
       "                              &#x27;hypertension&#x27;, &#x27;heart_disease&#x27;],\n",
       "        random_state=1, sampling_strategy=0.7)</pre></div></div></div><div class=\"sk-item sk-dashed-wrapped\"><div class=\"sk-label-container\"><div class=\"sk-label sk-toggleable\"><input class=\"sk-toggleable__control sk-hidden--visually\" id=\"sk-estimator-id-3\" type=\"checkbox\" ><label for=\"sk-estimator-id-3\" class=\"sk-toggleable__label sk-toggleable__label-arrow\">preprocessing: ColumnTransformer</label><div class=\"sk-toggleable__content\"><pre>ColumnTransformer(transformers=[(&#x27;one-hot-encoder&#x27;,\n",
       "                                 OneHotEncoder(sparse_output=False),\n",
       "                                 [&#x27;gender&#x27;, &#x27;ever_married&#x27;, &#x27;work_type&#x27;,\n",
       "                                  &#x27;Residence_type&#x27;, &#x27;smoking_status&#x27;,\n",
       "                                  &#x27;hypertension&#x27;, &#x27;heart_disease&#x27;]),\n",
       "                                (&#x27;scaler&#x27;, StandardScaler(),\n",
       "                                 [&#x27;age&#x27;, &#x27;avg_glucose_level&#x27;, &#x27;bmi&#x27;])])</pre></div></div></div><div class=\"sk-parallel\"><div class=\"sk-parallel-item\"><div class=\"sk-item\"><div class=\"sk-label-container\"><div class=\"sk-label sk-toggleable\"><input class=\"sk-toggleable__control sk-hidden--visually\" id=\"sk-estimator-id-4\" type=\"checkbox\" ><label for=\"sk-estimator-id-4\" class=\"sk-toggleable__label sk-toggleable__label-arrow\">one-hot-encoder</label><div class=\"sk-toggleable__content\"><pre>[&#x27;gender&#x27;, &#x27;ever_married&#x27;, &#x27;work_type&#x27;, &#x27;Residence_type&#x27;, &#x27;smoking_status&#x27;, &#x27;hypertension&#x27;, &#x27;heart_disease&#x27;]</pre></div></div></div><div class=\"sk-serial\"><div class=\"sk-item\"><div class=\"sk-estimator sk-toggleable\"><input class=\"sk-toggleable__control sk-hidden--visually\" id=\"sk-estimator-id-5\" type=\"checkbox\" ><label for=\"sk-estimator-id-5\" class=\"sk-toggleable__label sk-toggleable__label-arrow\">OneHotEncoder</label><div class=\"sk-toggleable__content\"><pre>OneHotEncoder(sparse_output=False)</pre></div></div></div></div></div></div><div class=\"sk-parallel-item\"><div class=\"sk-item\"><div class=\"sk-label-container\"><div class=\"sk-label sk-toggleable\"><input class=\"sk-toggleable__control sk-hidden--visually\" id=\"sk-estimator-id-6\" type=\"checkbox\" ><label for=\"sk-estimator-id-6\" class=\"sk-toggleable__label sk-toggleable__label-arrow\">scaler</label><div class=\"sk-toggleable__content\"><pre>[&#x27;age&#x27;, &#x27;avg_glucose_level&#x27;, &#x27;bmi&#x27;]</pre></div></div></div><div class=\"sk-serial\"><div class=\"sk-item\"><div class=\"sk-estimator sk-toggleable\"><input class=\"sk-toggleable__control sk-hidden--visually\" id=\"sk-estimator-id-7\" type=\"checkbox\" ><label for=\"sk-estimator-id-7\" class=\"sk-toggleable__label sk-toggleable__label-arrow\">StandardScaler</label><div class=\"sk-toggleable__content\"><pre>StandardScaler()</pre></div></div></div></div></div></div></div></div><div class=\"sk-item\"><div class=\"sk-estimator sk-toggleable\"><input class=\"sk-toggleable__control sk-hidden--visually\" id=\"sk-estimator-id-8\" type=\"checkbox\" ><label for=\"sk-estimator-id-8\" class=\"sk-toggleable__label sk-toggleable__label-arrow\">SVC</label><div class=\"sk-toggleable__content\"><pre>SVC(C=1, gamma=0.001, probability=True, random_state=1)</pre></div></div></div></div></div></div></div>"
      ],
      "text/plain": [
       "Pipeline(steps=[('smotenc',\n",
       "                 SMOTENC(categorical_features=['gender', 'ever_married',\n",
       "                                               'work_type', 'Residence_type',\n",
       "                                               'smoking_status', 'hypertension',\n",
       "                                               'heart_disease'],\n",
       "                         random_state=1, sampling_strategy=0.7)),\n",
       "                ('preprocessing',\n",
       "                 ColumnTransformer(transformers=[('one-hot-encoder',\n",
       "                                                  OneHotEncoder(sparse_output=False),\n",
       "                                                  ['gender', 'ever_married',\n",
       "                                                   'work_type',\n",
       "                                                   'Residence_type',\n",
       "                                                   'smoking_status',\n",
       "                                                   'hypertension',\n",
       "                                                   'heart_disease']),\n",
       "                                                 ('scaler', StandardScaler(),\n",
       "                                                  ['age', 'avg_glucose_level',\n",
       "                                                   'bmi'])])),\n",
       "                ('classifier',\n",
       "                 SVC(C=1, gamma=0.001, probability=True, random_state=1))])"
      ]
     },
     "execution_count": 3,
     "metadata": {},
     "output_type": "execute_result"
    }
   ],
   "source": [
    "prob_pipeline.fit(X_train, y_train)\n"
   ]
  },
  {
   "cell_type": "code",
   "execution_count": 4,
   "metadata": {},
   "outputs": [
    {
     "data": {
      "text/plain": [
       "array([0, 1], dtype=int64)"
      ]
     },
     "execution_count": 4,
     "metadata": {},
     "output_type": "execute_result"
    }
   ],
   "source": [
    "prob_pipeline[\"classifier\"].classes_"
   ]
  },
  {
   "cell_type": "markdown",
   "metadata": {},
   "source": [
    "Probabilities not determined yet"
   ]
  },
  {
   "cell_type": "code",
   "execution_count": 5,
   "metadata": {},
   "outputs": [],
   "source": [
    "#Convert probabilities given by the pipeline into binary classification\n",
    "#Adjusting recall precision threshold using this function\n",
    "#Takes in a numpy array of predictions (2 by N size)\n",
    "#Threshold argument is a float between 0 and 1 (Default is 0.5)\n",
    "\n",
    "def convert_prob(predictions, threshold = 0.5):\n",
    "    return (predictions >= threshold).astype(int)[:,1]"
   ]
  },
  {
   "cell_type": "markdown",
   "metadata": {},
   "source": [
    "Testing method made above"
   ]
  },
  {
   "cell_type": "code",
   "execution_count": 6,
   "metadata": {},
   "outputs": [
    {
     "name": "stdout",
     "output_type": "stream",
     "text": [
      "[[0.46635458 0.53364542]\n",
      " [0.82264133 0.17735867]\n",
      " [0.84799133 0.15200867]\n",
      " ...\n",
      " [0.10405663 0.89594337]\n",
      " [0.81660785 0.18339215]\n",
      " [0.66543957 0.33456043]]\n"
     ]
    },
    {
     "data": {
      "text/plain": [
       "array([1, 0, 0, ..., 1, 0, 0])"
      ]
     },
     "execution_count": 6,
     "metadata": {},
     "output_type": "execute_result"
    }
   ],
   "source": [
    "prob_pred = prob_pipeline.predict_proba(X_train)\n",
    "\n",
    "print(prob_pred)\n",
    "\n",
    "convert_prob(prob_pred)"
   ]
  },
  {
   "cell_type": "markdown",
   "metadata": {},
   "source": [
    "Original Scores"
   ]
  },
  {
   "cell_type": "code",
   "execution_count": 7,
   "metadata": {},
   "outputs": [
    {
     "name": "stdout",
     "output_type": "stream",
     "text": [
      "Training set\n",
      "F1 0.22429906542056074\n",
      "Recall 0.65625\n",
      "Precision 0.13526570048309178\n",
      "[[1835  537]\n",
      " [  44   84]]\n",
      "\n",
      "Val set\n",
      "F1 0.2736842105263158\n",
      "Recall 0.6842105263157895\n",
      "Precision 0.17105263157894737\n",
      "[[461 126]\n",
      " [ 12  26]]\n",
      "\n",
      "Test set\n",
      "F1 0.23529411764705888\n",
      "Recall 0.6190476190476191\n",
      "Precision 0.1452513966480447\n",
      "[[587 153]\n",
      " [ 16  26]]\n"
     ]
    }
   ],
   "source": [
    "print(\"Training set\")\n",
    "print(\"F1\", f1_score(y_train, prob_pipeline.predict(X_train)))\n",
    "print(\"Recall\",recall_score(y_train, prob_pipeline.predict(X_train)))\n",
    "print(\"Precision\",precision_score(y_train, prob_pipeline.predict(X_train)))\n",
    "print(confusion_matrix(y_train, prob_pipeline.predict(X_train)))\n",
    "\n",
    "print()\n",
    "print(\"Val set\")\n",
    "print(\"F1\", f1_score(y_val, prob_pipeline.predict(X_val)))\n",
    "print(\"Recall\",recall_score(y_val, prob_pipeline.predict(X_val)))\n",
    "print(\"Precision\",precision_score(y_val, prob_pipeline.predict(X_val)))\n",
    "print(confusion_matrix(y_val, prob_pipeline.predict(X_val)))\n",
    "\n",
    "print()\n",
    "print(\"Test set\")\n",
    "print(\"F1\", f1_score(y_test, prob_pipeline.predict(X_test)))\n",
    "print(\"Recall\", recall_score(y_test, prob_pipeline.predict(X_test)))\n",
    "print(\"Precision\",precision_score(y_test, prob_pipeline.predict(X_test)))\n",
    "print(confusion_matrix(y_test, prob_pipeline.predict(X_test)))"
   ]
  },
  {
   "cell_type": "markdown",
   "metadata": {},
   "source": [
    "Testing different values for recall precision trade off"
   ]
  },
  {
   "cell_type": "code",
   "execution_count": 9,
   "metadata": {},
   "outputs": [
    {
     "name": "stdout",
     "output_type": "stream",
     "text": [
      "Training set, Percent: 0.6\n",
      "F1 0.25523809523809526\n",
      "Recall 0.5234375\n",
      "Precision 0.16876574307304787\n",
      "[[2042  330]\n",
      " [  61   67]]\n",
      "\n",
      "Validation set, Percent: 0.6\n",
      "F1 0.3165467625899281\n",
      "Recall 0.5789473684210527\n",
      "Precision 0.21782178217821782\n",
      "[[508  79]\n",
      " [ 16  22]]\n",
      "\n",
      "Training set, Percent: 0.7\n",
      "F1 0.26737967914438504\n",
      "Recall 0.390625\n",
      "Precision 0.2032520325203252\n",
      "[[2176  196]\n",
      " [  78   50]]\n",
      "\n",
      "Validation set, Percent: 0.7\n",
      "F1 0.31683168316831684\n",
      "Recall 0.42105263157894735\n",
      "Precision 0.25396825396825395\n",
      "[[540  47]\n",
      " [ 22  16]]\n",
      "\n",
      "Training set, Percent: 0.8\n",
      "F1 0.24369747899159663\n",
      "Recall 0.2265625\n",
      "Precision 0.2636363636363636\n",
      "[[2291   81]\n",
      " [  99   29]]\n",
      "\n",
      "Validation set, Percent: 0.8\n",
      "F1 0.21917808219178084\n",
      "Recall 0.21052631578947367\n",
      "Precision 0.22857142857142856\n",
      "[[560  27]\n",
      " [ 30   8]]\n",
      "\n"
     ]
    }
   ],
   "source": [
    "percent = [0.6, 0.7, 0.8]\n",
    "\n",
    "for x in percent:\n",
    "    print(f\"Training set, Percent: {x}\")\n",
    "    print(\"F1\", f1_score(y_train, convert_prob(prob_pipeline.predict_proba(X_train), x)))\n",
    "    print(\"Recall\",recall_score(y_train, convert_prob(prob_pipeline.predict_proba(X_train), x)))\n",
    "    print(\"Precision\",precision_score(y_train, convert_prob(prob_pipeline.predict_proba(X_train), x)))\n",
    "    print(confusion_matrix(y_train, convert_prob(prob_pipeline.predict_proba(X_train), x)))\n",
    "    print()\n",
    "\n",
    "    print(f\"Validation set, Percent: {x}\")\n",
    "    print(\"F1\", f1_score(y_val, convert_prob(prob_pipeline.predict_proba(X_val), x)))\n",
    "    print(\"Recall\",recall_score(y_val, convert_prob(prob_pipeline.predict_proba(X_val), x)))\n",
    "    print(\"Precision\",precision_score(y_val, convert_prob(prob_pipeline.predict_proba(X_val), x)))\n",
    "    print(confusion_matrix(y_val, convert_prob(prob_pipeline.predict_proba(X_val), x)))\n",
    "    print()\n"
   ]
  },
  {
   "cell_type": "markdown",
   "metadata": {},
   "source": [
    "Looks like 0.7 is the best, evaluate again using the test set"
   ]
  },
  {
   "cell_type": "code",
   "execution_count": 10,
   "metadata": {},
   "outputs": [
    {
     "name": "stdout",
     "output_type": "stream",
     "text": [
      "F1 0.2018348623853211\n",
      "Recall 0.2619047619047619\n",
      "Precision 0.16417910447761194\n",
      "[[684  56]\n",
      " [ 31  11]]\n"
     ]
    }
   ],
   "source": [
    "print(\"F1\", f1_score(y_test, convert_prob(prob_pipeline.predict_proba(X_test), 0.7)))\n",
    "print(\"Recall\",recall_score(y_test, convert_prob(prob_pipeline.predict_proba(X_test), 0.7)))\n",
    "print(\"Precision\",precision_score(y_test, convert_prob(prob_pipeline.predict_proba(X_test), 0.7)))\n",
    "print(confusion_matrix(y_test, convert_prob(prob_pipeline.predict_proba(X_test), 0.7)))"
   ]
  },
  {
   "cell_type": "markdown",
   "metadata": {},
   "source": [
    "TP FP\n",
    "\n",
    "FN TN"
   ]
  },
  {
   "cell_type": "code",
   "execution_count": 1,
   "metadata": {},
   "outputs": [],
   "source": [
    "import joblib\n",
    "\n",
    "#joblib.dump(prob_pipeline, \"app_probability_pipeline.pkl\")"
   ]
  },
  {
   "cell_type": "markdown",
   "metadata": {},
   "source": [
    "NOTES\n",
    "\n",
    "Interpret results based on how it would affect the user.\n",
    "\n",
    "More recall can prevent negative classes from being detected properly"
   ]
  }
 ],
 "metadata": {
  "kernelspec": {
   "display_name": "Python 3",
   "language": "python",
   "name": "python3"
  },
  "language_info": {
   "codemirror_mode": {
    "name": "ipython",
    "version": 3
   },
   "file_extension": ".py",
   "mimetype": "text/x-python",
   "name": "python",
   "nbconvert_exporter": "python",
   "pygments_lexer": "ipython3",
   "version": "3.11.6"
  }
 },
 "nbformat": 4,
 "nbformat_minor": 2
}
