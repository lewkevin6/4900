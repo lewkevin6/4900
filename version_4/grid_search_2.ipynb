{
 "cells": [
  {
   "cell_type": "code",
   "execution_count": null,
   "metadata": {},
   "outputs": [],
   "source": [
    "import pandas as pd\n",
    "from sklearn.model_selection import train_test_split\n",
    "from imblearn.pipeline import Pipeline as imb_pipeline\n",
    "from sklearn.tree import DecisionTreeClassifier\n",
    "from imblearn.over_sampling import SMOTENC, RandomOverSampler\n",
    "from imblearn.under_sampling import RandomUnderSampler\n",
    "from sklearn.compose import ColumnTransformer\n",
    "from sklearn.preprocessing import OneHotEncoder, StandardScaler\n",
    "from sklearn.model_selection import GridSearchCV\n",
    "from sklearn.svm import SVC\n",
    "from sklearn.linear_model import SGDClassifier\n",
    "from sklearn.linear_model import LogisticRegression\n",
    "from sklearn.neighbors import KNeighborsClassifier\n",
    "from sklearn.dummy import DummyClassifier\n",
    "\n",
    "\n",
    "data = pd.read_csv(\"healthcare-dataset-stroke-data.csv\")\n",
    "\n",
    "balanced_data = data.dropna()\n",
    "balanced_data = balanced_data.drop(columns= \"id\")\n",
    "balanced_data = balanced_data[balanced_data.age > 20]\n",
    "balanced_data = balanced_data.drop(balanced_data.index[balanced_data[\"gender\"] == \"Other\"])\n",
    "balanced_data = balanced_data.drop(balanced_data.index[balanced_data[\"work_type\"] == \"Never_worked\"])\n",
    "\n",
    "features = ['gender', 'age', 'hypertension', 'heart_disease', 'ever_married', 'work_type', 'Residence_type', 'avg_glucose_level', \"bmi\", \"smoking_status\"]\n",
    "cat_columns = ['gender', 'ever_married', 'work_type', 'Residence_type', 'smoking_status', 'hypertension', 'heart_disease']\n",
    "num_columns = ['age', 'avg_glucose_level', 'bmi']\n",
    "\n",
    "bal_data_train, bal_data_test = train_test_split(balanced_data, train_size = 0.8, random_state=1, stratify= balanced_data[\"stroke\"])\n",
    "bal_data_train, bal_data_val = train_test_split(bal_data_train, train_size = 0.8, random_state=1)\n",
    "\n",
    "X_train = bal_data_train.drop('stroke', axis = 1)\n",
    "y_train = bal_data_train['stroke']\n",
    "\n",
    "X_val = bal_data_val.drop('stroke', axis = 1)\n",
    "y_val = bal_data_val['stroke']\n",
    "\n",
    "X_test = bal_data_test.drop('stroke', axis = 1)\n",
    "y_test = bal_data_test['stroke']"
   ]
  },
  {
   "cell_type": "code",
   "execution_count": null,
   "metadata": {},
   "outputs": [],
   "source": [
    "preprocessing = ColumnTransformer([\n",
    "    ('one-hot-encoder', OneHotEncoder(sparse_output=False), cat_columns),\n",
    "    ('scaler', StandardScaler(), num_columns)\n",
    "])"
   ]
  },
  {
   "cell_type": "code",
   "execution_count": null,
   "metadata": {},
   "outputs": [],
   "source": [
    "gs_pipeline = imb_pipeline(steps= [\n",
    "        (\"smotenc\", SMOTENC(cat_columns, random_state = 1)),\n",
    "        ('preprocessing', preprocessing),\n",
    "        ('classifier', DummyClassifier(random_state = 1, strategy=\"stratified\")) #Baseline comparator\n",
    "       ])\n",
    "\n",
    "\n",
    "param_grid = [\n",
    "                {\n",
    "                    \"smotenc__sampling_strategy\": [0.1, 0.2, 0.3, 0.4, 0.5, 0.6, 0.7, 0.8, 0.9, 1.0],\n",
    "                    \"classifier\": [SVC(random_state=1)],\n",
    "                    'classifier__C': [1, 10, 100, 1000], \n",
    "                    'classifier__kernel': ['linear', \"rbf\"],\n",
    "                    'classifier__gamma': [0.001, 0.0001]\n",
    "                },\n",
    "\n",
    "                {\n",
    "                    \n",
    "                }\n",
    "\n",
    "\n",
    "]\n",
    "\n",
    "\n",
    "gs = GridSearchCV(\n",
    "    gs_pipeline,\n",
    "    param_grid,\n",
    "    cv = 3,\n",
    "    scoring= \"f1\",\n",
    "    n_jobs= -1\n",
    ")\n",
    "\n",
    "gs.fit(X_train, y_train)"
   ]
  },
  {
   "cell_type": "code",
   "execution_count": null,
   "metadata": {},
   "outputs": [],
   "source": [
    "print(\"Best params:\", gs.best_params_)\n",
    "print(\"Score:\", gs.best_score_)"
   ]
  },
  {
   "cell_type": "markdown",
   "metadata": {},
   "source": [
    "Saved best estimator so I dont have to run it for 15 minutes again"
   ]
  },
  {
   "cell_type": "code",
   "execution_count": null,
   "metadata": {},
   "outputs": [],
   "source": [
    "import joblib\n",
    "\n",
    "best2 = gs.best_estimator_\n",
    "joblib.dump(best2, \"best_estimator2.pkl\")"
   ]
  },
  {
   "cell_type": "code",
   "execution_count": null,
   "metadata": {},
   "outputs": [],
   "source": [
    "from sklearn.metrics import confusion_matrix\n",
    "from sklearn.metrics import recall_score\n",
    "from sklearn.metrics import precision_score\n",
    "from sklearn.metrics import f1_score\n",
    "\n",
    "print(\"Training set\")\n",
    "print(\"F1\", f1_score(y_train, best2.predict(X_train)))\n",
    "print(\"Recall\",recall_score(y_train, best2.predict(X_train)))\n",
    "print(\"Precision\",precision_score(y_train, best2.predict(X_train)))\n",
    "print(confusion_matrix(y_train, best2.predict(X_train)))\n",
    "\n",
    "print()\n",
    "print(\"Val set\")\n",
    "print(\"F1\", f1_score(y_val, best2.predict(X_val)))\n",
    "print(\"Recall\",recall_score(y_val, best2.predict(X_val)))\n",
    "print(\"Precision\",precision_score(y_val, best2.predict(X_val)))\n",
    "print(confusion_matrix(y_val, best2.predict(X_val)))\n",
    "\n",
    "print()\n",
    "print(\"Test set\")\n",
    "print(\"F1\", f1_score(y_test, best2.predict(X_test)))\n",
    "print(\"Recall\", recall_score(y_test, best2.predict(X_test)))\n",
    "print(\"Precision\",precision_score(y_test, best2.predict(X_test)))\n",
    "print(confusion_matrix(y_test, best2.predict(X_test)))"
   ]
  }
 ],
 "metadata": {
  "kernelspec": {
   "display_name": "Python 3",
   "language": "python",
   "name": "python3"
  },
  "language_info": {
   "codemirror_mode": {
    "name": "ipython",
    "version": 3
   },
   "file_extension": ".py",
   "mimetype": "text/x-python",
   "name": "python",
   "nbconvert_exporter": "python",
   "pygments_lexer": "ipython3",
   "version": "3.11.6"
  }
 },
 "nbformat": 4,
 "nbformat_minor": 2
}
