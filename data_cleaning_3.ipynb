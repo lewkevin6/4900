{
 "cells": [
  {
   "cell_type": "markdown",
   "metadata": {},
   "source": [
    "Drop ID column\n",
    "\n",
    "Drop NA\n",
    "\n",
    "Drop \"Other\"\n",
    "\n",
    "Drop age less than 21 because the questions presented to make the predicted dont apply to them\n",
    "\n",
    "Scale\n",
    "\n",
    "SMOTENC"
   ]
  },
  {
   "cell_type": "code",
   "execution_count": 1,
   "metadata": {},
   "outputs": [
    {
     "name": "stdout",
     "output_type": "stream",
     "text": [
      "<class 'pandas.core.frame.DataFrame'>\n",
      "RangeIndex: 5110 entries, 0 to 5109\n",
      "Data columns (total 12 columns):\n",
      " #   Column             Non-Null Count  Dtype  \n",
      "---  ------             --------------  -----  \n",
      " 0   id                 5110 non-null   int64  \n",
      " 1   gender             5110 non-null   object \n",
      " 2   age                5110 non-null   float64\n",
      " 3   hypertension       5110 non-null   int64  \n",
      " 4   heart_disease      5110 non-null   int64  \n",
      " 5   ever_married       5110 non-null   object \n",
      " 6   work_type          5110 non-null   object \n",
      " 7   Residence_type     5110 non-null   object \n",
      " 8   avg_glucose_level  5110 non-null   float64\n",
      " 9   bmi                4909 non-null   float64\n",
      " 10  smoking_status     5110 non-null   object \n",
      " 11  stroke             5110 non-null   int64  \n",
      "dtypes: float64(3), int64(4), object(5)\n",
      "memory usage: 479.2+ KB\n"
     ]
    }
   ],
   "source": [
    "import pandas as pd\n",
    "data = pd.read_csv(\"healthcare-dataset-stroke-data.csv\")\n",
    "data.info()"
   ]
  },
  {
   "cell_type": "markdown",
   "metadata": {},
   "source": [
    "Drop NA"
   ]
  },
  {
   "cell_type": "code",
   "execution_count": 2,
   "metadata": {},
   "outputs": [
    {
     "name": "stdout",
     "output_type": "stream",
     "text": [
      "<class 'pandas.core.frame.DataFrame'>\n",
      "Int64Index: 4909 entries, 0 to 5109\n",
      "Data columns (total 12 columns):\n",
      " #   Column             Non-Null Count  Dtype  \n",
      "---  ------             --------------  -----  \n",
      " 0   id                 4909 non-null   int64  \n",
      " 1   gender             4909 non-null   object \n",
      " 2   age                4909 non-null   float64\n",
      " 3   hypertension       4909 non-null   int64  \n",
      " 4   heart_disease      4909 non-null   int64  \n",
      " 5   ever_married       4909 non-null   object \n",
      " 6   work_type          4909 non-null   object \n",
      " 7   Residence_type     4909 non-null   object \n",
      " 8   avg_glucose_level  4909 non-null   float64\n",
      " 9   bmi                4909 non-null   float64\n",
      " 10  smoking_status     4909 non-null   object \n",
      " 11  stroke             4909 non-null   int64  \n",
      "dtypes: float64(3), int64(4), object(5)\n",
      "memory usage: 498.6+ KB\n"
     ]
    }
   ],
   "source": [
    "balanced_data = data.dropna()\n",
    "\n",
    "balanced_data.info()"
   ]
  },
  {
   "cell_type": "markdown",
   "metadata": {},
   "source": [
    "Drop ID"
   ]
  },
  {
   "cell_type": "code",
   "execution_count": 3,
   "metadata": {},
   "outputs": [
    {
     "name": "stdout",
     "output_type": "stream",
     "text": [
      "<class 'pandas.core.frame.DataFrame'>\n",
      "Int64Index: 4909 entries, 0 to 5109\n",
      "Data columns (total 11 columns):\n",
      " #   Column             Non-Null Count  Dtype  \n",
      "---  ------             --------------  -----  \n",
      " 0   gender             4909 non-null   object \n",
      " 1   age                4909 non-null   float64\n",
      " 2   hypertension       4909 non-null   int64  \n",
      " 3   heart_disease      4909 non-null   int64  \n",
      " 4   ever_married       4909 non-null   object \n",
      " 5   work_type          4909 non-null   object \n",
      " 6   Residence_type     4909 non-null   object \n",
      " 7   avg_glucose_level  4909 non-null   float64\n",
      " 8   bmi                4909 non-null   float64\n",
      " 9   smoking_status     4909 non-null   object \n",
      " 10  stroke             4909 non-null   int64  \n",
      "dtypes: float64(3), int64(3), object(5)\n",
      "memory usage: 460.2+ KB\n"
     ]
    }
   ],
   "source": [
    "balanced_data = balanced_data.drop(columns= \"id\")\n",
    "\n",
    "balanced_data.info()"
   ]
  },
  {
   "cell_type": "markdown",
   "metadata": {},
   "source": [
    "Drop anyone younger than 21 years old"
   ]
  },
  {
   "cell_type": "code",
   "execution_count": 4,
   "metadata": {},
   "outputs": [
    {
     "name": "stdout",
     "output_type": "stream",
     "text": [
      "Lowest age: 21.0\n",
      "<class 'pandas.core.frame.DataFrame'>\n",
      "Int64Index: 3909 entries, 0 to 5109\n",
      "Data columns (total 11 columns):\n",
      " #   Column             Non-Null Count  Dtype  \n",
      "---  ------             --------------  -----  \n",
      " 0   gender             3909 non-null   object \n",
      " 1   age                3909 non-null   float64\n",
      " 2   hypertension       3909 non-null   int64  \n",
      " 3   heart_disease      3909 non-null   int64  \n",
      " 4   ever_married       3909 non-null   object \n",
      " 5   work_type          3909 non-null   object \n",
      " 6   Residence_type     3909 non-null   object \n",
      " 7   avg_glucose_level  3909 non-null   float64\n",
      " 8   bmi                3909 non-null   float64\n",
      " 9   smoking_status     3909 non-null   object \n",
      " 10  stroke             3909 non-null   int64  \n",
      "dtypes: float64(3), int64(3), object(5)\n",
      "memory usage: 366.5+ KB\n"
     ]
    },
    {
     "name": "stderr",
     "output_type": "stream",
     "text": [
      "/tmp/ipykernel_11492/1063364808.py:1: UserWarning: Boolean Series key will be reindexed to match DataFrame index.\n",
      "  balanced_data = balanced_data[data.age > 20]\n"
     ]
    }
   ],
   "source": [
    "balanced_data = balanced_data[data.age > 20]\n",
    "print(\"Lowest age:\", balanced_data[\"age\"].min())\n",
    "balanced_data.info()"
   ]
  },
  {
   "cell_type": "markdown",
   "metadata": {},
   "source": [
    "Drop \"Other\" in gender field"
   ]
  },
  {
   "cell_type": "code",
   "execution_count": 5,
   "metadata": {},
   "outputs": [
    {
     "name": "stdout",
     "output_type": "stream",
     "text": [
      "<class 'pandas.core.frame.DataFrame'>\n",
      "Int64Index: 3908 entries, 0 to 5109\n",
      "Data columns (total 11 columns):\n",
      " #   Column             Non-Null Count  Dtype  \n",
      "---  ------             --------------  -----  \n",
      " 0   gender             3908 non-null   object \n",
      " 1   age                3908 non-null   float64\n",
      " 2   hypertension       3908 non-null   int64  \n",
      " 3   heart_disease      3908 non-null   int64  \n",
      " 4   ever_married       3908 non-null   object \n",
      " 5   work_type          3908 non-null   object \n",
      " 6   Residence_type     3908 non-null   object \n",
      " 7   avg_glucose_level  3908 non-null   float64\n",
      " 8   bmi                3908 non-null   float64\n",
      " 9   smoking_status     3908 non-null   object \n",
      " 10  stroke             3908 non-null   int64  \n",
      "dtypes: float64(3), int64(3), object(5)\n",
      "memory usage: 366.4+ KB\n"
     ]
    }
   ],
   "source": [
    "balanced_data = balanced_data.drop(balanced_data.index[balanced_data[\"gender\"] == \"Other\"])\n",
    "\n",
    "balanced_data.info()"
   ]
  },
  {
   "cell_type": "code",
   "execution_count": null,
   "metadata": {},
   "outputs": [],
   "source": [
    "from sklearn.preprocessing import OneHotEncoder, StandardScaler\n",
    "features = ['gender', 'age', 'hypertension', 'heart_disease', 'ever_married', 'work_type', 'Residence_type', 'avg_glucose_level', \"bmi\", \"smoking_status\"]\n",
    "cat_columns = ['gender', 'ever_married', 'work_type', 'Residence_type', 'smoking_status']\n",
    "num_columns = ['age', 'hypertension', 'heart_disease', 'avg_glucose_level', 'bmi']\n",
    "\n",
    "\n",
    "one_hot_encoder = OneHotEncoder()\n",
    "balanced_data = one_hot_encoder.fit_transform(balanced_data[cat_columns])\n",
    "\n",
    "standard_scaler = StandardScaler()\n",
    "standard_scaler.fit_transform(balanced_data[num_columns])"
   ]
  },
  {
   "cell_type": "code",
   "execution_count": null,
   "metadata": {},
   "outputs": [],
   "source": [
    "balanced_data.shape"
   ]
  }
 ],
 "metadata": {
  "kernelspec": {
   "display_name": "Python 3",
   "language": "python",
   "name": "python3"
  },
  "language_info": {
   "codemirror_mode": {
    "name": "ipython",
    "version": 3
   },
   "file_extension": ".py",
   "mimetype": "text/x-python",
   "name": "python",
   "nbconvert_exporter": "python",
   "pygments_lexer": "ipython3",
   "version": "3.10.8"
  },
  "orig_nbformat": 4
 },
 "nbformat": 4,
 "nbformat_minor": 2
}
