{
 "cells": [
  {
   "cell_type": "code",
   "execution_count": 1,
   "metadata": {},
   "outputs": [],
   "source": [
    "import pandas as pd\n",
    "data = pd.read_csv(\"/workspaces/4900/healthcare-dataset-stroke-data.csv\")\n",
    "\n",
    "balanced_data = data.dropna()\n",
    "balanced_data = balanced_data.drop(columns= \"id\")\n",
    "balanced_data = balanced_data[balanced_data.age > 20]\n",
    "balanced_data = balanced_data.drop(balanced_data.index[balanced_data[\"gender\"] == \"Other\"])\n",
    "\n",
    "features = ['gender', 'age', 'hypertension', 'heart_disease', 'ever_married', 'work_type', 'Residence_type', 'avg_glucose_level', \"bmi\", \"smoking_status\"]\n",
    "cat_columns = ['gender', 'ever_married', 'work_type', 'Residence_type', 'smoking_status', 'hypertension', 'heart_disease']\n",
    "num_columns = ['age', 'avg_glucose_level', 'bmi']"
   ]
  },
  {
   "cell_type": "code",
   "execution_count": 2,
   "metadata": {},
   "outputs": [],
   "source": [
    "from sklearn.model_selection import train_test_split\n",
    "\n",
    "bal_data_train, bal_data_test = train_test_split(balanced_data, train_size = 0.8, random_state=1)\n",
    "\n",
    "\n",
    "X_train = bal_data_train.drop('stroke', axis = 1)\n",
    "y_train = bal_data_train['stroke']\n",
    "\n",
    "X_test = bal_data_test.drop('stroke', axis = 1)\n",
    "y_test = bal_data_test['stroke']\n"
   ]
  },
  {
   "cell_type": "code",
   "execution_count": 6,
   "metadata": {},
   "outputs": [
    {
     "name": "stdout",
     "output_type": "stream",
     "text": [
      "Recall score for smotenc test set: 0.2765957446808511\n"
     ]
    }
   ],
   "source": [
    "from imblearn.pipeline import Pipeline as imb_pipeline\n",
    "from sklearn.tree import DecisionTreeClassifier\n",
    "from imblearn.over_sampling import SMOTENC, RandomOverSampler\n",
    "from imblearn.under_sampling import RandomUnderSampler\n",
    "import joblib\n",
    "\n",
    "smotenc_pipeline = joblib.load(\"/workspaces/4900/data_cleaning_3/pipeline_for_app_3.pkl\")\n",
    "\n",
    "smotenc_pipeline.fit(X_train, y_train)\n",
    "\n",
    "smotenc_pipeline_prediction = smotenc_pipeline.predict(X_test)\n",
    "\n",
    "from sklearn.metrics import recall_score\n",
    "\n",
    "print(\"Recall score for smotenc test set:\", recall_score(y_test, smotenc_pipeline_prediction))"
   ]
  },
  {
   "cell_type": "markdown",
   "metadata": {},
   "source": [
    "What if we use a different resampling stratgety percentages?"
   ]
  },
  {
   "cell_type": "code",
   "execution_count": 10,
   "metadata": {},
   "outputs": [
    {
     "name": "stdout",
     "output_type": "stream",
     "text": [
      "Recall score for 10.0% (Test): 0.2553191489361702\n",
      "Recall score for 20.0% (Test): 0.23404255319148937\n",
      "Recall score for 30.0% (Test): 0.1702127659574468\n",
      "Recall score for 40.0% (Test): 0.23404255319148937\n",
      "Recall score for 50.0% (Test): 0.2978723404255319\n",
      "Recall score for 60.0% (Test): 0.19148936170212766\n",
      "Recall score for 70.0% (Test): 0.2553191489361702\n",
      "Recall score for 80.0% (Test): 0.2765957446808511\n",
      "Recall score for 90.0% (Test): 0.23404255319148937\n",
      "Recall score for 100% (Test): 0.2765957446808511\n"
     ]
    }
   ],
   "source": [
    "from sklearn.compose import ColumnTransformer\n",
    "from sklearn.preprocessing import OneHotEncoder, StandardScaler\n",
    "\n",
    "preprocessing = ColumnTransformer([\n",
    "    ('one-hot-encoder', OneHotEncoder(sparse_output=False), cat_columns),\n",
    "    ('scaler', StandardScaler(), num_columns)\n",
    "])\n",
    "\n",
    "percentages = [0.1, 0.2, 0.3, 0.4, 0.5, 0.6, 0.7, 0.8, 0.9, 1]\n",
    "\n",
    "for x in percentages:\n",
    "    test_pipeline = imb_pipeline(steps= [\n",
    "        (\"smotenc\", SMOTENC(cat_columns, random_state = 1, sampling_strategy= x)),\n",
    "        ('preprocessing', preprocessing),\n",
    "        ('model', DecisionTreeClassifier(random_state = 1))\n",
    "       ])\n",
    "    \n",
    "    test_pipeline.fit(X_train, y_train)\n",
    "    test_pipeline_prediction = test_pipeline.predict(X_test)\n",
    "    print(f\"Recall score for {x*100}% (Test):\", recall_score(y_test, test_pipeline_prediction))"
   ]
  },
  {
   "cell_type": "markdown",
   "metadata": {},
   "source": [
    "Grid search"
   ]
  },
  {
   "cell_type": "code",
   "execution_count": null,
   "metadata": {},
   "outputs": [],
   "source": [
    "from sklearn.model_selection import GridSearchCV\n",
    "\n",
    "gs = GridSearchCV(\n",
    "    \n",
    ")"
   ]
  }
 ],
 "metadata": {
  "kernelspec": {
   "display_name": "Python 3",
   "language": "python",
   "name": "python3"
  },
  "language_info": {
   "codemirror_mode": {
    "name": "ipython",
    "version": 3
   },
   "file_extension": ".py",
   "mimetype": "text/x-python",
   "name": "python",
   "nbconvert_exporter": "python",
   "pygments_lexer": "ipython3",
   "version": "3.10.8"
  }
 },
 "nbformat": 4,
 "nbformat_minor": 2
}
