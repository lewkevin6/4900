{
 "cells": [
  {
   "cell_type": "markdown",
   "metadata": {},
   "source": [
    "Import in clean data from data_visualization.pynb to this notebook and split it into train and validate set"
   ]
  },
  {
   "cell_type": "code",
   "execution_count": 7,
   "metadata": {},
   "outputs": [],
   "source": [
    "import pandas as pd\n",
    "from sklearn.model_selection import train_test_split\n",
    "#Read in newly cleaned data from data_visualization.pynb\n",
    "data = pd.read_csv(\"cleaned_data.csv\")\n",
    "\n",
    "data\n",
    "\n",
    "features = ['gender', 'age', 'hypertension', 'heart_disease', 'ever_married', 'work_type', 'Residence_type', 'avg_glucose_level', \"bmi\", \"smoking_status\"]\n",
    "X = data[features]\n",
    "y = data.stroke\n",
    "\n",
    "train_X, val_X, train_y, val_y = train_test_split(X, y, random_state = 1)"
   ]
  },
  {
   "cell_type": "markdown",
   "metadata": {},
   "source": [
    "Metric of Success"
   ]
  },
  {
   "cell_type": "code",
   "execution_count": 8,
   "metadata": {},
   "outputs": [],
   "source": [
    "from sklearn import metrics\n",
    "\n",
    "#Test bench to test success for every model I create\n",
    "def test(prediction):\n",
    "    print(\"Recall score:\", metrics.recall_score(val_y, prediction))\n",
    "    print(\"Precision score:\", metrics.precision_score(val_y, prediction))\n",
    "    print(\"F1 score:\", metrics.f1_score(val_y, prediction))\n",
    "    print(\"AUC:\", metrics.roc_auc_score(val_y, prediction))\n",
    "    print(\"Confusion Matrix:\\n\", metrics.confusion_matrix(val_y, prediction))\n",
    "\n",
    "\n",
    "#Consider some things like AUC curve\n",
    "#https://towardsdatascience.com/metrics-to-evaluate-your-machine-learning-algorithm-f10ba6e38234\n",
    "\n",
    "#Precision recall tradeoff"
   ]
  },
  {
   "cell_type": "markdown",
   "metadata": {},
   "source": [
    "Transferring model"
   ]
  },
  {
   "cell_type": "code",
   "execution_count": 6,
   "metadata": {},
   "outputs": [],
   "source": [
    "import joblib\n",
    "\n",
    "def transfer_model(model):\n",
    "    return joblib.dump(model, 'model_for_app.pkl')"
   ]
  },
  {
   "cell_type": "markdown",
   "metadata": {},
   "source": [
    "Decision Tree Classifier"
   ]
  },
  {
   "cell_type": "code",
   "execution_count": 1,
   "metadata": {},
   "outputs": [
    {
     "ename": "NameError",
     "evalue": "name 'train_X' is not defined",
     "output_type": "error",
     "traceback": [
      "\u001b[0;31m---------------------------------------------------------------------------\u001b[0m",
      "\u001b[0;31mNameError\u001b[0m                                 Traceback (most recent call last)",
      "\u001b[1;32m/workspaces/4900/model.ipynb Cell 8\u001b[0m line \u001b[0;36m6\n\u001b[1;32m      <a href='vscode-notebook-cell://codespaces%2Bbookish-space-goggles-6qp5q77v4g53594p/workspaces/4900/model.ipynb#X10sdnNjb2RlLXJlbW90ZQ%3D%3D?line=1'>2</a>\u001b[0m \u001b[39mfrom\u001b[39;00m \u001b[39msklearn\u001b[39;00m \u001b[39mimport\u001b[39;00m metrics\n\u001b[1;32m      <a href='vscode-notebook-cell://codespaces%2Bbookish-space-goggles-6qp5q77v4g53594p/workspaces/4900/model.ipynb#X10sdnNjb2RlLXJlbW90ZQ%3D%3D?line=3'>4</a>\u001b[0m decision_tree_model \u001b[39m=\u001b[39m DecisionTreeClassifier(random_state \u001b[39m=\u001b[39m \u001b[39m1\u001b[39m)\n\u001b[0;32m----> <a href='vscode-notebook-cell://codespaces%2Bbookish-space-goggles-6qp5q77v4g53594p/workspaces/4900/model.ipynb#X10sdnNjb2RlLXJlbW90ZQ%3D%3D?line=5'>6</a>\u001b[0m decision_tree_model\u001b[39m.\u001b[39mfit(train_X,train_y)\n\u001b[1;32m      <a href='vscode-notebook-cell://codespaces%2Bbookish-space-goggles-6qp5q77v4g53594p/workspaces/4900/model.ipynb#X10sdnNjb2RlLXJlbW90ZQ%3D%3D?line=7'>8</a>\u001b[0m decision_tree_model_prediction \u001b[39m=\u001b[39m decision_tree_model\u001b[39m.\u001b[39mpredict(val_X)\n\u001b[1;32m     <a href='vscode-notebook-cell://codespaces%2Bbookish-space-goggles-6qp5q77v4g53594p/workspaces/4900/model.ipynb#X10sdnNjb2RlLXJlbW90ZQ%3D%3D?line=9'>10</a>\u001b[0m test(decision_tree_model_prediction)\n",
      "\u001b[0;31mNameError\u001b[0m: name 'train_X' is not defined"
     ]
    }
   ],
   "source": [
    "from sklearn.tree import DecisionTreeClassifier\n",
    "from sklearn import metrics\n",
    "\n",
    "decision_tree_model = DecisionTreeClassifier(random_state = 1)\n",
    "\n",
    "decision_tree_model.fit(train_X,train_y)\n",
    "\n",
    "decision_tree_model_prediction = decision_tree_model.predict(val_X)\n",
    "\n",
    "test(decision_tree_model_prediction)"
   ]
  }
 ],
 "metadata": {
  "kernelspec": {
   "display_name": "Python 3",
   "language": "python",
   "name": "python3"
  },
  "language_info": {
   "codemirror_mode": {
    "name": "ipython",
    "version": 3
   },
   "file_extension": ".py",
   "mimetype": "text/x-python",
   "name": "python",
   "nbconvert_exporter": "python",
   "pygments_lexer": "ipython3",
   "version": "3.10.8"
  },
  "orig_nbformat": 4
 },
 "nbformat": 4,
 "nbformat_minor": 2
}
