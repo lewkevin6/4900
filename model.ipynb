{
 "cells": [
  {
   "cell_type": "markdown",
   "metadata": {},
   "source": [
    "Import in clean data from data_visualization.pynb to this notebook and split it into train and validate set"
   ]
  },
  {
   "cell_type": "code",
   "execution_count": 8,
   "metadata": {},
   "outputs": [],
   "source": [
    "import pandas as pd\n",
    "from sklearn.model_selection import train_test_split\n",
    "#Read in newly cleaned data from data_visualization.pynb\n",
    "data = pd.read_csv(\"cleaned_data.csv\")\n",
    "\n",
    "data\n",
    "\n",
    "features = ['gender', 'age', 'hypertension', 'heart_disease', 'ever_married', 'work_type', 'Residence_type', 'avg_glucose_level', \"bmi\", \"smoking_status\"]\n",
    "X = data[features]\n",
    "y = data.stroke\n",
    "\n",
    "train_X, val_X, train_y, val_y = train_test_split(X, y, random_state = 1)"
   ]
  },
  {
   "cell_type": "markdown",
   "metadata": {},
   "source": [
    "Metric of Success"
   ]
  },
  {
   "cell_type": "code",
   "execution_count": 3,
   "metadata": {},
   "outputs": [],
   "source": [
    "from sklearn import metrics\n",
    "\n",
    "#Test bench to test success for every model I create\n",
    "def test(prediction):\n",
    "    print(\"Recall score:\", metrics.recall_score(val_y, prediction))\n",
    "    print(\"Precision score:\", metrics.precision_score(val_y, prediction))\n",
    "    print(\"F1 score:\", metrics.f1_score(val_y, prediction))\n",
    "    print(\"AUC:\", metrics.roc_auc_score(val_y, prediction))\n",
    "    print(\"Confusion Matrix:\\n\", metrics.confusion_matrix(val_y, prediction))\n",
    "\n",
    "\n",
    "#Consider some things like AUC curve\n",
    "#https://towardsdatascience.com/metrics-to-evaluate-your-machine-learning-algorithm-f10ba6e38234\n",
    "\n",
    "#Precision recall tradeoff"
   ]
  },
  {
   "cell_type": "markdown",
   "metadata": {},
   "source": [
    "Transferring model"
   ]
  },
  {
   "cell_type": "code",
   "execution_count": 6,
   "metadata": {},
   "outputs": [],
   "source": [
    "import joblib\n",
    "\n",
    "def transfer_model(model):\n",
    "    return joblib.dump(model, 'model_for_app.pkl')"
   ]
  },
  {
   "cell_type": "markdown",
   "metadata": {},
   "source": [
    "Decision Tree Classifier"
   ]
  },
  {
   "cell_type": "code",
   "execution_count": 4,
   "metadata": {},
   "outputs": [
    {
     "name": "stdout",
     "output_type": "stream",
     "text": [
      "Recall score: 0.06896551724137931\n",
      "Precision score: 0.06451612903225806\n",
      "F1 score: 0.06666666666666667\n",
      "AUC: 0.5096752308191498\n",
      "Confusion Matrix:\n",
      " [[1111   58]\n",
      " [  54    4]]\n"
     ]
    }
   ],
   "source": [
    "from sklearn.tree import DecisionTreeClassifier\n",
    "from sklearn import metrics\n",
    "\n",
    "decision_tree_model = DecisionTreeClassifier(random_state = 1)\n",
    "\n",
    "decision_tree_model.fit(train_X,train_y)\n",
    "\n",
    "decision_tree_model_prediction = decision_tree_model.predict(val_X)\n",
    "\n",
    "test(decision_tree_model_prediction)"
   ]
  },
  {
   "cell_type": "markdown",
   "metadata": {},
   "source": [
    "Pycaret classification test"
   ]
  },
  {
   "cell_type": "code",
   "execution_count": 24,
   "metadata": {},
   "outputs": [
    {
     "data": {
      "text/html": [
       "<style type=\"text/css\">\n",
       "#T_c1b00_row8_col1 {\n",
       "  background-color: lightgreen;\n",
       "}\n",
       "</style>\n",
       "<table id=\"T_c1b00\">\n",
       "  <thead>\n",
       "    <tr>\n",
       "      <th class=\"blank level0\" >&nbsp;</th>\n",
       "      <th id=\"T_c1b00_level0_col0\" class=\"col_heading level0 col0\" >Description</th>\n",
       "      <th id=\"T_c1b00_level0_col1\" class=\"col_heading level0 col1\" >Value</th>\n",
       "    </tr>\n",
       "  </thead>\n",
       "  <tbody>\n",
       "    <tr>\n",
       "      <th id=\"T_c1b00_level0_row0\" class=\"row_heading level0 row0\" >0</th>\n",
       "      <td id=\"T_c1b00_row0_col0\" class=\"data row0 col0\" >Session id</td>\n",
       "      <td id=\"T_c1b00_row0_col1\" class=\"data row0 col1\" >4746</td>\n",
       "    </tr>\n",
       "    <tr>\n",
       "      <th id=\"T_c1b00_level0_row1\" class=\"row_heading level0 row1\" >1</th>\n",
       "      <td id=\"T_c1b00_row1_col0\" class=\"data row1 col0\" >Target</td>\n",
       "      <td id=\"T_c1b00_row1_col1\" class=\"data row1 col1\" >stroke</td>\n",
       "    </tr>\n",
       "    <tr>\n",
       "      <th id=\"T_c1b00_level0_row2\" class=\"row_heading level0 row2\" >2</th>\n",
       "      <td id=\"T_c1b00_row2_col0\" class=\"data row2 col0\" >Target type</td>\n",
       "      <td id=\"T_c1b00_row2_col1\" class=\"data row2 col1\" >Binary</td>\n",
       "    </tr>\n",
       "    <tr>\n",
       "      <th id=\"T_c1b00_level0_row3\" class=\"row_heading level0 row3\" >3</th>\n",
       "      <td id=\"T_c1b00_row3_col0\" class=\"data row3 col0\" >Original data shape</td>\n",
       "      <td id=\"T_c1b00_row3_col1\" class=\"data row3 col1\" >(4908, 11)</td>\n",
       "    </tr>\n",
       "    <tr>\n",
       "      <th id=\"T_c1b00_level0_row4\" class=\"row_heading level0 row4\" >4</th>\n",
       "      <td id=\"T_c1b00_row4_col0\" class=\"data row4 col0\" >Transformed data shape</td>\n",
       "      <td id=\"T_c1b00_row4_col1\" class=\"data row4 col1\" >(4908, 11)</td>\n",
       "    </tr>\n",
       "    <tr>\n",
       "      <th id=\"T_c1b00_level0_row5\" class=\"row_heading level0 row5\" >5</th>\n",
       "      <td id=\"T_c1b00_row5_col0\" class=\"data row5 col0\" >Transformed train set shape</td>\n",
       "      <td id=\"T_c1b00_row5_col1\" class=\"data row5 col1\" >(3435, 11)</td>\n",
       "    </tr>\n",
       "    <tr>\n",
       "      <th id=\"T_c1b00_level0_row6\" class=\"row_heading level0 row6\" >6</th>\n",
       "      <td id=\"T_c1b00_row6_col0\" class=\"data row6 col0\" >Transformed test set shape</td>\n",
       "      <td id=\"T_c1b00_row6_col1\" class=\"data row6 col1\" >(1473, 11)</td>\n",
       "    </tr>\n",
       "    <tr>\n",
       "      <th id=\"T_c1b00_level0_row7\" class=\"row_heading level0 row7\" >7</th>\n",
       "      <td id=\"T_c1b00_row7_col0\" class=\"data row7 col0\" >Numeric features</td>\n",
       "      <td id=\"T_c1b00_row7_col1\" class=\"data row7 col1\" >10</td>\n",
       "    </tr>\n",
       "    <tr>\n",
       "      <th id=\"T_c1b00_level0_row8\" class=\"row_heading level0 row8\" >8</th>\n",
       "      <td id=\"T_c1b00_row8_col0\" class=\"data row8 col0\" >Preprocess</td>\n",
       "      <td id=\"T_c1b00_row8_col1\" class=\"data row8 col1\" >True</td>\n",
       "    </tr>\n",
       "    <tr>\n",
       "      <th id=\"T_c1b00_level0_row9\" class=\"row_heading level0 row9\" >9</th>\n",
       "      <td id=\"T_c1b00_row9_col0\" class=\"data row9 col0\" >Imputation type</td>\n",
       "      <td id=\"T_c1b00_row9_col1\" class=\"data row9 col1\" >simple</td>\n",
       "    </tr>\n",
       "    <tr>\n",
       "      <th id=\"T_c1b00_level0_row10\" class=\"row_heading level0 row10\" >10</th>\n",
       "      <td id=\"T_c1b00_row10_col0\" class=\"data row10 col0\" >Numeric imputation</td>\n",
       "      <td id=\"T_c1b00_row10_col1\" class=\"data row10 col1\" >mean</td>\n",
       "    </tr>\n",
       "    <tr>\n",
       "      <th id=\"T_c1b00_level0_row11\" class=\"row_heading level0 row11\" >11</th>\n",
       "      <td id=\"T_c1b00_row11_col0\" class=\"data row11 col0\" >Categorical imputation</td>\n",
       "      <td id=\"T_c1b00_row11_col1\" class=\"data row11 col1\" >mode</td>\n",
       "    </tr>\n",
       "    <tr>\n",
       "      <th id=\"T_c1b00_level0_row12\" class=\"row_heading level0 row12\" >12</th>\n",
       "      <td id=\"T_c1b00_row12_col0\" class=\"data row12 col0\" >Fold Generator</td>\n",
       "      <td id=\"T_c1b00_row12_col1\" class=\"data row12 col1\" >StratifiedKFold</td>\n",
       "    </tr>\n",
       "    <tr>\n",
       "      <th id=\"T_c1b00_level0_row13\" class=\"row_heading level0 row13\" >13</th>\n",
       "      <td id=\"T_c1b00_row13_col0\" class=\"data row13 col0\" >Fold Number</td>\n",
       "      <td id=\"T_c1b00_row13_col1\" class=\"data row13 col1\" >10</td>\n",
       "    </tr>\n",
       "    <tr>\n",
       "      <th id=\"T_c1b00_level0_row14\" class=\"row_heading level0 row14\" >14</th>\n",
       "      <td id=\"T_c1b00_row14_col0\" class=\"data row14 col0\" >CPU Jobs</td>\n",
       "      <td id=\"T_c1b00_row14_col1\" class=\"data row14 col1\" >-1</td>\n",
       "    </tr>\n",
       "    <tr>\n",
       "      <th id=\"T_c1b00_level0_row15\" class=\"row_heading level0 row15\" >15</th>\n",
       "      <td id=\"T_c1b00_row15_col0\" class=\"data row15 col0\" >Use GPU</td>\n",
       "      <td id=\"T_c1b00_row15_col1\" class=\"data row15 col1\" >False</td>\n",
       "    </tr>\n",
       "    <tr>\n",
       "      <th id=\"T_c1b00_level0_row16\" class=\"row_heading level0 row16\" >16</th>\n",
       "      <td id=\"T_c1b00_row16_col0\" class=\"data row16 col0\" >Log Experiment</td>\n",
       "      <td id=\"T_c1b00_row16_col1\" class=\"data row16 col1\" >False</td>\n",
       "    </tr>\n",
       "    <tr>\n",
       "      <th id=\"T_c1b00_level0_row17\" class=\"row_heading level0 row17\" >17</th>\n",
       "      <td id=\"T_c1b00_row17_col0\" class=\"data row17 col0\" >Experiment Name</td>\n",
       "      <td id=\"T_c1b00_row17_col1\" class=\"data row17 col1\" >clf-default-name</td>\n",
       "    </tr>\n",
       "    <tr>\n",
       "      <th id=\"T_c1b00_level0_row18\" class=\"row_heading level0 row18\" >18</th>\n",
       "      <td id=\"T_c1b00_row18_col0\" class=\"data row18 col0\" >USI</td>\n",
       "      <td id=\"T_c1b00_row18_col1\" class=\"data row18 col1\" >ff2d</td>\n",
       "    </tr>\n",
       "  </tbody>\n",
       "</table>\n"
      ],
      "text/plain": [
       "<pandas.io.formats.style.Styler at 0x7f10142273a0>"
      ]
     },
     "metadata": {},
     "output_type": "display_data"
    },
    {
     "data": {
      "text/html": [],
      "text/plain": [
       "<IPython.core.display.HTML object>"
      ]
     },
     "metadata": {},
     "output_type": "display_data"
    },
    {
     "data": {
      "text/html": [
       "<style type=\"text/css\">\n",
       "#T_643db th {\n",
       "  text-align: left;\n",
       "}\n",
       "#T_643db_row0_col0, #T_643db_row0_col1, #T_643db_row0_col2, #T_643db_row0_col4, #T_643db_row0_col5, #T_643db_row0_col6, #T_643db_row0_col7, #T_643db_row1_col0, #T_643db_row1_col1, #T_643db_row1_col2, #T_643db_row1_col3, #T_643db_row1_col4, #T_643db_row2_col0, #T_643db_row2_col1, #T_643db_row2_col2, #T_643db_row2_col3, #T_643db_row2_col4, #T_643db_row2_col5, #T_643db_row2_col6, #T_643db_row2_col7, #T_643db_row3_col0, #T_643db_row3_col1, #T_643db_row3_col2, #T_643db_row3_col3, #T_643db_row3_col5, #T_643db_row3_col6, #T_643db_row3_col7, #T_643db_row4_col0, #T_643db_row4_col1, #T_643db_row4_col2, #T_643db_row4_col3, #T_643db_row4_col4, #T_643db_row4_col5, #T_643db_row4_col6, #T_643db_row4_col7, #T_643db_row5_col0, #T_643db_row5_col1, #T_643db_row5_col2, #T_643db_row5_col3, #T_643db_row5_col4, #T_643db_row5_col5, #T_643db_row5_col6, #T_643db_row5_col7, #T_643db_row6_col0, #T_643db_row6_col1, #T_643db_row6_col2, #T_643db_row6_col3, #T_643db_row6_col4, #T_643db_row6_col5, #T_643db_row6_col6, #T_643db_row6_col7, #T_643db_row7_col0, #T_643db_row7_col1, #T_643db_row7_col2, #T_643db_row7_col3, #T_643db_row7_col4, #T_643db_row7_col5, #T_643db_row7_col6, #T_643db_row7_col7, #T_643db_row8_col0, #T_643db_row8_col1, #T_643db_row8_col2, #T_643db_row8_col3, #T_643db_row8_col4, #T_643db_row8_col5, #T_643db_row8_col6, #T_643db_row8_col7, #T_643db_row9_col0, #T_643db_row9_col3, #T_643db_row9_col4, #T_643db_row9_col5, #T_643db_row9_col6, #T_643db_row9_col7, #T_643db_row10_col0, #T_643db_row10_col1, #T_643db_row10_col2, #T_643db_row10_col3, #T_643db_row10_col4, #T_643db_row10_col5, #T_643db_row10_col6, #T_643db_row10_col7, #T_643db_row11_col0, #T_643db_row11_col1, #T_643db_row11_col2, #T_643db_row11_col3, #T_643db_row11_col4, #T_643db_row11_col5, #T_643db_row11_col6, #T_643db_row11_col7, #T_643db_row12_col0, #T_643db_row12_col1, #T_643db_row12_col2, #T_643db_row12_col3, #T_643db_row12_col4, #T_643db_row12_col5, #T_643db_row12_col6, #T_643db_row12_col7, #T_643db_row13_col0, #T_643db_row13_col1, #T_643db_row13_col2, #T_643db_row13_col3, #T_643db_row13_col4, #T_643db_row13_col5, #T_643db_row13_col6, #T_643db_row13_col7 {\n",
       "  text-align: left;\n",
       "}\n",
       "#T_643db_row0_col3, #T_643db_row1_col5, #T_643db_row1_col6, #T_643db_row1_col7, #T_643db_row3_col4, #T_643db_row9_col1, #T_643db_row9_col2 {\n",
       "  text-align: left;\n",
       "  background-color: yellow;\n",
       "}\n",
       "#T_643db_row0_col8, #T_643db_row1_col8, #T_643db_row2_col8, #T_643db_row3_col8, #T_643db_row4_col8, #T_643db_row5_col8, #T_643db_row6_col8, #T_643db_row7_col8, #T_643db_row8_col8, #T_643db_row9_col8, #T_643db_row10_col8, #T_643db_row11_col8, #T_643db_row12_col8 {\n",
       "  text-align: left;\n",
       "  background-color: lightgrey;\n",
       "}\n",
       "#T_643db_row13_col8 {\n",
       "  text-align: left;\n",
       "  background-color: yellow;\n",
       "  background-color: lightgrey;\n",
       "}\n",
       "</style>\n",
       "<table id=\"T_643db\">\n",
       "  <thead>\n",
       "    <tr>\n",
       "      <th class=\"blank level0\" >&nbsp;</th>\n",
       "      <th id=\"T_643db_level0_col0\" class=\"col_heading level0 col0\" >Model</th>\n",
       "      <th id=\"T_643db_level0_col1\" class=\"col_heading level0 col1\" >Accuracy</th>\n",
       "      <th id=\"T_643db_level0_col2\" class=\"col_heading level0 col2\" >AUC</th>\n",
       "      <th id=\"T_643db_level0_col3\" class=\"col_heading level0 col3\" >Recall</th>\n",
       "      <th id=\"T_643db_level0_col4\" class=\"col_heading level0 col4\" >Prec.</th>\n",
       "      <th id=\"T_643db_level0_col5\" class=\"col_heading level0 col5\" >F1</th>\n",
       "      <th id=\"T_643db_level0_col6\" class=\"col_heading level0 col6\" >Kappa</th>\n",
       "      <th id=\"T_643db_level0_col7\" class=\"col_heading level0 col7\" >MCC</th>\n",
       "      <th id=\"T_643db_level0_col8\" class=\"col_heading level0 col8\" >TT (Sec)</th>\n",
       "    </tr>\n",
       "  </thead>\n",
       "  <tbody>\n",
       "    <tr>\n",
       "      <th id=\"T_643db_level0_row0\" class=\"row_heading level0 row0\" >nb</th>\n",
       "      <td id=\"T_643db_row0_col0\" class=\"data row0 col0\" >Naive Bayes</td>\n",
       "      <td id=\"T_643db_row0_col1\" class=\"data row0 col1\" >0.8737</td>\n",
       "      <td id=\"T_643db_row0_col2\" class=\"data row0 col2\" >0.8216</td>\n",
       "      <td id=\"T_643db_row0_col3\" class=\"data row0 col3\" >0.4090</td>\n",
       "      <td id=\"T_643db_row0_col4\" class=\"data row0 col4\" >0.1460</td>\n",
       "      <td id=\"T_643db_row0_col5\" class=\"data row0 col5\" >0.2145</td>\n",
       "      <td id=\"T_643db_row0_col6\" class=\"data row0 col6\" >0.1624</td>\n",
       "      <td id=\"T_643db_row0_col7\" class=\"data row0 col7\" >0.1886</td>\n",
       "      <td id=\"T_643db_row0_col8\" class=\"data row0 col8\" >0.0410</td>\n",
       "    </tr>\n",
       "    <tr>\n",
       "      <th id=\"T_643db_level0_row1\" class=\"row_heading level0 row1\" >qda</th>\n",
       "      <td id=\"T_643db_row1_col0\" class=\"data row1 col0\" >Quadratic Discriminant Analysis</td>\n",
       "      <td id=\"T_643db_row1_col1\" class=\"data row1 col1\" >0.8868</td>\n",
       "      <td id=\"T_643db_row1_col2\" class=\"data row1 col2\" >0.8339</td>\n",
       "      <td id=\"T_643db_row1_col3\" class=\"data row1 col3\" >0.3948</td>\n",
       "      <td id=\"T_643db_row1_col4\" class=\"data row1 col4\" >0.1622</td>\n",
       "      <td id=\"T_643db_row1_col5\" class=\"data row1 col5\" >0.2281</td>\n",
       "      <td id=\"T_643db_row1_col6\" class=\"data row1 col6\" >0.1790</td>\n",
       "      <td id=\"T_643db_row1_col7\" class=\"data row1 col7\" >0.2006</td>\n",
       "      <td id=\"T_643db_row1_col8\" class=\"data row1 col8\" >0.0270</td>\n",
       "    </tr>\n",
       "    <tr>\n",
       "      <th id=\"T_643db_level0_row2\" class=\"row_heading level0 row2\" >dt</th>\n",
       "      <td id=\"T_643db_row2_col0\" class=\"data row2 col0\" >Decision Tree Classifier</td>\n",
       "      <td id=\"T_643db_row2_col1\" class=\"data row2 col1\" >0.9208</td>\n",
       "      <td id=\"T_643db_row2_col2\" class=\"data row2 col2\" >0.5332</td>\n",
       "      <td id=\"T_643db_row2_col3\" class=\"data row2 col3\" >0.1095</td>\n",
       "      <td id=\"T_643db_row2_col4\" class=\"data row2 col4\" >0.0993</td>\n",
       "      <td id=\"T_643db_row2_col5\" class=\"data row2 col5\" >0.1031</td>\n",
       "      <td id=\"T_643db_row2_col6\" class=\"data row2 col6\" >0.0623</td>\n",
       "      <td id=\"T_643db_row2_col7\" class=\"data row2 col7\" >0.0627</td>\n",
       "      <td id=\"T_643db_row2_col8\" class=\"data row2 col8\" >0.0230</td>\n",
       "    </tr>\n",
       "    <tr>\n",
       "      <th id=\"T_643db_level0_row3\" class=\"row_heading level0 row3\" >lda</th>\n",
       "      <td id=\"T_643db_row3_col0\" class=\"data row3 col0\" >Linear Discriminant Analysis</td>\n",
       "      <td id=\"T_643db_row3_col1\" class=\"data row3 col1\" >0.9479</td>\n",
       "      <td id=\"T_643db_row3_col2\" class=\"data row3 col2\" >0.8352</td>\n",
       "      <td id=\"T_643db_row3_col3\" class=\"data row3 col3\" >0.0962</td>\n",
       "      <td id=\"T_643db_row3_col4\" class=\"data row3 col4\" >0.2613</td>\n",
       "      <td id=\"T_643db_row3_col5\" class=\"data row3 col5\" >0.1326</td>\n",
       "      <td id=\"T_643db_row3_col6\" class=\"data row3 col6\" >0.1116</td>\n",
       "      <td id=\"T_643db_row3_col7\" class=\"data row3 col7\" >0.1298</td>\n",
       "      <td id=\"T_643db_row3_col8\" class=\"data row3 col8\" >0.0240</td>\n",
       "    </tr>\n",
       "    <tr>\n",
       "      <th id=\"T_643db_level0_row4\" class=\"row_heading level0 row4\" >et</th>\n",
       "      <td id=\"T_643db_row4_col0\" class=\"data row4 col0\" >Extra Trees Classifier</td>\n",
       "      <td id=\"T_643db_row4_col1\" class=\"data row4 col1\" >0.9540</td>\n",
       "      <td id=\"T_643db_row4_col2\" class=\"data row4 col2\" >0.7648</td>\n",
       "      <td id=\"T_643db_row4_col3\" class=\"data row4 col3\" >0.0352</td>\n",
       "      <td id=\"T_643db_row4_col4\" class=\"data row4 col4\" >0.2233</td>\n",
       "      <td id=\"T_643db_row4_col5\" class=\"data row4 col5\" >0.0580</td>\n",
       "      <td id=\"T_643db_row4_col6\" class=\"data row4 col6\" >0.0482</td>\n",
       "      <td id=\"T_643db_row4_col7\" class=\"data row4 col7\" >0.0718</td>\n",
       "      <td id=\"T_643db_row4_col8\" class=\"data row4 col8\" >0.2070</td>\n",
       "    </tr>\n",
       "    <tr>\n",
       "      <th id=\"T_643db_level0_row5\" class=\"row_heading level0 row5\" >gbc</th>\n",
       "      <td id=\"T_643db_row5_col0\" class=\"data row5 col0\" >Gradient Boosting Classifier</td>\n",
       "      <td id=\"T_643db_row5_col1\" class=\"data row5 col1\" >0.9552</td>\n",
       "      <td id=\"T_643db_row5_col2\" class=\"data row5 col2\" >0.8364</td>\n",
       "      <td id=\"T_643db_row5_col3\" class=\"data row5 col3\" >0.0267</td>\n",
       "      <td id=\"T_643db_row5_col4\" class=\"data row5 col4\" >0.1400</td>\n",
       "      <td id=\"T_643db_row5_col5\" class=\"data row5 col5\" >0.0435</td>\n",
       "      <td id=\"T_643db_row5_col6\" class=\"data row5 col6\" >0.0362</td>\n",
       "      <td id=\"T_643db_row5_col7\" class=\"data row5 col7\" >0.0487</td>\n",
       "      <td id=\"T_643db_row5_col8\" class=\"data row5 col8\" >0.2640</td>\n",
       "    </tr>\n",
       "    <tr>\n",
       "      <th id=\"T_643db_level0_row6\" class=\"row_heading level0 row6\" >ada</th>\n",
       "      <td id=\"T_643db_row6_col0\" class=\"data row6 col0\" >Ada Boost Classifier</td>\n",
       "      <td id=\"T_643db_row6_col1\" class=\"data row6 col1\" >0.9558</td>\n",
       "      <td id=\"T_643db_row6_col2\" class=\"data row6 col2\" >0.8303</td>\n",
       "      <td id=\"T_643db_row6_col3\" class=\"data row6 col3\" >0.0205</td>\n",
       "      <td id=\"T_643db_row6_col4\" class=\"data row6 col4\" >0.2000</td>\n",
       "      <td id=\"T_643db_row6_col5\" class=\"data row6 col5\" >0.0368</td>\n",
       "      <td id=\"T_643db_row6_col6\" class=\"data row6 col6\" >0.0310</td>\n",
       "      <td id=\"T_643db_row6_col7\" class=\"data row6 col7\" >0.0551</td>\n",
       "      <td id=\"T_643db_row6_col8\" class=\"data row6 col8\" >0.1260</td>\n",
       "    </tr>\n",
       "    <tr>\n",
       "      <th id=\"T_643db_level0_row7\" class=\"row_heading level0 row7\" >knn</th>\n",
       "      <td id=\"T_643db_row7_col0\" class=\"data row7 col0\" >K Neighbors Classifier</td>\n",
       "      <td id=\"T_643db_row7_col1\" class=\"data row7 col1\" >0.9534</td>\n",
       "      <td id=\"T_643db_row7_col2\" class=\"data row7 col2\" >0.6669</td>\n",
       "      <td id=\"T_643db_row7_col3\" class=\"data row7 col3\" >0.0143</td>\n",
       "      <td id=\"T_643db_row7_col4\" class=\"data row7 col4\" >0.0700</td>\n",
       "      <td id=\"T_643db_row7_col5\" class=\"data row7 col5\" >0.0230</td>\n",
       "      <td id=\"T_643db_row7_col6\" class=\"data row7 col6\" >0.0145</td>\n",
       "      <td id=\"T_643db_row7_col7\" class=\"data row7 col7\" >0.0186</td>\n",
       "      <td id=\"T_643db_row7_col8\" class=\"data row7 col8\" >0.0440</td>\n",
       "    </tr>\n",
       "    <tr>\n",
       "      <th id=\"T_643db_level0_row8\" class=\"row_heading level0 row8\" >lightgbm</th>\n",
       "      <td id=\"T_643db_row8_col0\" class=\"data row8 col0\" >Light Gradient Boosting Machine</td>\n",
       "      <td id=\"T_643db_row8_col1\" class=\"data row8 col1\" >0.9493</td>\n",
       "      <td id=\"T_643db_row8_col2\" class=\"data row8 col2\" >0.8117</td>\n",
       "      <td id=\"T_643db_row8_col3\" class=\"data row8 col3\" >0.0138</td>\n",
       "      <td id=\"T_643db_row8_col4\" class=\"data row8 col4\" >0.0375</td>\n",
       "      <td id=\"T_643db_row8_col5\" class=\"data row8 col5\" >0.0196</td>\n",
       "      <td id=\"T_643db_row8_col6\" class=\"data row8 col6\" >0.0054</td>\n",
       "      <td id=\"T_643db_row8_col7\" class=\"data row8 col7\" >0.0037</td>\n",
       "      <td id=\"T_643db_row8_col8\" class=\"data row8 col8\" >0.7450</td>\n",
       "    </tr>\n",
       "    <tr>\n",
       "      <th id=\"T_643db_level0_row9\" class=\"row_heading level0 row9\" >lr</th>\n",
       "      <td id=\"T_643db_row9_col0\" class=\"data row9 col0\" >Logistic Regression</td>\n",
       "      <td id=\"T_643db_row9_col1\" class=\"data row9 col1\" >0.9578</td>\n",
       "      <td id=\"T_643db_row9_col2\" class=\"data row9 col2\" >0.8489</td>\n",
       "      <td id=\"T_643db_row9_col3\" class=\"data row9 col3\" >0.0067</td>\n",
       "      <td id=\"T_643db_row9_col4\" class=\"data row9 col4\" >0.1000</td>\n",
       "      <td id=\"T_643db_row9_col5\" class=\"data row9 col5\" >0.0125</td>\n",
       "      <td id=\"T_643db_row9_col6\" class=\"data row9 col6\" >0.0120</td>\n",
       "      <td id=\"T_643db_row9_col7\" class=\"data row9 col7\" >0.0253</td>\n",
       "      <td id=\"T_643db_row9_col8\" class=\"data row9 col8\" >0.3280</td>\n",
       "    </tr>\n",
       "    <tr>\n",
       "      <th id=\"T_643db_level0_row10\" class=\"row_heading level0 row10\" >svm</th>\n",
       "      <td id=\"T_643db_row10_col0\" class=\"data row10 col0\" >SVM - Linear Kernel</td>\n",
       "      <td id=\"T_643db_row10_col1\" class=\"data row10 col1\" >0.9546</td>\n",
       "      <td id=\"T_643db_row10_col2\" class=\"data row10 col2\" >0.0000</td>\n",
       "      <td id=\"T_643db_row10_col3\" class=\"data row10 col3\" >0.0067</td>\n",
       "      <td id=\"T_643db_row10_col4\" class=\"data row10 col4\" >0.0091</td>\n",
       "      <td id=\"T_643db_row10_col5\" class=\"data row10 col5\" >0.0077</td>\n",
       "      <td id=\"T_643db_row10_col6\" class=\"data row10 col6\" >0.0036</td>\n",
       "      <td id=\"T_643db_row10_col7\" class=\"data row10 col7\" >0.0031</td>\n",
       "      <td id=\"T_643db_row10_col8\" class=\"data row10 col8\" >0.0280</td>\n",
       "    </tr>\n",
       "    <tr>\n",
       "      <th id=\"T_643db_level0_row11\" class=\"row_heading level0 row11\" >ridge</th>\n",
       "      <td id=\"T_643db_row11_col0\" class=\"data row11 col0\" >Ridge Classifier</td>\n",
       "      <td id=\"T_643db_row11_col1\" class=\"data row11 col1\" >0.9575</td>\n",
       "      <td id=\"T_643db_row11_col2\" class=\"data row11 col2\" >0.0000</td>\n",
       "      <td id=\"T_643db_row11_col3\" class=\"data row11 col3\" >0.0000</td>\n",
       "      <td id=\"T_643db_row11_col4\" class=\"data row11 col4\" >0.0000</td>\n",
       "      <td id=\"T_643db_row11_col5\" class=\"data row11 col5\" >0.0000</td>\n",
       "      <td id=\"T_643db_row11_col6\" class=\"data row11 col6\" >0.0000</td>\n",
       "      <td id=\"T_643db_row11_col7\" class=\"data row11 col7\" >0.0000</td>\n",
       "      <td id=\"T_643db_row11_col8\" class=\"data row11 col8\" >0.0210</td>\n",
       "    </tr>\n",
       "    <tr>\n",
       "      <th id=\"T_643db_level0_row12\" class=\"row_heading level0 row12\" >rf</th>\n",
       "      <td id=\"T_643db_row12_col0\" class=\"data row12 col0\" >Random Forest Classifier</td>\n",
       "      <td id=\"T_643db_row12_col1\" class=\"data row12 col1\" >0.9566</td>\n",
       "      <td id=\"T_643db_row12_col2\" class=\"data row12 col2\" >0.7904</td>\n",
       "      <td id=\"T_643db_row12_col3\" class=\"data row12 col3\" >0.0000</td>\n",
       "      <td id=\"T_643db_row12_col4\" class=\"data row12 col4\" >0.0000</td>\n",
       "      <td id=\"T_643db_row12_col5\" class=\"data row12 col5\" >0.0000</td>\n",
       "      <td id=\"T_643db_row12_col6\" class=\"data row12 col6\" >-0.0016</td>\n",
       "      <td id=\"T_643db_row12_col7\" class=\"data row12 col7\" >-0.0034</td>\n",
       "      <td id=\"T_643db_row12_col8\" class=\"data row12 col8\" >0.2730</td>\n",
       "    </tr>\n",
       "    <tr>\n",
       "      <th id=\"T_643db_level0_row13\" class=\"row_heading level0 row13\" >dummy</th>\n",
       "      <td id=\"T_643db_row13_col0\" class=\"data row13 col0\" >Dummy Classifier</td>\n",
       "      <td id=\"T_643db_row13_col1\" class=\"data row13 col1\" >0.9575</td>\n",
       "      <td id=\"T_643db_row13_col2\" class=\"data row13 col2\" >0.5000</td>\n",
       "      <td id=\"T_643db_row13_col3\" class=\"data row13 col3\" >0.0000</td>\n",
       "      <td id=\"T_643db_row13_col4\" class=\"data row13 col4\" >0.0000</td>\n",
       "      <td id=\"T_643db_row13_col5\" class=\"data row13 col5\" >0.0000</td>\n",
       "      <td id=\"T_643db_row13_col6\" class=\"data row13 col6\" >0.0000</td>\n",
       "      <td id=\"T_643db_row13_col7\" class=\"data row13 col7\" >0.0000</td>\n",
       "      <td id=\"T_643db_row13_col8\" class=\"data row13 col8\" >0.0180</td>\n",
       "    </tr>\n",
       "  </tbody>\n",
       "</table>\n"
      ],
      "text/plain": [
       "<pandas.io.formats.style.Styler at 0x7f101475b970>"
      ]
     },
     "metadata": {},
     "output_type": "display_data"
    },
    {
     "data": {
      "text/html": [],
      "text/plain": [
       "<IPython.core.display.HTML object>"
      ]
     },
     "metadata": {},
     "output_type": "display_data"
    },
    {
     "data": {
      "application/vnd.jupyter.widget-view+json": {
       "model_id": "b533af2622044caa87763c9e5a853c15",
       "version_major": 2,
       "version_minor": 0
      },
      "text/plain": [
       "interactive(children=(ToggleButtons(description='Plot Type:', icons=('',), options=(('Pipeline Plot', 'pipelin…"
      ]
     },
     "metadata": {},
     "output_type": "display_data"
    }
   ],
   "source": [
    "from pycaret.classification import setup, compare_models, evaluate_model, predict_model\n",
    "\n",
    "setup(data, target='stroke')\n",
    "\n",
    "best_model = compare_models(sort= \"Recall\")\n",
    "     \n",
    "evaluate_model(best_model)\n"
   ]
  },
  {
   "cell_type": "code",
   "execution_count": 22,
   "metadata": {},
   "outputs": [
    {
     "data": {
      "text/html": [
       "<style>#sk-container-id-2 {color: black;background-color: white;}#sk-container-id-2 pre{padding: 0;}#sk-container-id-2 div.sk-toggleable {background-color: white;}#sk-container-id-2 label.sk-toggleable__label {cursor: pointer;display: block;width: 100%;margin-bottom: 0;padding: 0.3em;box-sizing: border-box;text-align: center;}#sk-container-id-2 label.sk-toggleable__label-arrow:before {content: \"▸\";float: left;margin-right: 0.25em;color: #696969;}#sk-container-id-2 label.sk-toggleable__label-arrow:hover:before {color: black;}#sk-container-id-2 div.sk-estimator:hover label.sk-toggleable__label-arrow:before {color: black;}#sk-container-id-2 div.sk-toggleable__content {max-height: 0;max-width: 0;overflow: hidden;text-align: left;background-color: #f0f8ff;}#sk-container-id-2 div.sk-toggleable__content pre {margin: 0.2em;color: black;border-radius: 0.25em;background-color: #f0f8ff;}#sk-container-id-2 input.sk-toggleable__control:checked~div.sk-toggleable__content {max-height: 200px;max-width: 100%;overflow: auto;}#sk-container-id-2 input.sk-toggleable__control:checked~label.sk-toggleable__label-arrow:before {content: \"▾\";}#sk-container-id-2 div.sk-estimator input.sk-toggleable__control:checked~label.sk-toggleable__label {background-color: #d4ebff;}#sk-container-id-2 div.sk-label input.sk-toggleable__control:checked~label.sk-toggleable__label {background-color: #d4ebff;}#sk-container-id-2 input.sk-hidden--visually {border: 0;clip: rect(1px 1px 1px 1px);clip: rect(1px, 1px, 1px, 1px);height: 1px;margin: -1px;overflow: hidden;padding: 0;position: absolute;width: 1px;}#sk-container-id-2 div.sk-estimator {font-family: monospace;background-color: #f0f8ff;border: 1px dotted black;border-radius: 0.25em;box-sizing: border-box;margin-bottom: 0.5em;}#sk-container-id-2 div.sk-estimator:hover {background-color: #d4ebff;}#sk-container-id-2 div.sk-parallel-item::after {content: \"\";width: 100%;border-bottom: 1px solid gray;flex-grow: 1;}#sk-container-id-2 div.sk-label:hover label.sk-toggleable__label {background-color: #d4ebff;}#sk-container-id-2 div.sk-serial::before {content: \"\";position: absolute;border-left: 1px solid gray;box-sizing: border-box;top: 0;bottom: 0;left: 50%;z-index: 0;}#sk-container-id-2 div.sk-serial {display: flex;flex-direction: column;align-items: center;background-color: white;padding-right: 0.2em;padding-left: 0.2em;position: relative;}#sk-container-id-2 div.sk-item {position: relative;z-index: 1;}#sk-container-id-2 div.sk-parallel {display: flex;align-items: stretch;justify-content: center;background-color: white;position: relative;}#sk-container-id-2 div.sk-item::before, #sk-container-id-2 div.sk-parallel-item::before {content: \"\";position: absolute;border-left: 1px solid gray;box-sizing: border-box;top: 0;bottom: 0;left: 50%;z-index: -1;}#sk-container-id-2 div.sk-parallel-item {display: flex;flex-direction: column;z-index: 1;position: relative;background-color: white;}#sk-container-id-2 div.sk-parallel-item:first-child::after {align-self: flex-end;width: 50%;}#sk-container-id-2 div.sk-parallel-item:last-child::after {align-self: flex-start;width: 50%;}#sk-container-id-2 div.sk-parallel-item:only-child::after {width: 0;}#sk-container-id-2 div.sk-dashed-wrapped {border: 1px dashed gray;margin: 0 0.4em 0.5em 0.4em;box-sizing: border-box;padding-bottom: 0.4em;background-color: white;}#sk-container-id-2 div.sk-label label {font-family: monospace;font-weight: bold;display: inline-block;line-height: 1.2em;}#sk-container-id-2 div.sk-label-container {text-align: center;}#sk-container-id-2 div.sk-container {/* jupyter's `normalize.less` sets `[hidden] { display: none; }` but bootstrap.min.css set `[hidden] { display: none !important; }` so we also need the `!important` here to be able to override the default hidden behavior on the sphinx rendered scikit-learn.org. See: https://github.com/scikit-learn/scikit-learn/issues/21755 */display: inline-block !important;position: relative;}#sk-container-id-2 div.sk-text-repr-fallback {display: none;}</style><div id=\"sk-container-id-2\" class=\"sk-top-container\"><div class=\"sk-text-repr-fallback\"><pre>GaussianNB(priors=None, var_smoothing=1e-09)</pre><b>In a Jupyter environment, please rerun this cell to show the HTML representation or trust the notebook. <br />On GitHub, the HTML representation is unable to render, please try loading this page with nbviewer.org.</b></div><div class=\"sk-container\" hidden><div class=\"sk-item\"><div class=\"sk-estimator sk-toggleable\"><input class=\"sk-toggleable__control sk-hidden--visually\" id=\"sk-estimator-id-2\" type=\"checkbox\" checked><label for=\"sk-estimator-id-2\" class=\"sk-toggleable__label sk-toggleable__label-arrow\">GaussianNB</label><div class=\"sk-toggleable__content\"><pre>GaussianNB(priors=None, var_smoothing=1e-09)</pre></div></div></div></div></div>"
      ],
      "text/plain": [
       "GaussianNB(priors=None, var_smoothing=1e-09)"
      ]
     },
     "execution_count": 22,
     "metadata": {},
     "output_type": "execute_result"
    }
   ],
   "source": [
    "best_model"
   ]
  },
  {
   "cell_type": "markdown",
   "metadata": {},
   "source": [
    "AUTO sk learn test"
   ]
  },
  {
   "cell_type": "code",
   "execution_count": 23,
   "metadata": {},
   "outputs": [
    {
     "ename": "ModuleNotFoundError",
     "evalue": "No module named 'autosklearn'",
     "output_type": "error",
     "traceback": [
      "\u001b[0;31m---------------------------------------------------------------------------\u001b[0m",
      "\u001b[0;31mModuleNotFoundError\u001b[0m                       Traceback (most recent call last)",
      "\u001b[1;32m/workspaces/4900/model.ipynb Cell 14\u001b[0m line \u001b[0;36m1\n\u001b[0;32m----> <a href='vscode-notebook-cell://codespaces%2Bbookish-space-goggles-6qp5q77v4g53594p/workspaces/4900/model.ipynb#X16sdnNjb2RlLXJlbW90ZQ%3D%3D?line=0'>1</a>\u001b[0m \u001b[39mimport\u001b[39;00m \u001b[39mautosklearn\u001b[39;00m\u001b[39m.\u001b[39;00m\u001b[39mclassification\u001b[39;00m\n",
      "\u001b[0;31mModuleNotFoundError\u001b[0m: No module named 'autosklearn'"
     ]
    }
   ],
   "source": [
    "\n"
   ]
  }
 ],
 "metadata": {
  "kernelspec": {
   "display_name": "Python 3",
   "language": "python",
   "name": "python3"
  },
  "language_info": {
   "codemirror_mode": {
    "name": "ipython",
    "version": 3
   },
   "file_extension": ".py",
   "mimetype": "text/x-python",
   "name": "python",
   "nbconvert_exporter": "python",
   "pygments_lexer": "ipython3",
   "version": "3.10.8"
  },
  "orig_nbformat": 4
 },
 "nbformat": 4,
 "nbformat_minor": 2
}
